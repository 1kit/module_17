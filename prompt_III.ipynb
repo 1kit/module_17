{
 "cells": [
  {
   "cell_type": "markdown",
   "metadata": {},
   "source": [
    "# Practical Application III: Comparing Classifiers\n",
    "\n",
    "**Overview**: In this practical application, your goal is to compare the performance of the classifiers we encountered in this section, namely K Nearest Neighbor, Logistic Regression, Decision Trees, and Support Vector Machines.  We will utilize a dataset related to marketing bank products over the telephone.  \n",
    "\n"
   ]
  },
  {
   "cell_type": "markdown",
   "metadata": {},
   "source": [
    "### Getting Started\n",
    "\n",
    "Our dataset comes from the UCI Machine Learning repository [link](https://archive.ics.uci.edu/ml/datasets/bank+marketing).  The data is from a Portugese banking institution and is a collection of the results of multiple marketing campaigns.  We will make use of the article accompanying the dataset [here](CRISP-DM-BANK.pdf) for more information on the data and features.\n",
    "\n"
   ]
  },
  {
   "cell_type": "markdown",
   "metadata": {},
   "source": [
    "### Problem 1: Understanding the Data\n",
    "\n",
    "To gain a better understanding of the data, please read the information provided in the UCI link above, and examine the **Materials and Methods** section of the paper.  How many marketing campaigns does this data represent?"
   ]
  },
  {
   "cell_type": "markdown",
   "metadata": {},
   "source": [
    "#### __The dataset collected is related to 17 campaigns that occurred between May 2008 and November 2010, corresponding to a total of 79354 contacts.__"
   ]
  },
  {
   "cell_type": "markdown",
   "metadata": {},
   "source": [
    "### Problem 2: Read in the Data\n",
    "\n",
    "Use pandas to read in the dataset `bank-additional-full.csv` and assign to a meaningful variable name."
   ]
  },
  {
   "cell_type": "code",
   "execution_count": 1,
   "metadata": {
    "tags": []
   },
   "outputs": [],
   "source": [
    "import pandas as pd\n",
    "import numpy as np\n",
    "import matplotlib.pyplot as plt\n",
    "import seaborn as sns\n",
    "import warnings\n",
    "import time \n",
    "\n",
    "from sklearn.preprocessing import StandardScaler, OneHotEncoder\n",
    "from sklearn.pipeline import Pipeline\n",
    "from sklearn.compose import make_column_transformer\n",
    "from sklearn.feature_selection import SelectFromModel\n",
    "from sklearn.linear_model import LogisticRegression\n",
    "from sklearn.neighbors import KNeighborsClassifier\n",
    "from sklearn.tree import DecisionTreeClassifier, export_text\n",
    "from sklearn.svm import SVC\n",
    "from sklearn.model_selection import train_test_split, GridSearchCV\n",
    "from sklearn.metrics import confusion_matrix, precision_score, recall_score, accuracy_score, ConfusionMatrixDisplay\n",
    "from sklearn.metrics import classification_report\n",
    "\n",
    "\n",
    "warnings.simplefilter(action='ignore', category=FutureWarning)\n",
    "\n",
    "from sklearn import set_config\n",
    "set_config(display=\"diagram\")"
   ]
  },
  {
   "cell_type": "code",
   "execution_count": 2,
   "metadata": {
    "tags": []
   },
   "outputs": [],
   "source": [
    "df = pd.read_csv('data/bank-additional-full.csv', sep = ';')"
   ]
  },
  {
   "cell_type": "code",
   "execution_count": 3,
   "metadata": {
    "tags": []
   },
   "outputs": [
    {
     "data": {
      "text/html": [
       "<div>\n",
       "<style scoped>\n",
       "    .dataframe tbody tr th:only-of-type {\n",
       "        vertical-align: middle;\n",
       "    }\n",
       "\n",
       "    .dataframe tbody tr th {\n",
       "        vertical-align: top;\n",
       "    }\n",
       "\n",
       "    .dataframe thead th {\n",
       "        text-align: right;\n",
       "    }\n",
       "</style>\n",
       "<table border=\"1\" class=\"dataframe\">\n",
       "  <thead>\n",
       "    <tr style=\"text-align: right;\">\n",
       "      <th></th>\n",
       "      <th>age</th>\n",
       "      <th>job</th>\n",
       "      <th>marital</th>\n",
       "      <th>education</th>\n",
       "      <th>default</th>\n",
       "      <th>housing</th>\n",
       "      <th>loan</th>\n",
       "      <th>contact</th>\n",
       "      <th>month</th>\n",
       "      <th>day_of_week</th>\n",
       "      <th>...</th>\n",
       "      <th>campaign</th>\n",
       "      <th>pdays</th>\n",
       "      <th>previous</th>\n",
       "      <th>poutcome</th>\n",
       "      <th>emp.var.rate</th>\n",
       "      <th>cons.price.idx</th>\n",
       "      <th>cons.conf.idx</th>\n",
       "      <th>euribor3m</th>\n",
       "      <th>nr.employed</th>\n",
       "      <th>y</th>\n",
       "    </tr>\n",
       "  </thead>\n",
       "  <tbody>\n",
       "    <tr>\n",
       "      <th>0</th>\n",
       "      <td>56</td>\n",
       "      <td>housemaid</td>\n",
       "      <td>married</td>\n",
       "      <td>basic.4y</td>\n",
       "      <td>no</td>\n",
       "      <td>no</td>\n",
       "      <td>no</td>\n",
       "      <td>telephone</td>\n",
       "      <td>may</td>\n",
       "      <td>mon</td>\n",
       "      <td>...</td>\n",
       "      <td>1</td>\n",
       "      <td>999</td>\n",
       "      <td>0</td>\n",
       "      <td>nonexistent</td>\n",
       "      <td>1.1</td>\n",
       "      <td>93.994</td>\n",
       "      <td>-36.4</td>\n",
       "      <td>4.857</td>\n",
       "      <td>5191.0</td>\n",
       "      <td>no</td>\n",
       "    </tr>\n",
       "    <tr>\n",
       "      <th>1</th>\n",
       "      <td>57</td>\n",
       "      <td>services</td>\n",
       "      <td>married</td>\n",
       "      <td>high.school</td>\n",
       "      <td>unknown</td>\n",
       "      <td>no</td>\n",
       "      <td>no</td>\n",
       "      <td>telephone</td>\n",
       "      <td>may</td>\n",
       "      <td>mon</td>\n",
       "      <td>...</td>\n",
       "      <td>1</td>\n",
       "      <td>999</td>\n",
       "      <td>0</td>\n",
       "      <td>nonexistent</td>\n",
       "      <td>1.1</td>\n",
       "      <td>93.994</td>\n",
       "      <td>-36.4</td>\n",
       "      <td>4.857</td>\n",
       "      <td>5191.0</td>\n",
       "      <td>no</td>\n",
       "    </tr>\n",
       "    <tr>\n",
       "      <th>2</th>\n",
       "      <td>37</td>\n",
       "      <td>services</td>\n",
       "      <td>married</td>\n",
       "      <td>high.school</td>\n",
       "      <td>no</td>\n",
       "      <td>yes</td>\n",
       "      <td>no</td>\n",
       "      <td>telephone</td>\n",
       "      <td>may</td>\n",
       "      <td>mon</td>\n",
       "      <td>...</td>\n",
       "      <td>1</td>\n",
       "      <td>999</td>\n",
       "      <td>0</td>\n",
       "      <td>nonexistent</td>\n",
       "      <td>1.1</td>\n",
       "      <td>93.994</td>\n",
       "      <td>-36.4</td>\n",
       "      <td>4.857</td>\n",
       "      <td>5191.0</td>\n",
       "      <td>no</td>\n",
       "    </tr>\n",
       "    <tr>\n",
       "      <th>3</th>\n",
       "      <td>40</td>\n",
       "      <td>admin.</td>\n",
       "      <td>married</td>\n",
       "      <td>basic.6y</td>\n",
       "      <td>no</td>\n",
       "      <td>no</td>\n",
       "      <td>no</td>\n",
       "      <td>telephone</td>\n",
       "      <td>may</td>\n",
       "      <td>mon</td>\n",
       "      <td>...</td>\n",
       "      <td>1</td>\n",
       "      <td>999</td>\n",
       "      <td>0</td>\n",
       "      <td>nonexistent</td>\n",
       "      <td>1.1</td>\n",
       "      <td>93.994</td>\n",
       "      <td>-36.4</td>\n",
       "      <td>4.857</td>\n",
       "      <td>5191.0</td>\n",
       "      <td>no</td>\n",
       "    </tr>\n",
       "    <tr>\n",
       "      <th>4</th>\n",
       "      <td>56</td>\n",
       "      <td>services</td>\n",
       "      <td>married</td>\n",
       "      <td>high.school</td>\n",
       "      <td>no</td>\n",
       "      <td>no</td>\n",
       "      <td>yes</td>\n",
       "      <td>telephone</td>\n",
       "      <td>may</td>\n",
       "      <td>mon</td>\n",
       "      <td>...</td>\n",
       "      <td>1</td>\n",
       "      <td>999</td>\n",
       "      <td>0</td>\n",
       "      <td>nonexistent</td>\n",
       "      <td>1.1</td>\n",
       "      <td>93.994</td>\n",
       "      <td>-36.4</td>\n",
       "      <td>4.857</td>\n",
       "      <td>5191.0</td>\n",
       "      <td>no</td>\n",
       "    </tr>\n",
       "  </tbody>\n",
       "</table>\n",
       "<p>5 rows × 21 columns</p>\n",
       "</div>"
      ],
      "text/plain": [
       "   age        job  marital    education  default housing loan    contact  \\\n",
       "0   56  housemaid  married     basic.4y       no      no   no  telephone   \n",
       "1   57   services  married  high.school  unknown      no   no  telephone   \n",
       "2   37   services  married  high.school       no     yes   no  telephone   \n",
       "3   40     admin.  married     basic.6y       no      no   no  telephone   \n",
       "4   56   services  married  high.school       no      no  yes  telephone   \n",
       "\n",
       "  month day_of_week  ...  campaign  pdays  previous     poutcome emp.var.rate  \\\n",
       "0   may         mon  ...         1    999         0  nonexistent          1.1   \n",
       "1   may         mon  ...         1    999         0  nonexistent          1.1   \n",
       "2   may         mon  ...         1    999         0  nonexistent          1.1   \n",
       "3   may         mon  ...         1    999         0  nonexistent          1.1   \n",
       "4   may         mon  ...         1    999         0  nonexistent          1.1   \n",
       "\n",
       "   cons.price.idx  cons.conf.idx  euribor3m  nr.employed   y  \n",
       "0          93.994          -36.4      4.857       5191.0  no  \n",
       "1          93.994          -36.4      4.857       5191.0  no  \n",
       "2          93.994          -36.4      4.857       5191.0  no  \n",
       "3          93.994          -36.4      4.857       5191.0  no  \n",
       "4          93.994          -36.4      4.857       5191.0  no  \n",
       "\n",
       "[5 rows x 21 columns]"
      ]
     },
     "execution_count": 3,
     "metadata": {},
     "output_type": "execute_result"
    }
   ],
   "source": [
    "df.head()"
   ]
  },
  {
   "cell_type": "markdown",
   "metadata": {},
   "source": [
    "### Problem 3: Understanding the Features\n",
    "\n",
    "\n",
    "Examine the data description below, and determine if any of the features are missing values or need to be coerced to a different data type.\n",
    "\n",
    "\n",
    "```\n",
    "Input variables:\n",
    "# bank client data:\n",
    "1 - age (numeric)\n",
    "2 - job : type of job (categorical: 'admin.','blue-collar','entrepreneur','housemaid','management','retired','self-employed','services','student','technician','unemployed','unknown')\n",
    "3 - marital : marital status (categorical: 'divorced','married','single','unknown'; note: 'divorced' means divorced or widowed)\n",
    "4 - education (categorical: 'basic.4y','basic.6y','basic.9y','high.school','illiterate','professional.course','university.degree','unknown')\n",
    "5 - default: has credit in default? (categorical: 'no','yes','unknown')\n",
    "6 - housing: has housing loan? (categorical: 'no','yes','unknown')\n",
    "7 - loan: has personal loan? (categorical: 'no','yes','unknown')\n",
    "# related with the last contact of the current campaign:\n",
    "8 - contact: contact communication type (categorical: 'cellular','telephone')\n",
    "9 - month: last contact month of year (categorical: 'jan', 'feb', 'mar', ..., 'nov', 'dec')\n",
    "10 - day_of_week: last contact day of the week (categorical: 'mon','tue','wed','thu','fri')\n",
    "11 - duration: last contact duration, in seconds (numeric). Important note: this attribute highly affects the output target (e.g., if duration=0 then y='no'). Yet, the duration is not known before a call is performed. Also, after the end of the call y is obviously known. Thus, this input should only be included for benchmark purposes and should be discarded if the intention is to have a realistic predictive model.\n",
    "# other attributes:\n",
    "12 - campaign: number of contacts performed during this campaign and for this client (numeric, includes last contact)\n",
    "13 - pdays: number of days that passed by after the client was last contacted from a previous campaign (numeric; 999 means client was not previously contacted)\n",
    "14 - previous: number of contacts performed before this campaign and for this client (numeric)\n",
    "15 - poutcome: outcome of the previous marketing campaign (categorical: 'failure','nonexistent','success')\n",
    "# social and economic context attributes\n",
    "16 - emp.var.rate: employment variation rate - quarterly indicator (numeric)\n",
    "17 - cons.price.idx: consumer price index - monthly indicator (numeric)\n",
    "18 - cons.conf.idx: consumer confidence index - monthly indicator (numeric)\n",
    "19 - euribor3m: euribor 3 month rate - daily indicator (numeric)\n",
    "20 - nr.employed: number of employees - quarterly indicator (numeric)\n",
    "\n",
    "Output variable (desired target):\n",
    "21 - y - has the client subscribed a term deposit? (binary: 'yes','no')\n",
    "```\n",
    "\n"
   ]
  },
  {
   "cell_type": "code",
   "execution_count": 4,
   "metadata": {
    "tags": []
   },
   "outputs": [
    {
     "name": "stdout",
     "output_type": "stream",
     "text": [
      "<class 'pandas.core.frame.DataFrame'>\n",
      "RangeIndex: 41188 entries, 0 to 41187\n",
      "Data columns (total 21 columns):\n",
      " #   Column          Non-Null Count  Dtype  \n",
      "---  ------          --------------  -----  \n",
      " 0   age             41188 non-null  int64  \n",
      " 1   job             41188 non-null  object \n",
      " 2   marital         41188 non-null  object \n",
      " 3   education       41188 non-null  object \n",
      " 4   default         41188 non-null  object \n",
      " 5   housing         41188 non-null  object \n",
      " 6   loan            41188 non-null  object \n",
      " 7   contact         41188 non-null  object \n",
      " 8   month           41188 non-null  object \n",
      " 9   day_of_week     41188 non-null  object \n",
      " 10  duration        41188 non-null  int64  \n",
      " 11  campaign        41188 non-null  int64  \n",
      " 12  pdays           41188 non-null  int64  \n",
      " 13  previous        41188 non-null  int64  \n",
      " 14  poutcome        41188 non-null  object \n",
      " 15  emp.var.rate    41188 non-null  float64\n",
      " 16  cons.price.idx  41188 non-null  float64\n",
      " 17  cons.conf.idx   41188 non-null  float64\n",
      " 18  euribor3m       41188 non-null  float64\n",
      " 19  nr.employed     41188 non-null  float64\n",
      " 20  y               41188 non-null  object \n",
      "dtypes: float64(5), int64(5), object(11)\n",
      "memory usage: 6.6+ MB\n"
     ]
    }
   ],
   "source": [
    "df.info()"
   ]
  },
  {
   "cell_type": "markdown",
   "metadata": {},
   "source": [
    "#### __No missing data__"
   ]
  },
  {
   "cell_type": "code",
   "execution_count": 5,
   "metadata": {
    "tags": []
   },
   "outputs": [
    {
     "data": {
      "text/plain": [
       "age               0\n",
       "job               0\n",
       "marital           0\n",
       "education         0\n",
       "default           0\n",
       "housing           0\n",
       "loan              0\n",
       "contact           0\n",
       "month             0\n",
       "day_of_week       0\n",
       "duration          0\n",
       "campaign          0\n",
       "pdays             0\n",
       "previous          0\n",
       "poutcome          0\n",
       "emp.var.rate      0\n",
       "cons.price.idx    0\n",
       "cons.conf.idx     0\n",
       "euribor3m         0\n",
       "nr.employed       0\n",
       "y                 0\n",
       "dtype: int64"
      ]
     },
     "execution_count": 5,
     "metadata": {},
     "output_type": "execute_result"
    }
   ],
   "source": [
    "df.isna().sum()"
   ]
  },
  {
   "cell_type": "markdown",
   "metadata": {},
   "source": [
    "#### __Dropped the 12 duplicate entries__"
   ]
  },
  {
   "cell_type": "code",
   "execution_count": 6,
   "metadata": {
    "tags": []
   },
   "outputs": [
    {
     "data": {
      "text/plain": [
       "12"
      ]
     },
     "execution_count": 6,
     "metadata": {},
     "output_type": "execute_result"
    }
   ],
   "source": [
    "df.duplicated().sum()"
   ]
  },
  {
   "cell_type": "code",
   "execution_count": 7,
   "metadata": {
    "tags": []
   },
   "outputs": [
    {
     "data": {
      "text/plain": [
       "0"
      ]
     },
     "execution_count": 7,
     "metadata": {},
     "output_type": "execute_result"
    }
   ],
   "source": [
    "df = df.drop_duplicates()\n",
    "df.duplicated().sum()"
   ]
  },
  {
   "cell_type": "markdown",
   "metadata": {
    "tags": []
   },
   "source": [
    "#### __Lets examine the spread of the output variable__"
   ]
  },
  {
   "cell_type": "code",
   "execution_count": 8,
   "metadata": {
    "tags": []
   },
   "outputs": [
    {
     "name": "stdout",
     "output_type": "stream",
     "text": [
      "y\n",
      "no     0.887337\n",
      "yes    0.112663\n",
      "Name: proportion, dtype: float64\n"
     ]
    },
    {
     "data": {
      "text/plain": [
       "<Axes: >"
      ]
     },
     "execution_count": 8,
     "metadata": {},
     "output_type": "execute_result"
    },
    {
     "data": {
      "image/png": "[encoded data removed]",
      "text/plain": [
       "<Figure size 640x480 with 1 Axes>"
      ]
     },
     "metadata": {},
     "output_type": "display_data"
    }
   ],
   "source": [
    "print(df['y'].value_counts(normalize = True))\n",
    "df['y'].hist()"
   ]
  },
  {
   "cell_type": "markdown",
   "metadata": {},
   "source": [
    "#### __Significant amount of mismatch with only 11% of success with the direct marketing campaign__"
   ]
  },
  {
   "cell_type": "markdown",
   "metadata": {},
   "source": [
    "### Problem 4: Understanding the Task\n",
    "\n",
    "After examining the description and data, your goal now is to clearly state the *Business Objective* of the task.  State the objective below."
   ]
  },
  {
   "cell_type": "markdown",
   "metadata": {
    "tags": []
   },
   "source": [
    "#### __Business goal__\n",
    "\n",
    "- Find a model that can explain success of a contact - if the client subscribes to the deposit.\n",
    "- Discover what are the main characteristics that affect success.\n",
    "- Help in a better management of the available resources (Human Effort, phone calls, time)\n",
    "- Selection of high qualifty and affordable set of potential buying customers.\n",
    "\n"
   ]
  },
  {
   "cell_type": "markdown",
   "metadata": {},
   "source": [
    "### Problem 5: Engineering Features\n",
    "\n",
    "Now that you understand your business objective, we will build a basic model to get started.  Before we can do this, we must work to encode the data.  Using just the bank information features, prepare the features and target column for modeling with appropriate encoding and transformations."
   ]
  },
  {
   "cell_type": "markdown",
   "metadata": {
    "tags": []
   },
   "source": [
    "#### __Lets look at the categorical features__"
   ]
  },
  {
   "cell_type": "code",
   "execution_count": 9,
   "metadata": {
    "tags": []
   },
   "outputs": [
    {
     "name": "stdout",
     "output_type": "stream",
     "text": [
      "job  =>  ['housemaid' 'services' 'admin.' 'blue-collar' 'technician' 'retired'\n",
      " 'management' 'unemployed' 'self-employed' 'unknown' 'entrepreneur'\n",
      " 'student']\n",
      "marital  =>  ['married' 'single' 'divorced' 'unknown']\n",
      "education  =>  ['basic.4y' 'high.school' 'basic.6y' 'basic.9y' 'professional.course'\n",
      " 'unknown' 'university.degree' 'illiterate']\n",
      "default  =>  ['no' 'unknown' 'yes']\n",
      "housing  =>  ['no' 'yes' 'unknown']\n",
      "loan  =>  ['no' 'yes' 'unknown']\n",
      "contact  =>  ['telephone' 'cellular']\n",
      "month  =>  ['may' 'jun' 'jul' 'aug' 'oct' 'nov' 'dec' 'mar' 'apr' 'sep']\n",
      "day_of_week  =>  ['mon' 'tue' 'wed' 'thu' 'fri']\n",
      "poutcome  =>  ['nonexistent' 'failure' 'success']\n",
      "y  =>  ['no' 'yes']\n"
     ]
    }
   ],
   "source": [
    "df_ = df.select_dtypes(exclude=['int', 'float'])\n",
    "for col in df_.columns:\n",
    "    print(col, ' => ', df_[col].unique())"
   ]
  },
  {
   "cell_type": "markdown",
   "metadata": {},
   "source": [
    "##### __Perform some simple transformations__\n",
    "- Column `default` : Treat `no` and `unknown` as 0 and `yes` as 1\n",
    "- Column `housing` : Treat `no` and `unknown` as 0 and `yes` as 1\n",
    "- Column `loan` : Treat `no` and `unknown` as 0 and `yes` as 1\n",
    "- Drop column `contact` : It does not seem very interesting as a predictor\n",
    "- Drop column `poutcome` : This does not seem very interesting as a predictor\n",
    "- Column `y` : Treat `no` as 0 and `yes` as 1"
   ]
  },
  {
   "cell_type": "code",
   "execution_count": 10,
   "metadata": {
    "tags": []
   },
   "outputs": [
    {
     "data": {
      "text/html": [
       "<div>\n",
       "<style scoped>\n",
       "    .dataframe tbody tr th:only-of-type {\n",
       "        vertical-align: middle;\n",
       "    }\n",
       "\n",
       "    .dataframe tbody tr th {\n",
       "        vertical-align: top;\n",
       "    }\n",
       "\n",
       "    .dataframe thead th {\n",
       "        text-align: right;\n",
       "    }\n",
       "</style>\n",
       "<table border=\"1\" class=\"dataframe\">\n",
       "  <thead>\n",
       "    <tr style=\"text-align: right;\">\n",
       "      <th></th>\n",
       "      <th>age</th>\n",
       "      <th>job</th>\n",
       "      <th>marital</th>\n",
       "      <th>education</th>\n",
       "      <th>default</th>\n",
       "      <th>housing</th>\n",
       "      <th>loan</th>\n",
       "      <th>month</th>\n",
       "      <th>day_of_week</th>\n",
       "      <th>duration</th>\n",
       "      <th>campaign</th>\n",
       "      <th>pdays</th>\n",
       "      <th>previous</th>\n",
       "      <th>emp.var.rate</th>\n",
       "      <th>cons.price.idx</th>\n",
       "      <th>cons.conf.idx</th>\n",
       "      <th>euribor3m</th>\n",
       "      <th>nr.employed</th>\n",
       "      <th>y</th>\n",
       "    </tr>\n",
       "  </thead>\n",
       "  <tbody>\n",
       "    <tr>\n",
       "      <th>0</th>\n",
       "      <td>56</td>\n",
       "      <td>housemaid</td>\n",
       "      <td>married</td>\n",
       "      <td>basic.4y</td>\n",
       "      <td>0</td>\n",
       "      <td>0</td>\n",
       "      <td>0</td>\n",
       "      <td>may</td>\n",
       "      <td>mon</td>\n",
       "      <td>261</td>\n",
       "      <td>1</td>\n",
       "      <td>999</td>\n",
       "      <td>0</td>\n",
       "      <td>1.1</td>\n",
       "      <td>93.994</td>\n",
       "      <td>-36.4</td>\n",
       "      <td>4.857</td>\n",
       "      <td>5191.0</td>\n",
       "      <td>0</td>\n",
       "    </tr>\n",
       "    <tr>\n",
       "      <th>1</th>\n",
       "      <td>57</td>\n",
       "      <td>services</td>\n",
       "      <td>married</td>\n",
       "      <td>high.school</td>\n",
       "      <td>0</td>\n",
       "      <td>0</td>\n",
       "      <td>0</td>\n",
       "      <td>may</td>\n",
       "      <td>mon</td>\n",
       "      <td>149</td>\n",
       "      <td>1</td>\n",
       "      <td>999</td>\n",
       "      <td>0</td>\n",
       "      <td>1.1</td>\n",
       "      <td>93.994</td>\n",
       "      <td>-36.4</td>\n",
       "      <td>4.857</td>\n",
       "      <td>5191.0</td>\n",
       "      <td>0</td>\n",
       "    </tr>\n",
       "    <tr>\n",
       "      <th>2</th>\n",
       "      <td>37</td>\n",
       "      <td>services</td>\n",
       "      <td>married</td>\n",
       "      <td>high.school</td>\n",
       "      <td>0</td>\n",
       "      <td>1</td>\n",
       "      <td>0</td>\n",
       "      <td>may</td>\n",
       "      <td>mon</td>\n",
       "      <td>226</td>\n",
       "      <td>1</td>\n",
       "      <td>999</td>\n",
       "      <td>0</td>\n",
       "      <td>1.1</td>\n",
       "      <td>93.994</td>\n",
       "      <td>-36.4</td>\n",
       "      <td>4.857</td>\n",
       "      <td>5191.0</td>\n",
       "      <td>0</td>\n",
       "    </tr>\n",
       "    <tr>\n",
       "      <th>3</th>\n",
       "      <td>40</td>\n",
       "      <td>admin.</td>\n",
       "      <td>married</td>\n",
       "      <td>basic.6y</td>\n",
       "      <td>0</td>\n",
       "      <td>0</td>\n",
       "      <td>0</td>\n",
       "      <td>may</td>\n",
       "      <td>mon</td>\n",
       "      <td>151</td>\n",
       "      <td>1</td>\n",
       "      <td>999</td>\n",
       "      <td>0</td>\n",
       "      <td>1.1</td>\n",
       "      <td>93.994</td>\n",
       "      <td>-36.4</td>\n",
       "      <td>4.857</td>\n",
       "      <td>5191.0</td>\n",
       "      <td>0</td>\n",
       "    </tr>\n",
       "    <tr>\n",
       "      <th>4</th>\n",
       "      <td>56</td>\n",
       "      <td>services</td>\n",
       "      <td>married</td>\n",
       "      <td>high.school</td>\n",
       "      <td>0</td>\n",
       "      <td>0</td>\n",
       "      <td>1</td>\n",
       "      <td>may</td>\n",
       "      <td>mon</td>\n",
       "      <td>307</td>\n",
       "      <td>1</td>\n",
       "      <td>999</td>\n",
       "      <td>0</td>\n",
       "      <td>1.1</td>\n",
       "      <td>93.994</td>\n",
       "      <td>-36.4</td>\n",
       "      <td>4.857</td>\n",
       "      <td>5191.0</td>\n",
       "      <td>0</td>\n",
       "    </tr>\n",
       "    <tr>\n",
       "      <th>...</th>\n",
       "      <td>...</td>\n",
       "      <td>...</td>\n",
       "      <td>...</td>\n",
       "      <td>...</td>\n",
       "      <td>...</td>\n",
       "      <td>...</td>\n",
       "      <td>...</td>\n",
       "      <td>...</td>\n",
       "      <td>...</td>\n",
       "      <td>...</td>\n",
       "      <td>...</td>\n",
       "      <td>...</td>\n",
       "      <td>...</td>\n",
       "      <td>...</td>\n",
       "      <td>...</td>\n",
       "      <td>...</td>\n",
       "      <td>...</td>\n",
       "      <td>...</td>\n",
       "      <td>...</td>\n",
       "    </tr>\n",
       "    <tr>\n",
       "      <th>41183</th>\n",
       "      <td>73</td>\n",
       "      <td>retired</td>\n",
       "      <td>married</td>\n",
       "      <td>professional.course</td>\n",
       "      <td>0</td>\n",
       "      <td>1</td>\n",
       "      <td>0</td>\n",
       "      <td>nov</td>\n",
       "      <td>fri</td>\n",
       "      <td>334</td>\n",
       "      <td>1</td>\n",
       "      <td>999</td>\n",
       "      <td>0</td>\n",
       "      <td>-1.1</td>\n",
       "      <td>94.767</td>\n",
       "      <td>-50.8</td>\n",
       "      <td>1.028</td>\n",
       "      <td>4963.6</td>\n",
       "      <td>1</td>\n",
       "    </tr>\n",
       "    <tr>\n",
       "      <th>41184</th>\n",
       "      <td>46</td>\n",
       "      <td>blue-collar</td>\n",
       "      <td>married</td>\n",
       "      <td>professional.course</td>\n",
       "      <td>0</td>\n",
       "      <td>0</td>\n",
       "      <td>0</td>\n",
       "      <td>nov</td>\n",
       "      <td>fri</td>\n",
       "      <td>383</td>\n",
       "      <td>1</td>\n",
       "      <td>999</td>\n",
       "      <td>0</td>\n",
       "      <td>-1.1</td>\n",
       "      <td>94.767</td>\n",
       "      <td>-50.8</td>\n",
       "      <td>1.028</td>\n",
       "      <td>4963.6</td>\n",
       "      <td>0</td>\n",
       "    </tr>\n",
       "    <tr>\n",
       "      <th>41185</th>\n",
       "      <td>56</td>\n",
       "      <td>retired</td>\n",
       "      <td>married</td>\n",
       "      <td>university.degree</td>\n",
       "      <td>0</td>\n",
       "      <td>1</td>\n",
       "      <td>0</td>\n",
       "      <td>nov</td>\n",
       "      <td>fri</td>\n",
       "      <td>189</td>\n",
       "      <td>2</td>\n",
       "      <td>999</td>\n",
       "      <td>0</td>\n",
       "      <td>-1.1</td>\n",
       "      <td>94.767</td>\n",
       "      <td>-50.8</td>\n",
       "      <td>1.028</td>\n",
       "      <td>4963.6</td>\n",
       "      <td>0</td>\n",
       "    </tr>\n",
       "    <tr>\n",
       "      <th>41186</th>\n",
       "      <td>44</td>\n",
       "      <td>technician</td>\n",
       "      <td>married</td>\n",
       "      <td>professional.course</td>\n",
       "      <td>0</td>\n",
       "      <td>0</td>\n",
       "      <td>0</td>\n",
       "      <td>nov</td>\n",
       "      <td>fri</td>\n",
       "      <td>442</td>\n",
       "      <td>1</td>\n",
       "      <td>999</td>\n",
       "      <td>0</td>\n",
       "      <td>-1.1</td>\n",
       "      <td>94.767</td>\n",
       "      <td>-50.8</td>\n",
       "      <td>1.028</td>\n",
       "      <td>4963.6</td>\n",
       "      <td>1</td>\n",
       "    </tr>\n",
       "    <tr>\n",
       "      <th>41187</th>\n",
       "      <td>74</td>\n",
       "      <td>retired</td>\n",
       "      <td>married</td>\n",
       "      <td>professional.course</td>\n",
       "      <td>0</td>\n",
       "      <td>1</td>\n",
       "      <td>0</td>\n",
       "      <td>nov</td>\n",
       "      <td>fri</td>\n",
       "      <td>239</td>\n",
       "      <td>3</td>\n",
       "      <td>999</td>\n",
       "      <td>1</td>\n",
       "      <td>-1.1</td>\n",
       "      <td>94.767</td>\n",
       "      <td>-50.8</td>\n",
       "      <td>1.028</td>\n",
       "      <td>4963.6</td>\n",
       "      <td>0</td>\n",
       "    </tr>\n",
       "  </tbody>\n",
       "</table>\n",
       "<p>41176 rows × 19 columns</p>\n",
       "</div>"
      ],
      "text/plain": [
       "       age          job  marital            education  default  housing  loan  \\\n",
       "0       56    housemaid  married             basic.4y        0        0     0   \n",
       "1       57     services  married          high.school        0        0     0   \n",
       "2       37     services  married          high.school        0        1     0   \n",
       "3       40       admin.  married             basic.6y        0        0     0   \n",
       "4       56     services  married          high.school        0        0     1   \n",
       "...    ...          ...      ...                  ...      ...      ...   ...   \n",
       "41183   73      retired  married  professional.course        0        1     0   \n",
       "41184   46  blue-collar  married  professional.course        0        0     0   \n",
       "41185   56      retired  married    university.degree        0        1     0   \n",
       "41186   44   technician  married  professional.course        0        0     0   \n",
       "41187   74      retired  married  professional.course        0        1     0   \n",
       "\n",
       "      month day_of_week  duration  campaign  pdays  previous  emp.var.rate  \\\n",
       "0       may         mon       261         1    999         0           1.1   \n",
       "1       may         mon       149         1    999         0           1.1   \n",
       "2       may         mon       226         1    999         0           1.1   \n",
       "3       may         mon       151         1    999         0           1.1   \n",
       "4       may         mon       307         1    999         0           1.1   \n",
       "...     ...         ...       ...       ...    ...       ...           ...   \n",
       "41183   nov         fri       334         1    999         0          -1.1   \n",
       "41184   nov         fri       383         1    999         0          -1.1   \n",
       "41185   nov         fri       189         2    999         0          -1.1   \n",
       "41186   nov         fri       442         1    999         0          -1.1   \n",
       "41187   nov         fri       239         3    999         1          -1.1   \n",
       "\n",
       "       cons.price.idx  cons.conf.idx  euribor3m  nr.employed  y  \n",
       "0              93.994          -36.4      4.857       5191.0  0  \n",
       "1              93.994          -36.4      4.857       5191.0  0  \n",
       "2              93.994          -36.4      4.857       5191.0  0  \n",
       "3              93.994          -36.4      4.857       5191.0  0  \n",
       "4              93.994          -36.4      4.857       5191.0  0  \n",
       "...               ...            ...        ...          ... ..  \n",
       "41183          94.767          -50.8      1.028       4963.6  1  \n",
       "41184          94.767          -50.8      1.028       4963.6  0  \n",
       "41185          94.767          -50.8      1.028       4963.6  0  \n",
       "41186          94.767          -50.8      1.028       4963.6  1  \n",
       "41187          94.767          -50.8      1.028       4963.6  0  \n",
       "\n",
       "[41176 rows x 19 columns]"
      ]
     },
     "execution_count": 10,
     "metadata": {},
     "output_type": "execute_result"
    }
   ],
   "source": [
    "for col in ['default', 'housing', 'loan']:\n",
    "    df[col] = df[col].map({'no':0, 'unknown':0, 'yes':1}).apply(pd.to_numeric)\n",
    "\n",
    "df = df.drop(['contact'], axis=1)\n",
    "df = df.drop(['poutcome'], axis=1)\n",
    "df['y'] = df['y'].map({'no':0, 'yes':1}).apply(pd.to_numeric)\n",
    "df"
   ]
  },
  {
   "cell_type": "markdown",
   "metadata": {},
   "source": [
    "#### __Lets look at the non-categorical features__\n"
   ]
  },
  {
   "cell_type": "code",
   "execution_count": 11,
   "metadata": {
    "tags": []
   },
   "outputs": [
    {
     "data": {
      "text/html": [
       "<div>\n",
       "<style scoped>\n",
       "    .dataframe tbody tr th:only-of-type {\n",
       "        vertical-align: middle;\n",
       "    }\n",
       "\n",
       "    .dataframe tbody tr th {\n",
       "        vertical-align: top;\n",
       "    }\n",
       "\n",
       "    .dataframe thead th {\n",
       "        text-align: right;\n",
       "    }\n",
       "</style>\n",
       "<table border=\"1\" class=\"dataframe\">\n",
       "  <thead>\n",
       "    <tr style=\"text-align: right;\">\n",
       "      <th></th>\n",
       "      <th>unique</th>\n",
       "    </tr>\n",
       "  </thead>\n",
       "  <tbody>\n",
       "    <tr>\n",
       "      <th>age</th>\n",
       "      <td>[56, 57, 37, 40, 45, 59, 41, 24, 25, 29, 35, 5...</td>\n",
       "    </tr>\n",
       "    <tr>\n",
       "      <th>job</th>\n",
       "      <td>[housemaid, services, admin., blue-collar, tec...</td>\n",
       "    </tr>\n",
       "    <tr>\n",
       "      <th>marital</th>\n",
       "      <td>[married, single, divorced, unknown]</td>\n",
       "    </tr>\n",
       "    <tr>\n",
       "      <th>education</th>\n",
       "      <td>[basic.4y, high.school, basic.6y, basic.9y, pr...</td>\n",
       "    </tr>\n",
       "    <tr>\n",
       "      <th>default</th>\n",
       "      <td>[0, 1]</td>\n",
       "    </tr>\n",
       "    <tr>\n",
       "      <th>housing</th>\n",
       "      <td>[0, 1]</td>\n",
       "    </tr>\n",
       "    <tr>\n",
       "      <th>loan</th>\n",
       "      <td>[0, 1]</td>\n",
       "    </tr>\n",
       "    <tr>\n",
       "      <th>month</th>\n",
       "      <td>[may, jun, jul, aug, oct, nov, dec, mar, apr, ...</td>\n",
       "    </tr>\n",
       "    <tr>\n",
       "      <th>day_of_week</th>\n",
       "      <td>[mon, tue, wed, thu, fri]</td>\n",
       "    </tr>\n",
       "    <tr>\n",
       "      <th>duration</th>\n",
       "      <td>[261, 149, 226, 151, 307, 198, 139, 217, 380, ...</td>\n",
       "    </tr>\n",
       "    <tr>\n",
       "      <th>campaign</th>\n",
       "      <td>[1, 2, 3, 4, 5, 6, 7, 8, 9, 10, 11, 12, 13, 19...</td>\n",
       "    </tr>\n",
       "    <tr>\n",
       "      <th>pdays</th>\n",
       "      <td>[999, 6, 4, 3, 5, 1, 0, 10, 7, 8, 9, 11, 2, 12...</td>\n",
       "    </tr>\n",
       "    <tr>\n",
       "      <th>previous</th>\n",
       "      <td>[0, 1, 2, 3, 4, 5, 6, 7]</td>\n",
       "    </tr>\n",
       "    <tr>\n",
       "      <th>emp.var.rate</th>\n",
       "      <td>[1.1, 1.4, -0.1, -0.2, -1.8, -2.9, -3.4, -3.0,...</td>\n",
       "    </tr>\n",
       "    <tr>\n",
       "      <th>cons.price.idx</th>\n",
       "      <td>[93.994, 94.465, 93.918, 93.444, 93.798, 93.2,...</td>\n",
       "    </tr>\n",
       "    <tr>\n",
       "      <th>cons.conf.idx</th>\n",
       "      <td>[-36.4, -41.8, -42.7, -36.1, -40.4, -42.0, -45...</td>\n",
       "    </tr>\n",
       "    <tr>\n",
       "      <th>euribor3m</th>\n",
       "      <td>[4.857, 4.856, 4.855, 4.859, 4.86, 4.858, 4.86...</td>\n",
       "    </tr>\n",
       "    <tr>\n",
       "      <th>nr.employed</th>\n",
       "      <td>[5191.0, 5228.1, 5195.8, 5176.3, 5099.1, 5076....</td>\n",
       "    </tr>\n",
       "    <tr>\n",
       "      <th>y</th>\n",
       "      <td>[0, 1]</td>\n",
       "    </tr>\n",
       "  </tbody>\n",
       "</table>\n",
       "</div>"
      ],
      "text/plain": [
       "                                                           unique\n",
       "age             [56, 57, 37, 40, 45, 59, 41, 24, 25, 29, 35, 5...\n",
       "job             [housemaid, services, admin., blue-collar, tec...\n",
       "marital                      [married, single, divorced, unknown]\n",
       "education       [basic.4y, high.school, basic.6y, basic.9y, pr...\n",
       "default                                                    [0, 1]\n",
       "housing                                                    [0, 1]\n",
       "loan                                                       [0, 1]\n",
       "month           [may, jun, jul, aug, oct, nov, dec, mar, apr, ...\n",
       "day_of_week                             [mon, tue, wed, thu, fri]\n",
       "duration        [261, 149, 226, 151, 307, 198, 139, 217, 380, ...\n",
       "campaign        [1, 2, 3, 4, 5, 6, 7, 8, 9, 10, 11, 12, 13, 19...\n",
       "pdays           [999, 6, 4, 3, 5, 1, 0, 10, 7, 8, 9, 11, 2, 12...\n",
       "previous                                 [0, 1, 2, 3, 4, 5, 6, 7]\n",
       "emp.var.rate    [1.1, 1.4, -0.1, -0.2, -1.8, -2.9, -3.4, -3.0,...\n",
       "cons.price.idx  [93.994, 94.465, 93.918, 93.444, 93.798, 93.2,...\n",
       "cons.conf.idx   [-36.4, -41.8, -42.7, -36.1, -40.4, -42.0, -45...\n",
       "euribor3m       [4.857, 4.856, 4.855, 4.859, 4.86, 4.858, 4.86...\n",
       "nr.employed     [5191.0, 5228.1, 5195.8, 5176.3, 5099.1, 5076....\n",
       "y                                                          [0, 1]"
      ]
     },
     "execution_count": 11,
     "metadata": {},
     "output_type": "execute_result"
    }
   ],
   "source": [
    "df.agg(['unique']).T "
   ]
  },
  {
   "cell_type": "code",
   "execution_count": 12,
   "metadata": {
    "tags": []
   },
   "outputs": [
    {
     "data": {
      "text/plain": [
       "pdays\n",
       "999    0.963207\n",
       "3      0.010662\n",
       "6      0.010006\n",
       "4      0.002866\n",
       "9      0.001554\n",
       "2      0.001481\n",
       "7      0.001457\n",
       "12     0.001409\n",
       "10     0.001263\n",
       "5      0.001117\n",
       "13     0.000874\n",
       "11     0.000680\n",
       "1      0.000631\n",
       "15     0.000583\n",
       "14     0.000486\n",
       "8      0.000437\n",
       "0      0.000364\n",
       "16     0.000267\n",
       "17     0.000194\n",
       "18     0.000170\n",
       "22     0.000073\n",
       "19     0.000073\n",
       "21     0.000049\n",
       "25     0.000024\n",
       "26     0.000024\n",
       "27     0.000024\n",
       "20     0.000024\n",
       "Name: proportion, dtype: float64"
      ]
     },
     "execution_count": 12,
     "metadata": {},
     "output_type": "execute_result"
    }
   ],
   "source": [
    "df['pdays'].value_counts(normalize = True)"
   ]
  },
  {
   "cell_type": "markdown",
   "metadata": {},
   "source": [
    "#### __Perform simple transformations on non-categorical values__\n",
    "- Column `pdays` : 96% of the `pdays` column is at 999. We can drop this\n",
    "- Column `duration` : As specified it highly affects the output target and cannot be known apriori."
   ]
  },
  {
   "cell_type": "code",
   "execution_count": 13,
   "metadata": {
    "tags": []
   },
   "outputs": [
    {
     "data": {
      "text/html": [
       "<div>\n",
       "<style scoped>\n",
       "    .dataframe tbody tr th:only-of-type {\n",
       "        vertical-align: middle;\n",
       "    }\n",
       "\n",
       "    .dataframe tbody tr th {\n",
       "        vertical-align: top;\n",
       "    }\n",
       "\n",
       "    .dataframe thead th {\n",
       "        text-align: right;\n",
       "    }\n",
       "</style>\n",
       "<table border=\"1\" class=\"dataframe\">\n",
       "  <thead>\n",
       "    <tr style=\"text-align: right;\">\n",
       "      <th></th>\n",
       "      <th>age</th>\n",
       "      <th>job</th>\n",
       "      <th>marital</th>\n",
       "      <th>education</th>\n",
       "      <th>default</th>\n",
       "      <th>housing</th>\n",
       "      <th>loan</th>\n",
       "      <th>month</th>\n",
       "      <th>day_of_week</th>\n",
       "      <th>campaign</th>\n",
       "      <th>previous</th>\n",
       "      <th>emp.var.rate</th>\n",
       "      <th>cons.price.idx</th>\n",
       "      <th>cons.conf.idx</th>\n",
       "      <th>euribor3m</th>\n",
       "      <th>nr.employed</th>\n",
       "      <th>y</th>\n",
       "    </tr>\n",
       "  </thead>\n",
       "  <tbody>\n",
       "    <tr>\n",
       "      <th>0</th>\n",
       "      <td>56</td>\n",
       "      <td>housemaid</td>\n",
       "      <td>married</td>\n",
       "      <td>basic.4y</td>\n",
       "      <td>0</td>\n",
       "      <td>0</td>\n",
       "      <td>0</td>\n",
       "      <td>may</td>\n",
       "      <td>mon</td>\n",
       "      <td>1</td>\n",
       "      <td>0</td>\n",
       "      <td>1.1</td>\n",
       "      <td>93.994</td>\n",
       "      <td>-36.4</td>\n",
       "      <td>4.857</td>\n",
       "      <td>5191.0</td>\n",
       "      <td>0</td>\n",
       "    </tr>\n",
       "    <tr>\n",
       "      <th>1</th>\n",
       "      <td>57</td>\n",
       "      <td>services</td>\n",
       "      <td>married</td>\n",
       "      <td>high.school</td>\n",
       "      <td>0</td>\n",
       "      <td>0</td>\n",
       "      <td>0</td>\n",
       "      <td>may</td>\n",
       "      <td>mon</td>\n",
       "      <td>1</td>\n",
       "      <td>0</td>\n",
       "      <td>1.1</td>\n",
       "      <td>93.994</td>\n",
       "      <td>-36.4</td>\n",
       "      <td>4.857</td>\n",
       "      <td>5191.0</td>\n",
       "      <td>0</td>\n",
       "    </tr>\n",
       "    <tr>\n",
       "      <th>2</th>\n",
       "      <td>37</td>\n",
       "      <td>services</td>\n",
       "      <td>married</td>\n",
       "      <td>high.school</td>\n",
       "      <td>0</td>\n",
       "      <td>1</td>\n",
       "      <td>0</td>\n",
       "      <td>may</td>\n",
       "      <td>mon</td>\n",
       "      <td>1</td>\n",
       "      <td>0</td>\n",
       "      <td>1.1</td>\n",
       "      <td>93.994</td>\n",
       "      <td>-36.4</td>\n",
       "      <td>4.857</td>\n",
       "      <td>5191.0</td>\n",
       "      <td>0</td>\n",
       "    </tr>\n",
       "    <tr>\n",
       "      <th>3</th>\n",
       "      <td>40</td>\n",
       "      <td>admin.</td>\n",
       "      <td>married</td>\n",
       "      <td>basic.6y</td>\n",
       "      <td>0</td>\n",
       "      <td>0</td>\n",
       "      <td>0</td>\n",
       "      <td>may</td>\n",
       "      <td>mon</td>\n",
       "      <td>1</td>\n",
       "      <td>0</td>\n",
       "      <td>1.1</td>\n",
       "      <td>93.994</td>\n",
       "      <td>-36.4</td>\n",
       "      <td>4.857</td>\n",
       "      <td>5191.0</td>\n",
       "      <td>0</td>\n",
       "    </tr>\n",
       "    <tr>\n",
       "      <th>4</th>\n",
       "      <td>56</td>\n",
       "      <td>services</td>\n",
       "      <td>married</td>\n",
       "      <td>high.school</td>\n",
       "      <td>0</td>\n",
       "      <td>0</td>\n",
       "      <td>1</td>\n",
       "      <td>may</td>\n",
       "      <td>mon</td>\n",
       "      <td>1</td>\n",
       "      <td>0</td>\n",
       "      <td>1.1</td>\n",
       "      <td>93.994</td>\n",
       "      <td>-36.4</td>\n",
       "      <td>4.857</td>\n",
       "      <td>5191.0</td>\n",
       "      <td>0</td>\n",
       "    </tr>\n",
       "    <tr>\n",
       "      <th>...</th>\n",
       "      <td>...</td>\n",
       "      <td>...</td>\n",
       "      <td>...</td>\n",
       "      <td>...</td>\n",
       "      <td>...</td>\n",
       "      <td>...</td>\n",
       "      <td>...</td>\n",
       "      <td>...</td>\n",
       "      <td>...</td>\n",
       "      <td>...</td>\n",
       "      <td>...</td>\n",
       "      <td>...</td>\n",
       "      <td>...</td>\n",
       "      <td>...</td>\n",
       "      <td>...</td>\n",
       "      <td>...</td>\n",
       "      <td>...</td>\n",
       "    </tr>\n",
       "    <tr>\n",
       "      <th>41183</th>\n",
       "      <td>73</td>\n",
       "      <td>retired</td>\n",
       "      <td>married</td>\n",
       "      <td>professional.course</td>\n",
       "      <td>0</td>\n",
       "      <td>1</td>\n",
       "      <td>0</td>\n",
       "      <td>nov</td>\n",
       "      <td>fri</td>\n",
       "      <td>1</td>\n",
       "      <td>0</td>\n",
       "      <td>-1.1</td>\n",
       "      <td>94.767</td>\n",
       "      <td>-50.8</td>\n",
       "      <td>1.028</td>\n",
       "      <td>4963.6</td>\n",
       "      <td>1</td>\n",
       "    </tr>\n",
       "    <tr>\n",
       "      <th>41184</th>\n",
       "      <td>46</td>\n",
       "      <td>blue-collar</td>\n",
       "      <td>married</td>\n",
       "      <td>professional.course</td>\n",
       "      <td>0</td>\n",
       "      <td>0</td>\n",
       "      <td>0</td>\n",
       "      <td>nov</td>\n",
       "      <td>fri</td>\n",
       "      <td>1</td>\n",
       "      <td>0</td>\n",
       "      <td>-1.1</td>\n",
       "      <td>94.767</td>\n",
       "      <td>-50.8</td>\n",
       "      <td>1.028</td>\n",
       "      <td>4963.6</td>\n",
       "      <td>0</td>\n",
       "    </tr>\n",
       "    <tr>\n",
       "      <th>41185</th>\n",
       "      <td>56</td>\n",
       "      <td>retired</td>\n",
       "      <td>married</td>\n",
       "      <td>university.degree</td>\n",
       "      <td>0</td>\n",
       "      <td>1</td>\n",
       "      <td>0</td>\n",
       "      <td>nov</td>\n",
       "      <td>fri</td>\n",
       "      <td>2</td>\n",
       "      <td>0</td>\n",
       "      <td>-1.1</td>\n",
       "      <td>94.767</td>\n",
       "      <td>-50.8</td>\n",
       "      <td>1.028</td>\n",
       "      <td>4963.6</td>\n",
       "      <td>0</td>\n",
       "    </tr>\n",
       "    <tr>\n",
       "      <th>41186</th>\n",
       "      <td>44</td>\n",
       "      <td>technician</td>\n",
       "      <td>married</td>\n",
       "      <td>professional.course</td>\n",
       "      <td>0</td>\n",
       "      <td>0</td>\n",
       "      <td>0</td>\n",
       "      <td>nov</td>\n",
       "      <td>fri</td>\n",
       "      <td>1</td>\n",
       "      <td>0</td>\n",
       "      <td>-1.1</td>\n",
       "      <td>94.767</td>\n",
       "      <td>-50.8</td>\n",
       "      <td>1.028</td>\n",
       "      <td>4963.6</td>\n",
       "      <td>1</td>\n",
       "    </tr>\n",
       "    <tr>\n",
       "      <th>41187</th>\n",
       "      <td>74</td>\n",
       "      <td>retired</td>\n",
       "      <td>married</td>\n",
       "      <td>professional.course</td>\n",
       "      <td>0</td>\n",
       "      <td>1</td>\n",
       "      <td>0</td>\n",
       "      <td>nov</td>\n",
       "      <td>fri</td>\n",
       "      <td>3</td>\n",
       "      <td>1</td>\n",
       "      <td>-1.1</td>\n",
       "      <td>94.767</td>\n",
       "      <td>-50.8</td>\n",
       "      <td>1.028</td>\n",
       "      <td>4963.6</td>\n",
       "      <td>0</td>\n",
       "    </tr>\n",
       "  </tbody>\n",
       "</table>\n",
       "<p>41176 rows × 17 columns</p>\n",
       "</div>"
      ],
      "text/plain": [
       "       age          job  marital            education  default  housing  loan  \\\n",
       "0       56    housemaid  married             basic.4y        0        0     0   \n",
       "1       57     services  married          high.school        0        0     0   \n",
       "2       37     services  married          high.school        0        1     0   \n",
       "3       40       admin.  married             basic.6y        0        0     0   \n",
       "4       56     services  married          high.school        0        0     1   \n",
       "...    ...          ...      ...                  ...      ...      ...   ...   \n",
       "41183   73      retired  married  professional.course        0        1     0   \n",
       "41184   46  blue-collar  married  professional.course        0        0     0   \n",
       "41185   56      retired  married    university.degree        0        1     0   \n",
       "41186   44   technician  married  professional.course        0        0     0   \n",
       "41187   74      retired  married  professional.course        0        1     0   \n",
       "\n",
       "      month day_of_week  campaign  previous  emp.var.rate  cons.price.idx  \\\n",
       "0       may         mon         1         0           1.1          93.994   \n",
       "1       may         mon         1         0           1.1          93.994   \n",
       "2       may         mon         1         0           1.1          93.994   \n",
       "3       may         mon         1         0           1.1          93.994   \n",
       "4       may         mon         1         0           1.1          93.994   \n",
       "...     ...         ...       ...       ...           ...             ...   \n",
       "41183   nov         fri         1         0          -1.1          94.767   \n",
       "41184   nov         fri         1         0          -1.1          94.767   \n",
       "41185   nov         fri         2         0          -1.1          94.767   \n",
       "41186   nov         fri         1         0          -1.1          94.767   \n",
       "41187   nov         fri         3         1          -1.1          94.767   \n",
       "\n",
       "       cons.conf.idx  euribor3m  nr.employed  y  \n",
       "0              -36.4      4.857       5191.0  0  \n",
       "1              -36.4      4.857       5191.0  0  \n",
       "2              -36.4      4.857       5191.0  0  \n",
       "3              -36.4      4.857       5191.0  0  \n",
       "4              -36.4      4.857       5191.0  0  \n",
       "...              ...        ...          ... ..  \n",
       "41183          -50.8      1.028       4963.6  1  \n",
       "41184          -50.8      1.028       4963.6  0  \n",
       "41185          -50.8      1.028       4963.6  0  \n",
       "41186          -50.8      1.028       4963.6  1  \n",
       "41187          -50.8      1.028       4963.6  0  \n",
       "\n",
       "[41176 rows x 17 columns]"
      ]
     },
     "execution_count": 13,
     "metadata": {},
     "output_type": "execute_result"
    }
   ],
   "source": [
    "df = df.drop(['pdays'], axis=1)\n",
    "df = df.drop(['duration'], axis=1)\n",
    "df"
   ]
  },
  {
   "cell_type": "markdown",
   "metadata": {
    "tags": []
   },
   "source": [
    "#### __Create transformers to do 1-hot encoding for the categorical features__"
   ]
  },
  {
   "cell_type": "code",
   "execution_count": 14,
   "metadata": {
    "tags": []
   },
   "outputs": [
    {
     "data": {
      "text/html": [
       "<div>\n",
       "<style scoped>\n",
       "    .dataframe tbody tr th:only-of-type {\n",
       "        vertical-align: middle;\n",
       "    }\n",
       "\n",
       "    .dataframe tbody tr th {\n",
       "        vertical-align: top;\n",
       "    }\n",
       "\n",
       "    .dataframe thead th {\n",
       "        text-align: right;\n",
       "    }\n",
       "</style>\n",
       "<table border=\"1\" class=\"dataframe\">\n",
       "  <thead>\n",
       "    <tr style=\"text-align: right;\">\n",
       "      <th></th>\n",
       "      <th>unique</th>\n",
       "    </tr>\n",
       "  </thead>\n",
       "  <tbody>\n",
       "    <tr>\n",
       "      <th>age</th>\n",
       "      <td>[56, 57, 37, 40, 45, 59, 41, 24, 25, 29, 35, 5...</td>\n",
       "    </tr>\n",
       "    <tr>\n",
       "      <th>job</th>\n",
       "      <td>[housemaid, services, admin., blue-collar, tec...</td>\n",
       "    </tr>\n",
       "    <tr>\n",
       "      <th>marital</th>\n",
       "      <td>[married, single, divorced, unknown]</td>\n",
       "    </tr>\n",
       "    <tr>\n",
       "      <th>education</th>\n",
       "      <td>[basic.4y, high.school, basic.6y, basic.9y, pr...</td>\n",
       "    </tr>\n",
       "    <tr>\n",
       "      <th>default</th>\n",
       "      <td>[0, 1]</td>\n",
       "    </tr>\n",
       "    <tr>\n",
       "      <th>housing</th>\n",
       "      <td>[0, 1]</td>\n",
       "    </tr>\n",
       "    <tr>\n",
       "      <th>loan</th>\n",
       "      <td>[0, 1]</td>\n",
       "    </tr>\n",
       "    <tr>\n",
       "      <th>month</th>\n",
       "      <td>[may, jun, jul, aug, oct, nov, dec, mar, apr, ...</td>\n",
       "    </tr>\n",
       "    <tr>\n",
       "      <th>day_of_week</th>\n",
       "      <td>[mon, tue, wed, thu, fri]</td>\n",
       "    </tr>\n",
       "    <tr>\n",
       "      <th>campaign</th>\n",
       "      <td>[1, 2, 3, 4, 5, 6, 7, 8, 9, 10, 11, 12, 13, 19...</td>\n",
       "    </tr>\n",
       "    <tr>\n",
       "      <th>previous</th>\n",
       "      <td>[0, 1, 2, 3, 4, 5, 6, 7]</td>\n",
       "    </tr>\n",
       "    <tr>\n",
       "      <th>emp.var.rate</th>\n",
       "      <td>[1.1, 1.4, -0.1, -0.2, -1.8, -2.9, -3.4, -3.0,...</td>\n",
       "    </tr>\n",
       "    <tr>\n",
       "      <th>cons.price.idx</th>\n",
       "      <td>[93.994, 94.465, 93.918, 93.444, 93.798, 93.2,...</td>\n",
       "    </tr>\n",
       "    <tr>\n",
       "      <th>cons.conf.idx</th>\n",
       "      <td>[-36.4, -41.8, -42.7, -36.1, -40.4, -42.0, -45...</td>\n",
       "    </tr>\n",
       "    <tr>\n",
       "      <th>euribor3m</th>\n",
       "      <td>[4.857, 4.856, 4.855, 4.859, 4.86, 4.858, 4.86...</td>\n",
       "    </tr>\n",
       "    <tr>\n",
       "      <th>nr.employed</th>\n",
       "      <td>[5191.0, 5228.1, 5195.8, 5176.3, 5099.1, 5076....</td>\n",
       "    </tr>\n",
       "    <tr>\n",
       "      <th>y</th>\n",
       "      <td>[0, 1]</td>\n",
       "    </tr>\n",
       "  </tbody>\n",
       "</table>\n",
       "</div>"
      ],
      "text/plain": [
       "                                                           unique\n",
       "age             [56, 57, 37, 40, 45, 59, 41, 24, 25, 29, 35, 5...\n",
       "job             [housemaid, services, admin., blue-collar, tec...\n",
       "marital                      [married, single, divorced, unknown]\n",
       "education       [basic.4y, high.school, basic.6y, basic.9y, pr...\n",
       "default                                                    [0, 1]\n",
       "housing                                                    [0, 1]\n",
       "loan                                                       [0, 1]\n",
       "month           [may, jun, jul, aug, oct, nov, dec, mar, apr, ...\n",
       "day_of_week                             [mon, tue, wed, thu, fri]\n",
       "campaign        [1, 2, 3, 4, 5, 6, 7, 8, 9, 10, 11, 12, 13, 19...\n",
       "previous                                 [0, 1, 2, 3, 4, 5, 6, 7]\n",
       "emp.var.rate    [1.1, 1.4, -0.1, -0.2, -1.8, -2.9, -3.4, -3.0,...\n",
       "cons.price.idx  [93.994, 94.465, 93.918, 93.444, 93.798, 93.2,...\n",
       "cons.conf.idx   [-36.4, -41.8, -42.7, -36.1, -40.4, -42.0, -45...\n",
       "euribor3m       [4.857, 4.856, 4.855, 4.859, 4.86, 4.858, 4.86...\n",
       "nr.employed     [5191.0, 5228.1, 5195.8, 5176.3, 5099.1, 5076....\n",
       "y                                                          [0, 1]"
      ]
     },
     "execution_count": 14,
     "metadata": {},
     "output_type": "execute_result"
    }
   ],
   "source": [
    "df.agg(['unique']).T "
   ]
  },
  {
   "cell_type": "code",
   "execution_count": 15,
   "metadata": {
    "tags": []
   },
   "outputs": [],
   "source": [
    "categorical_col = ['job', 'marital', 'education', 'month', 'day_of_week']\n"
   ]
  },
  {
   "cell_type": "markdown",
   "metadata": {},
   "source": [
    "##### __The following transformer is not working with DecisionTrees. Hence falling back to using get_dummies()__\n",
    "\n",
    "```\n",
    "transformer = make_column_transformer((OneHotEncoder(drop = 'if_binary'), categorical_col),\n",
    "                                       remainder = StandardScaler())\n",
    "```"
   ]
  },
  {
   "cell_type": "code",
   "execution_count": 16,
   "metadata": {
    "tags": []
   },
   "outputs": [],
   "source": [
    "df = pd.get_dummies(df, prefix=categorical_col, columns=categorical_col, drop_first=True, dtype=int)"
   ]
  },
  {
   "cell_type": "markdown",
   "metadata": {},
   "source": [
    "### Problem 6: Train/Test Split\n",
    "\n",
    "With your data prepared, split it into a train and test set."
   ]
  },
  {
   "cell_type": "code",
   "execution_count": 17,
   "metadata": {
    "tags": []
   },
   "outputs": [],
   "source": [
    "X_train, X_test, y_train, y_test = train_test_split(df.drop('y', axis = 1), \n",
    "                                                    df['y'],\n",
    "                                                    random_state=42,\n",
    "                                                    stratify=df.y)"
   ]
  },
  {
   "cell_type": "markdown",
   "metadata": {},
   "source": [
    "### Problem 7: A Baseline Model\n",
    "\n",
    "Before we build our first model, we want to establish a baseline.  What is the baseline performance that our classifier should aim to beat?"
   ]
  },
  {
   "cell_type": "markdown",
   "metadata": {},
   "source": [
    "##### __A baseline model is one which predicts the majority class for all data points__\n",
    "Here are the accuracy scores for such a baseline model"
   ]
  },
  {
   "cell_type": "code",
   "execution_count": 18,
   "metadata": {
    "tags": []
   },
   "outputs": [
    {
     "data": {
      "text/plain": [
       "y\n",
       "0    0.887313\n",
       "1    0.112687\n",
       "Name: proportion, dtype: float64"
      ]
     },
     "execution_count": 18,
     "metadata": {},
     "output_type": "execute_result"
    }
   ],
   "source": [
    "y_test.value_counts(normalize=True)"
   ]
  },
  {
   "cell_type": "code",
   "execution_count": 19,
   "metadata": {
    "tags": []
   },
   "outputs": [
    {
     "data": {
      "text/plain": [
       "y\n",
       "0    0.887345\n",
       "1    0.112655\n",
       "Name: proportion, dtype: float64"
      ]
     },
     "execution_count": 19,
     "metadata": {},
     "output_type": "execute_result"
    }
   ],
   "source": [
    "y_train.value_counts(normalize=True)"
   ]
  },
  {
   "cell_type": "markdown",
   "metadata": {},
   "source": [
    "### Problem 8: A Simple Model\n",
    "\n",
    "Use Logistic Regression to build a basic model on your data.  "
   ]
  },
  {
   "cell_type": "code",
   "execution_count": 20,
   "metadata": {
    "tags": []
   },
   "outputs": [],
   "source": [
    "models = []\n",
    "trainTimes = []\n",
    "trainAcc = []\n",
    "testAcc = []"
   ]
  },
  {
   "cell_type": "code",
   "execution_count": 21,
   "metadata": {
    "tags": []
   },
   "outputs": [],
   "source": [
    "def fitModel(modelString, modelTuple, X_train, y_train, X_test, y_test):\n",
    "    pipe = Pipeline([('scaler', StandardScaler()), modelTuple])\n",
    "    start = time.time()\n",
    "    pipe.fit(X_train, y_train)\n",
    "    end = time.time()\n",
    "    timeDiff = end - start\n",
    "    models.append(modelString)\n",
    "    trainTimes.append(timeDiff)\n",
    "    trainAcc.append(pipe.score(X_train, y_train))\n",
    "    testAcc.append(pipe.score(X_test, y_test))\n",
    "    return pipe"
   ]
  },
  {
   "cell_type": "code",
   "execution_count": 22,
   "metadata": {
    "tags": []
   },
   "outputs": [],
   "source": [
    "# Create a pipeline with the 'transformer' and 'extractor' from before\n",
    "lgr_pipe = fitModel('Logistic Regression',\n",
    "                    ('lgr', LogisticRegression(max_iter=1000, random_state=42)),\n",
    "                    X_train, y_train, X_test, y_test)"
   ]
  },
  {
   "cell_type": "markdown",
   "metadata": {},
   "source": [
    "### Problem 9: Score the Model\n",
    "\n",
    "What is the accuracy of your model?"
   ]
  },
  {
   "cell_type": "code",
   "execution_count": 23,
   "metadata": {
    "tags": []
   },
   "outputs": [
    {
     "name": "stdout",
     "output_type": "stream",
     "text": [
      "Accuracy of our model = 0.889061589275306\n"
     ]
    }
   ],
   "source": [
    "print(f'Accuracy of our model = {lgr_pipe.score(X_test, y_test)}')"
   ]
  },
  {
   "cell_type": "markdown",
   "metadata": {},
   "source": [
    "### Problem 10: Model Comparisons\n",
    "\n",
    "Now, we aim to compare the performance of the Logistic Regression model to our KNN algorithm, Decision Tree, and SVM models.  Using the default settings for each of the models, fit and score each.  Also, be sure to compare the fit time of each of the models.  Present your findings in a `DataFrame` similar to that below:\n",
    "\n",
    "| Model | Train Time | Train Accuracy | Test Accuracy |\n",
    "| ----- | ---------- | -------------  | -----------   |\n",
    "|     |    |.     |.     |"
   ]
  },
  {
   "cell_type": "code",
   "execution_count": 24,
   "metadata": {
    "tags": []
   },
   "outputs": [],
   "source": [
    "# KNN Model\n",
    "knn_pipe = fitModel('KNN',\n",
    "                    ('knn', KNeighborsClassifier()),\n",
    "                    X_train, y_train, X_test, y_test)"
   ]
  },
  {
   "cell_type": "code",
   "execution_count": 25,
   "metadata": {
    "tags": []
   },
   "outputs": [],
   "source": [
    "# Decision Tree\n",
    "dt_pipe = fitModel('Decision Tree', \n",
    "                   ('dt', DecisionTreeClassifier()), \n",
    "                   X_train, y_train, X_test, y_test)"
   ]
  },
  {
   "cell_type": "code",
   "execution_count": 26,
   "metadata": {
    "tags": []
   },
   "outputs": [],
   "source": [
    "# SVM \n",
    "svm_pipe = fitModel('SVM',\n",
    "                    ('svc', SVC()),\n",
    "                    X_train, y_train, X_test, y_test)"
   ]
  },
  {
   "cell_type": "code",
   "execution_count": 27,
   "metadata": {
    "tags": []
   },
   "outputs": [
    {
     "data": {
      "text/html": [
       "<div>\n",
       "<style scoped>\n",
       "    .dataframe tbody tr th:only-of-type {\n",
       "        vertical-align: middle;\n",
       "    }\n",
       "\n",
       "    .dataframe tbody tr th {\n",
       "        vertical-align: top;\n",
       "    }\n",
       "\n",
       "    .dataframe thead th {\n",
       "        text-align: right;\n",
       "    }\n",
       "</style>\n",
       "<table border=\"1\" class=\"dataframe\">\n",
       "  <thead>\n",
       "    <tr style=\"text-align: right;\">\n",
       "      <th></th>\n",
       "      <th>Train Time</th>\n",
       "      <th>Train Accuracy</th>\n",
       "      <th>Test Accuracy</th>\n",
       "    </tr>\n",
       "    <tr>\n",
       "      <th>Model</th>\n",
       "      <th></th>\n",
       "      <th></th>\n",
       "      <th></th>\n",
       "    </tr>\n",
       "  </thead>\n",
       "  <tbody>\n",
       "    <tr>\n",
       "      <th>Logistic Regression</th>\n",
       "      <td>0.294155</td>\n",
       "      <td>0.890551</td>\n",
       "      <td>0.889062</td>\n",
       "    </tr>\n",
       "    <tr>\n",
       "      <th>KNN</th>\n",
       "      <td>0.019104</td>\n",
       "      <td>0.908814</td>\n",
       "      <td>0.884399</td>\n",
       "    </tr>\n",
       "    <tr>\n",
       "      <th>Decision Tree</th>\n",
       "      <td>0.146294</td>\n",
       "      <td>0.994495</td>\n",
       "      <td>0.839227</td>\n",
       "    </tr>\n",
       "    <tr>\n",
       "      <th>SVM</th>\n",
       "      <td>31.592249</td>\n",
       "      <td>0.906386</td>\n",
       "      <td>0.892656</td>\n",
       "    </tr>\n",
       "  </tbody>\n",
       "</table>\n",
       "</div>"
      ],
      "text/plain": [
       "                     Train Time  Train Accuracy  Test Accuracy\n",
       "Model                                                         \n",
       "Logistic Regression    0.294155        0.890551       0.889062\n",
       "KNN                    0.019104        0.908814       0.884399\n",
       "Decision Tree          0.146294        0.994495       0.839227\n",
       "SVM                   31.592249        0.906386       0.892656"
      ]
     },
     "execution_count": 27,
     "metadata": {},
     "output_type": "execute_result"
    }
   ],
   "source": [
    "res_dict = {'Model': models,\n",
    "           'Train Time': trainTimes,\n",
    "           'Train Accuracy': trainAcc,\n",
    "           'Test Accuracy': testAcc}\n",
    "results_df = pd.DataFrame(res_dict).set_index('Model')\n",
    "results_df"
   ]
  },
  {
   "cell_type": "markdown",
   "metadata": {},
   "source": [
    "### Problem 11: Improving the Model\n",
    "\n",
    "Now that we have some basic models on the board, we want to try to improve these.  Below, we list a few things to explore in this pursuit.\n",
    "\n",
    "- More feature engineering and exploration.  For example, should we keep the gender feature?  Why or why not?\n",
    "- Hyperparameter tuning and grid search.  All of our models have additional hyperparameters to tune and explore.  For example the number of neighbors in KNN or the maximum depth of a Decision Tree.  \n",
    "- Adjust your performance metric"
   ]
  },
  {
   "cell_type": "markdown",
   "metadata": {
    "tags": []
   },
   "source": [
    "##### __Feature Engineering__\n",
    "- One way to do feature engineering is to use SelectFromModel() with LogisticRegression and L1 regularization to affect \n",
    "  weights for features. This can be incorporated into the pipeline\n",
    "  \n",
    "- The correlation matrix can also give us a good way to identify features that really matter to the output variable.\n",
    "\n",
    "##### __Hyper-parameter tuning__\n",
    "As part of grid-search, we need to optimize on reducing both FalsePositives (FP) and FalseNegatives (FN).\n",
    "\n",
    "- __Cost of FP__: This could be the marketing spend wasted on targeting customers who dont take the product\n",
    "- __Cost of FN__: This could be the potential revenue lost from missing out on customers who would take the product.\n",
    "\n",
    "The above requires that we tradeoff between __precision-recall__. The alternate way this can be achieved is by comparing area under the ROC curve. Hence the `roc_auc` option of scoring is used in GridSearch."
   ]
  },
  {
   "cell_type": "code",
   "execution_count": 28,
   "metadata": {
    "tags": []
   },
   "outputs": [
    {
     "data": {
      "text/html": [
       "<div>\n",
       "<style scoped>\n",
       "    .dataframe tbody tr th:only-of-type {\n",
       "        vertical-align: middle;\n",
       "    }\n",
       "\n",
       "    .dataframe tbody tr th {\n",
       "        vertical-align: top;\n",
       "    }\n",
       "\n",
       "    .dataframe thead th {\n",
       "        text-align: right;\n",
       "    }\n",
       "</style>\n",
       "<table border=\"1\" class=\"dataframe\">\n",
       "  <thead>\n",
       "    <tr style=\"text-align: right;\">\n",
       "      <th></th>\n",
       "      <th>age</th>\n",
       "      <th>default</th>\n",
       "      <th>housing</th>\n",
       "      <th>loan</th>\n",
       "      <th>campaign</th>\n",
       "      <th>previous</th>\n",
       "      <th>emp.var.rate</th>\n",
       "      <th>cons.price.idx</th>\n",
       "      <th>cons.conf.idx</th>\n",
       "      <th>euribor3m</th>\n",
       "      <th>...</th>\n",
       "      <th>month_jun</th>\n",
       "      <th>month_mar</th>\n",
       "      <th>month_may</th>\n",
       "      <th>month_nov</th>\n",
       "      <th>month_oct</th>\n",
       "      <th>month_sep</th>\n",
       "      <th>day_of_week_mon</th>\n",
       "      <th>day_of_week_thu</th>\n",
       "      <th>day_of_week_tue</th>\n",
       "      <th>day_of_week_wed</th>\n",
       "    </tr>\n",
       "  </thead>\n",
       "  <tbody>\n",
       "    <tr>\n",
       "      <th>age</th>\n",
       "      <td>1.000000</td>\n",
       "      <td>0.001892</td>\n",
       "      <td>-0.001290</td>\n",
       "      <td>-0.007189</td>\n",
       "      <td>0.004622</td>\n",
       "      <td>0.024379</td>\n",
       "      <td>-0.000242</td>\n",
       "      <td>0.001009</td>\n",
       "      <td>0.129075</td>\n",
       "      <td>0.010852</td>\n",
       "      <td>...</td>\n",
       "      <td>-0.009525</td>\n",
       "      <td>0.008394</td>\n",
       "      <td>-0.067496</td>\n",
       "      <td>0.030071</td>\n",
       "      <td>0.052506</td>\n",
       "      <td>0.040900</td>\n",
       "      <td>0.019035</td>\n",
       "      <td>-0.021347</td>\n",
       "      <td>0.019070</td>\n",
       "      <td>-0.023664</td>\n",
       "    </tr>\n",
       "    <tr>\n",
       "      <th>default</th>\n",
       "      <td>0.001892</td>\n",
       "      <td>1.000000</td>\n",
       "      <td>-0.003257</td>\n",
       "      <td>-0.003610</td>\n",
       "      <td>-0.003804</td>\n",
       "      <td>0.002765</td>\n",
       "      <td>0.004445</td>\n",
       "      <td>-0.003142</td>\n",
       "      <td>0.004494</td>\n",
       "      <td>0.005274</td>\n",
       "      <td>...</td>\n",
       "      <td>-0.003287</td>\n",
       "      <td>-0.000990</td>\n",
       "      <td>-0.006050</td>\n",
       "      <td>0.006664</td>\n",
       "      <td>-0.001136</td>\n",
       "      <td>-0.001011</td>\n",
       "      <td>-0.004357</td>\n",
       "      <td>-0.004392</td>\n",
       "      <td>0.017268</td>\n",
       "      <td>-0.004235</td>\n",
       "    </tr>\n",
       "    <tr>\n",
       "      <th>housing</th>\n",
       "      <td>-0.001290</td>\n",
       "      <td>-0.003257</td>\n",
       "      <td>1.000000</td>\n",
       "      <td>0.056634</td>\n",
       "      <td>-0.010861</td>\n",
       "      <td>0.020428</td>\n",
       "      <td>-0.059913</td>\n",
       "      <td>-0.081992</td>\n",
       "      <td>-0.034319</td>\n",
       "      <td>-0.058919</td>\n",
       "      <td>...</td>\n",
       "      <td>-0.057703</td>\n",
       "      <td>0.013164</td>\n",
       "      <td>-0.023106</td>\n",
       "      <td>0.033799</td>\n",
       "      <td>0.002745</td>\n",
       "      <td>0.006406</td>\n",
       "      <td>0.012463</td>\n",
       "      <td>0.012821</td>\n",
       "      <td>-0.011266</td>\n",
       "      <td>0.001565</td>\n",
       "    </tr>\n",
       "    <tr>\n",
       "      <th>loan</th>\n",
       "      <td>-0.007189</td>\n",
       "      <td>-0.003610</td>\n",
       "      <td>0.056634</td>\n",
       "      <td>1.000000</td>\n",
       "      <td>0.005251</td>\n",
       "      <td>-0.002187</td>\n",
       "      <td>0.001183</td>\n",
       "      <td>-0.005985</td>\n",
       "      <td>-0.013652</td>\n",
       "      <td>-0.000488</td>\n",
       "      <td>...</td>\n",
       "      <td>-0.009678</td>\n",
       "      <td>-0.004053</td>\n",
       "      <td>0.000289</td>\n",
       "      <td>-0.003646</td>\n",
       "      <td>-0.009728</td>\n",
       "      <td>-0.002602</td>\n",
       "      <td>0.006920</td>\n",
       "      <td>-0.001112</td>\n",
       "      <td>-0.009706</td>\n",
       "      <td>-0.002252</td>\n",
       "    </tr>\n",
       "    <tr>\n",
       "      <th>campaign</th>\n",
       "      <td>0.004622</td>\n",
       "      <td>-0.003804</td>\n",
       "      <td>-0.010861</td>\n",
       "      <td>0.005251</td>\n",
       "      <td>1.000000</td>\n",
       "      <td>-0.079182</td>\n",
       "      <td>0.150786</td>\n",
       "      <td>0.127826</td>\n",
       "      <td>-0.013657</td>\n",
       "      <td>0.135169</td>\n",
       "      <td>...</td>\n",
       "      <td>0.070108</td>\n",
       "      <td>-0.015256</td>\n",
       "      <td>-0.032780</td>\n",
       "      <td>-0.079059</td>\n",
       "      <td>-0.049070</td>\n",
       "      <td>-0.033966</td>\n",
       "      <td>0.014401</td>\n",
       "      <td>0.005215</td>\n",
       "      <td>-0.025066</td>\n",
       "      <td>-0.021141</td>\n",
       "    </tr>\n",
       "  </tbody>\n",
       "</table>\n",
       "<p>5 rows × 46 columns</p>\n",
       "</div>"
      ],
      "text/plain": [
       "               age   default   housing      loan  campaign  previous  \\\n",
       "age       1.000000  0.001892 -0.001290 -0.007189  0.004622  0.024379   \n",
       "default   0.001892  1.000000 -0.003257 -0.003610 -0.003804  0.002765   \n",
       "housing  -0.001290 -0.003257  1.000000  0.056634 -0.010861  0.020428   \n",
       "loan     -0.007189 -0.003610  0.056634  1.000000  0.005251 -0.002187   \n",
       "campaign  0.004622 -0.003804 -0.010861  0.005251  1.000000 -0.079182   \n",
       "\n",
       "          emp.var.rate  cons.price.idx  cons.conf.idx  euribor3m  ...  \\\n",
       "age          -0.000242        0.001009       0.129075   0.010852  ...   \n",
       "default       0.004445       -0.003142       0.004494   0.005274  ...   \n",
       "housing      -0.059913       -0.081992      -0.034319  -0.058919  ...   \n",
       "loan          0.001183       -0.005985      -0.013652  -0.000488  ...   \n",
       "campaign      0.150786        0.127826      -0.013657   0.135169  ...   \n",
       "\n",
       "          month_jun  month_mar  month_may  month_nov  month_oct  month_sep  \\\n",
       "age       -0.009525   0.008394  -0.067496   0.030071   0.052506   0.040900   \n",
       "default   -0.003287  -0.000990  -0.006050   0.006664  -0.001136  -0.001011   \n",
       "housing   -0.057703   0.013164  -0.023106   0.033799   0.002745   0.006406   \n",
       "loan      -0.009678  -0.004053   0.000289  -0.003646  -0.009728  -0.002602   \n",
       "campaign   0.070108  -0.015256  -0.032780  -0.079059  -0.049070  -0.033966   \n",
       "\n",
       "          day_of_week_mon  day_of_week_thu  day_of_week_tue  day_of_week_wed  \n",
       "age              0.019035        -0.021347         0.019070        -0.023664  \n",
       "default         -0.004357        -0.004392         0.017268        -0.004235  \n",
       "housing          0.012463         0.012821        -0.011266         0.001565  \n",
       "loan             0.006920        -0.001112        -0.009706        -0.002252  \n",
       "campaign         0.014401         0.005215        -0.025066        -0.021141  \n",
       "\n",
       "[5 rows x 46 columns]"
      ]
     },
     "execution_count": 28,
     "metadata": {},
     "output_type": "execute_result"
    }
   ],
   "source": [
    "correlation_matrix = df.corr()\n",
    "correlation_matrix.head()"
   ]
  },
  {
   "cell_type": "markdown",
   "metadata": {},
   "source": [
    "__Plot the correlation heatmap__"
   ]
  },
  {
   "cell_type": "code",
   "execution_count": 44,
   "metadata": {
    "tags": []
   },
   "outputs": [
    {
     "data": {
      "application/vnd.plotly.v1+json": {
       "config": {
        "plotlyServerURL": "https://plot.ly"
       },
       "data": [
        {
         "coloraxis": "coloraxis",
         "hovertemplate": "x: %{x}<br>y: %{y}<br>color: %{z}<extra></extra>",
         "name": "0",
         "type": "heatmap",
         "x": [
          "age",
          "default",
          "housing",
          "loan",
          "campaign",
          "previous",
          "emp.var.rate",
          "cons.price.idx",
          "cons.conf.idx",
          "euribor3m",
          "nr.employed",
          "y",
          "job_blue-collar",
          "job_entrepreneur",
          "job_housemaid",
          "job_management",
          "job_retired",
          "job_self-employed",
          "job_services",
          "job_student",
          "job_technician",
          "job_unemployed",
          "job_unknown",
          "marital_married",
          "marital_single",
          "marital_unknown",
          "education_basic.6y",
          "education_basic.9y",
          "education_high.school",
          "education_illiterate",
          "education_professional.course",
          "education_university.degree",
          "education_unknown",
          "month_aug",
          "month_dec",
          "month_jul",
          "month_jun",
          "month_mar",
          "month_may",
          "month_nov",
          "month_oct",
          "month_sep",
          "day_of_week_mon",
          "day_of_week_thu",
          "day_of_week_tue",
          "day_of_week_wed"
         ],
         "xaxis": "x",
         "y": [
          "age",
          "default",
          "housing",
          "loan",
          "campaign",
          "previous",
          "emp.var.rate",
          "cons.price.idx",
          "cons.conf.idx",
          "euribor3m",
          "nr.employed",
          "y",
          "job_blue-collar",
          "job_entrepreneur",
          "job_housemaid",
          "job_management",
          "job_retired",
          "job_self-employed",
          "job_services",
          "job_student",
          "job_technician",
          "job_unemployed",
          "job_unknown",
          "marital_married",
          "marital_single",
          "marital_unknown",
          "education_basic.6y",
          "education_basic.9y",
          "education_high.school",
          "education_illiterate",
          "education_professional.course",
          "education_university.degree",
          "education_unknown",
          "month_aug",
          "month_dec",
          "month_jul",
          "month_jun",
          "month_mar",
          "month_may",
          "month_nov",
          "month_oct",
          "month_sep",
          "day_of_week_mon",
          "day_of_week_thu",
          "day_of_week_tue",
          "day_of_week_wed"
         ],
         "yaxis": "y",
         "z": [
          [
           1,
           0.0018918546827464862,
           -0.0012897985599652263,
           -0.007189246398069915,
           0.004621554404820576,
           0.024378784076960428,
           -0.00024210386575589706,
           0.001009414451220224,
           0.12907464761650173,
           0.010851508752396507,
           -0.017607472690829396,
           0.03038053621987714,
           -0.024178337962121765,
           0.03122370838896193,
           0.08542453434408323,
           0.06206002898478742,
           0.4407998345300566,
           -0.0013510916944697142,
           -0.06574393646912961,
           -0.19978598157523966,
           -0.06431927911755869,
           -0.004423102779046659,
           0.04778464217466488,
           0.2713442478922078,
           -0.41180562306630086,
           0.0010635884228431894,
           0.009917932155576464,
           -0.03831816143947728,
           -0.10660649333037198,
           0.017010595684496584,
           0.002204876085286347,
           -0.07130008020055895,
           0.06957069530206667,
           0.0652386199908823,
           0.046574506834836285,
           -0.04349325375974795,
           -0.009524522110329624,
           0.008394445769145076,
           -0.06749602175684265,
           0.03007063870655167,
           0.05250645001534731,
           0.04089991903417736,
           0.019034743872729475,
           -0.02134680454444722,
           0.019070011362161295,
           -0.02366376376332965
          ],
          [
           0.0018918546827464862,
           1,
           -0.003256609317569549,
           -0.00361025619990625,
           -0.0038039714599626753,
           0.0027648603804852983,
           0.00444540042484454,
           -0.003141882728674135,
           0.004493572756062136,
           0.005274447822279151,
           0.005942487999383908,
           -0.003041586100561618,
           -0.004595616746568427,
           -0.0016342949502605006,
           -0.0013875495232220853,
           -0.002360021621539695,
           -0.0017811414756171446,
           -0.00161382162734567,
           -0.0027871572511020707,
           -0.001257767841301437,
           0.011605371191518388,
           0.017002736928370666,
           -0.0007672494303468507,
           0.006893902319506241,
           -0.005334264450228421,
           -0.0003766167127442325,
           -0.0020719337472633703,
           -0.0035408478680368782,
           0.002072341772455416,
           -0.0001785103873464667,
           0.01381609958112485,
           -0.005527181710134799,
           -0.0017876230157695687,
           0.01235177777804851,
           -0.0005687611410475274,
           -0.003919218718805551,
           -0.003287270983582048,
           -0.000989526163008755,
           -0.0060496107534382835,
           0.006663950838834569,
           -0.0011363349826691096,
           -0.0010113388574126709,
           -0.004357480930940903,
           -0.004391660473143686,
           0.017267755325035355,
           -0.004235193835511691
          ],
          [
           -0.0012897985599652263,
           -0.003256609317569549,
           1,
           0.05663422300195658,
           -0.01086062899722895,
           0.02042797737203329,
           -0.05991287860073774,
           -0.08199183164232604,
           -0.034319478588799794,
           -0.05891868154306358,
           -0.045076412393482944,
           0.011804287462425496,
           -0.016007116293467218,
           0.0042760781871861945,
           -0.004699610600014998,
           -0.007914771761504402,
           -0.0019489371683651688,
           -0.0011784742004586318,
           -0.004813082888826318,
           0.004252198877361386,
           0.01085912975689404,
           0.008092726252910841,
           -0.00047891021582577206,
           -0.010589208748079518,
           0.014167087619358046,
           -0.007630437991830959,
           -0.008102324711938986,
           -0.002172693159798512,
           -0.006124175344477957,
           0.0013266401505586222,
           0.013264225367032688,
           0.013920852358784961,
           -0.007586693465440311,
           0.02676899547088478,
           0.0063445577620130445,
           0.0008147555122912622,
           -0.057702532721528484,
           0.013163783943683472,
           -0.023105753363374493,
           0.033798808719226574,
           0.0027446647170617966,
           0.006406148883861756,
           0.012463460380575279,
           0.01282144019917733,
           -0.011266217259513173,
           0.0015652781174248951
          ],
          [
           -0.007189246398069915,
           -0.00361025619990625,
           0.05663422300195658,
           1,
           0.005250904352369682,
           -0.002186560876583129,
           0.0011830863533604094,
           -0.0059851096975584925,
           -0.013651916011762051,
           -0.0004875704433656825,
           0.0042118550260072385,
           -0.0044781671109639315,
           -0.006169247757270232,
           -0.005472853035213549,
           -0.0029250607222305125,
           -0.0012346165168867812,
           -0.007003471867931313,
           -0.007647199419733169,
           -0.00021751907108578938,
           0.004331667833233947,
           -0.006141941125932583,
           -0.002124145071554668,
           0.005258334781149923,
           -0.0011750046621369385,
           0.0050145721384268396,
           -0.00021384587131628244,
           -0.005207488186621665,
           -0.006553146792021986,
           -5.4638649228898175e-05,
           0.0008701445682576276,
           -0.00042893520774572424,
           0.012500313116025754,
           -0.006919759571600922,
           -0.001732655671961735,
           0.006514055655816366,
           0.016099143956722427,
           -0.009677967925860053,
           -0.004053417004133142,
           0.0002885404571440151,
           -0.003646418563469228,
           -0.009727538858196117,
           -0.0026020328204803787,
           0.006920265812922021,
           -0.0011124943312323648,
           -0.009706122774121643,
           -0.0022517571540627466
          ],
          [
           0.004621554404820576,
           -0.0038039714599626753,
           -0.01086062899722895,
           0.005250904352369682,
           1,
           -0.07918189798423754,
           0.15078603405165494,
           0.1278262040259672,
           -0.013656720254691295,
           0.13516895707856788,
           0.14412852485233407,
           -0.06636068437609752,
           -0.0017976010505691851,
           -0.0022229825343692815,
           0.0042096988934485135,
           -0.009163692398164,
           -0.006734959162637652,
           0.006341610064788344,
           0.0024429347101815745,
           -0.024673272183157704,
           0.0015890433759232852,
           -0.00021662518751615359,
           0.0026153058412767853,
           0.0023293653284748622,
           -0.007587330835948745,
           0.009868398968692155,
           -0.0009565621776073195,
           -0.005321431040564639,
           0.00019409538364965925,
           -0.002189953011552748,
           0.0026124487510943493,
           -0.0009739186645539024,
           0.0022096989107689706,
           0.015044941207100046,
           -0.009826171333735183,
           0.09848243856077926,
           0.07010839546909868,
           -0.015256134096617354,
           -0.03277982937005742,
           -0.0790587793474972,
           -0.04907045397048101,
           -0.033966057706689104,
           0.014400730607916442,
           0.005215394772311553,
           -0.02506628034377073,
           -0.021140763381002292
          ],
          [
           0.024378784076960428,
           0.0027648603804852983,
           0.02042797737203329,
           -0.002186560876583129,
           -0.07918189798423754,
           1,
           -0.4205865244131137,
           -0.20319708087254512,
           -0.050928530469246135,
           -0.4545712251321002,
           -0.5014110013165184,
           0.23020157021544804,
           -0.05488524414373661,
           -0.013259037509368597,
           -0.011585744520782294,
           0.006707050399012548,
           0.06521487689325021,
           -0.011250067837735163,
           -0.011864099605268913,
           0.10465848764833603,
           -0.017100139623929797,
           0.008410170483098084,
           -0.0033537620873573316,
           -0.04343191384136137,
           0.04850575960522057,
           0.009091166927265722,
           -0.021485611527906436,
           -0.026461629063863637,
           0.014353678255912852,
           -0.002615454663617419,
           -0.007595710792520682,
           0.025431444455216567,
           0.022668600816357694,
           -0.04885633490260321,
           0.059551640034095125,
           -0.11675749463546875,
           -0.06994706754102097,
           0.0727227252839722,
           -0.012571976736164442,
           0.08105627028125431,
           0.12789515468775467,
           0.15764225991478384,
           -0.002022274258522354,
           0.0015644254644824605,
           0.00012519377722110297,
           -0.003979496766905717
          ],
          [
           -0.00024210386575589706,
           0.00444540042484454,
           -0.05991287860073774,
           0.0011830863533604094,
           0.15078603405165494,
           -0.4205865244131137,
           1,
           0.7752934229611756,
           0.1962571091404675,
           0.972243830979756,
           0.9069494985179554,
           -0.2982885042462049,
           0.05722943557407591,
           0.009360619562313204,
           0.0363705403915847,
           -0.016651692628077405,
           -0.10359427097529075,
           0.001472843683029173,
           0.01946115725798714,
           -0.139756187622561,
           0.054062375934650936,
           -0.019588740725196438,
           0.015790126155674364,
           0.08019005657243729,
           -0.09935894106087333,
           -0.00851520565096384,
           0.02300038075587236,
           0.02041702330711555,
           -0.01712412365160245,
           -0.0028656529216984274,
           0.021972092796844315,
           -0.045073011903581685,
           -0.003145971433046589,
           0.17783397319314087,
           -0.12419935347819905,
           0.31491709907201887,
           0.14867676595544077,
           -0.1388788003243109,
           -0.11137739442004328,
           -0.10594876873161958,
           -0.21348594988522115,
           -0.17040244798314813,
           -0.01825723631656106,
           -0.007764202483161662,
           0.014741321265487137,
           0.026791325408163553
          ],
          [
           0.001009414451220224,
           -0.003141882728674135,
           -0.08199183164232604,
           -0.0059851096975584925,
           0.1278262040259672,
           -0.20319708087254512,
           0.7752934229611756,
           1,
           0.05917013789331304,
           0.6881797725641069,
           0.5219450348972965,
           -0.13613397100799618,
           0.07524597075857045,
           0.009807828889289147,
           0.02832341672025848,
           -0.02529841294991624,
           -0.05213944469151955,
           -0.005140474780546402,
           0.03335390988670485,
           -0.06214045188976655,
           -0.010997382360591631,
           -0.0032773303984870777,
           0.022240322037834083,
           0.04646233941109962,
           -0.06300285742188054,
           -0.007963130541622931,
           0.03111202620603323,
           0.03416859646398067,
           0.008683042189506752,
           -0.009335262356010832,
           -0.00393520219335853,
           -0.09173930196427328,
           0.029937123092930375,
           -0.19209554526471062,
           -0.09903800132356722,
           0.25334518818876023,
           0.44555118102906677,
           -0.09580820381299986,
           -0.05733277811880121,
           -0.2153104090794902,
           -0.09189621753150987,
           -0.046923669838371346,
           0.0012030375732857896,
           -0.017234431852579182,
           0.0013966748568395868,
           0.012433528538534007
          ],
          [
           0.12907464761650173,
           0.004493572756062136,
           -0.034319478588799794,
           -0.013651916011762051,
           -0.013656720254691295,
           -0.050928530469246135,
           0.1962571091404675,
           0.05917013789331304,
           1,
           0.2778641726268087,
           0.10067882831837463,
           0.054801816509505434,
           -0.10161845358746809,
           -0.03230246526522762,
           0.03539149051829445,
           0.0008003664155502908,
           0.08681358917559222,
           0.0006028443802405434,
           -0.05552933948855832,
           0.010039760044774866,
           0.05505574252074665,
           0.017005056297717553,
           0.033115225061881366,
           0.062033049662643315,
           -0.056202027673964185,
           -0.0030235472459001797,
           -0.03289042339396461,
           -0.07384908462740734,
           -0.05180965054156342,
           0.002498342419343353,
           0.031270216546776246,
           0.07361616816313904,
           0.028359026629425098,
           0.4453057424105674,
           0.09782069907933653,
           -0.1853649052422349,
           -0.08958730485462187,
           -0.05379832914208275,
           -0.011685488938466463,
           -0.05286520604768558,
           0.1700415438984231,
           0.16921914325219065,
           -0.0413955831477603,
           -0.02791740750710194,
           0.04995247494093278,
           0.023744975664434204
          ],
          [
           0.010851508752396507,
           0.005274447822279151,
           -0.05891868154306358,
           -0.0004875704433656825,
           0.13516895707856788,
           -0.4545712251321002,
           0.972243830979756,
           0.6881797725641069,
           0.2778641726268087,
           1,
           0.9451459468620566,
           -0.30774039558468835,
           0.04674316488856094,
           0.018746799704418275,
           0.036397053456583076,
           -0.0015904231416704268,
           -0.10242031668216144,
           0.007421417983618194,
           0.014711989286453304,
           -0.14757406497866188,
           0.050609861557344635,
           -0.014173533874325309,
           0.016984714243334375,
           0.08890568836160967,
           -0.10943999958910958,
           -0.007841577249796061,
           0.02115688412672831,
           0.018336824463740325,
           -0.020606356089855102,
           -0.001262873044598126,
           0.01947248179250976,
           -0.033998679439844484,
           -0.006158238757289896,
           0.16447860782756044,
           -0.1058760000963085,
           0.281859382506606,
           0.14113073862471903,
           -0.16432299799149525,
           -0.13386309902984048,
           0.01950375489492944,
           -0.18578453800403463,
           -0.19035021907620614,
           -0.023378642030256903,
           -0.013856611849573477,
           0.02285232599781445,
           0.030206021619917502
          ],
          [
           -0.017607472690829396,
           0.005942487999383908,
           -0.045076412393482944,
           0.0042118550260072385,
           0.14412852485233407,
           -0.5014110013165184,
           0.9069494985179554,
           0.5219450348972965,
           0.10067882831837463,
           0.9451459468620566,
           1,
           -0.3546690153826915,
           0.063924298289249,
           0.024587850878289564,
           0.028111305420222964,
           -0.0014708061538838892,
           -0.1293072300628332,
           0.009523658777902547,
           0.0206497595104386,
           -0.16538785554624869,
           0.05254754578402672,
           -0.02172478194978567,
           0.007336159266271903,
           0.08246856130208939,
           -0.10233342650772909,
           -0.005887513571880725,
           0.025788171702191456,
           0.030194441210875694,
           -0.015524547775332794,
           0.0013728182395801591,
           0.016320303180745746,
           -0.033937971371487456,
           -0.02181154620438694,
           0.1930524264584527,
           -0.12462820013261637,
           0.29902754172408536,
           0.16234777761448266,
           -0.17913088762091428,
           -0.17178435661525276,
           0.0275734104643643,
           -0.27307781153393057,
           -0.29219817660324565,
           -0.017532257819667777,
           -0.0027478827489494716,
           0.010042065902337827,
           0.023283615843210998
          ],
          [
           0.03038053621987714,
           -0.003041586100561618,
           0.011804287462425496,
           -0.0044781671109639315,
           -0.06636068437609752,
           0.23020157021544804,
           -0.2982885042462049,
           -0.13613397100799618,
           0.054801816509505434,
           -0.30774039558468835,
           -0.3546690153826915,
           1,
           -0.07443148515321889,
           -0.016651019209331427,
           -0.006510082905095313,
           -0.00042638596310907035,
           0.09236405309496007,
           -0.004668203660612996,
           -0.032262452033936455,
           0.09396188269293622,
           -0.006069375967782863,
           0.01474931649432179,
           -0.00015393926838681894,
           -0.043475794738130485,
           0.054208508484670986,
           0.005210188848426367,
           -0.02349327965343718,
           -0.045152493272416876,
           -0.0074076983968132375,
           0.007246440209644789,
           0.0010711296042828196,
           0.05026731669010861,
           0.02147600700357244,
           -0.008777898404596956,
           0.07931055688225107,
           -0.032344460561544976,
           -0.009193464577842687,
           0.1440273804163184,
           -0.1082776828162819,
           -0.011778824608861675,
           0.13753837746474565,
           0.12607860850016314,
           -0.021241004172676055,
           0.013797126607715954,
           0.008122607804253572,
           0.006289518807382537
          ],
          [
           -0.024178337962121765,
           -0.004595616746568427,
           -0.016007116293467218,
           -0.006169247757270232,
           -0.0017976010505691851,
           -0.05488524414373661,
           0.05722943557407591,
           0.07524597075857045,
           -0.10161845358746809,
           0.04674316488856094,
           0.063924298289249,
           -0.07443148515321889,
           1,
           -0.10307788518771166,
           -0.08751521285931153,
           -0.1488507553099947,
           -0.11233975635638328,
           -0.10178659634876099,
           -0.17579095810300546,
           -0.07932965167505276,
           -0.23816311668944617,
           -0.08554620413044048,
           -0.048391784285341154,
           0.12924772751427543,
           -0.10016206627201746,
           -0.005255479664567338,
           0.2310309391663984,
           0.3723015952124749,
           -0.17387509831027398,
           0.011008849031300545,
           -0.12649494508247333,
           -0.33662102639802727,
           0.018920078825013814,
           -0.13131762502013242,
           -0.02534742819132929,
           0.027311432593125434,
           0.032954820430959826,
           -0.036977955584282955,
           0.1361987697716881,
           -0.06205442047025015,
           -0.048984868096033196,
           -0.05432517437646813,
           -0.009741888866254041,
           -0.007097323038857101,
           -0.006747969992573364,
           0.02062625944595091
          ],
          [
           0.03122370838896193,
           -0.0016342949502605006,
           0.0042760781871861945,
           -0.005472853035213549,
           -0.0022229825343692815,
           -0.013259037509368597,
           0.009360619562313204,
           0.009807828889289147,
           -0.03230246526522762,
           0.018746799704418275,
           0.024587850878289564,
           -0.016651019209331427,
           -0.10307788518771166,
           1,
           -0.031122192805513458,
           -0.052934361405840055,
           -0.03995030627038828,
           -0.03619738755221419,
           -0.06251484642267548,
           -0.028211240468490537,
           -0.08469565684181805,
           -0.030421973183192116,
           -0.017209104469097392,
           0.0510552938479021,
           -0.06024812718933983,
           0.0005111352328388206,
           -0.005742739068641535,
           -0.0013946601536930284,
           -0.031931556954930426,
           0.00857738017056706,
           -0.01984253571309223,
           0.05184479195070162,
           -0.0027354868913204025,
           -0.053173571743239285,
           -0.010774818916305261,
           0.00676251331872414,
           0.011352480997815245,
           -0.019895525042987704,
           -0.0007823228918229214,
           0.054465364548693385,
           -0.010408187327349362,
           -0.009178531396091956,
           0.006823083912919492,
           0.005580448561085817,
           -0.007257180079319836,
           -0.0035080078943050892
          ],
          [
           0.08542453434408323,
           -0.0013875495232220853,
           -0.004699610600014998,
           -0.0029250607222305125,
           0.0042096988934485135,
           -0.011585744520782294,
           0.0363705403915847,
           0.02832341672025848,
           0.03539149051829445,
           0.036397053456583076,
           0.028111305420222964,
           -0.006510082905095313,
           -0.08751521285931153,
           -0.031122192805513458,
           1,
           -0.04494234527190497,
           -0.03391861940784749,
           -0.03073231538282178,
           -0.05307637114968446,
           -0.02395191471118337,
           -0.07190832857380546,
           -0.025828871574915906,
           -0.014610878346878853,
           0.042496287605481936,
           -0.06097530610409635,
           0.0032754317600715054,
           0.012057087414536273,
           -0.02669881699612932,
           -0.025785111997013718,
           0.003936756319498132,
           -0.03492287508427433,
           -0.058533318353362646,
           -0.001938195120832707,
           0.021049029757301746,
           0.01228624354122627,
           0.02201890366158895,
           -0.00041248648991897073,
           -0.010799887516247449,
           -0.018985557778056134,
           -0.009498736875166832,
           0.0006356135104121641,
           -0.003509099679100321,
           0.00336059221038786,
           -0.008992288472310185,
           0.011519370822521963,
           0.0017737659432900043
          ],
          [
           0.06206002898478742,
           -0.002360021621539695,
           -0.007914771761504402,
           -0.0012346165168867812,
           -0.009163692398164,
           0.006707050399012548,
           -0.016651692628077405,
           -0.02529841294991624,
           0.0008003664155502908,
           -0.0015904231416704268,
           -0.0014708061538838892,
           -0.00042638596310907035,
           -0.1488507553099947,
           -0.052934361405840055,
           -0.04494234527190497,
           1,
           -0.05769067974555064,
           -0.052271236139389075,
           -0.09027525245747553,
           -0.04073875249108545,
           -0.12230569602221118,
           -0.043931185414719756,
           -0.024850996833791553,
           0.06176699702980089,
           -0.06736622432967375,
           -0.005756746082405688,
           -0.03204679249651207,
           -0.0703371389585216,
           -0.08468182733658489,
           -0.005781902071586445,
           -0.08032377381989017,
           0.24853957565137114,
           7.014205122347261e-05,
           -0.021601289958550794,
           -0.0013173814332284421,
           -0.027450483323483762,
           -0.0072298886414356965,
           0.0026677816133067436,
           -0.013754592583211687,
           0.08521423662210996,
           6.0883019206561295e-05,
           0.00446964186111024,
           0.008299308509850532,
           -0.005806966509355723,
           0.0016173510056982398,
           0.0017541965323790076
          ],
          [
           0.4407998345300566,
           -0.0017811414756171446,
           -0.0019489371683651688,
           -0.007003471867931313,
           -0.006734959162637652,
           0.06521487689325021,
           -0.10359427097529075,
           -0.05213944469151955,
           0.08681358917559222,
           -0.10242031668216144,
           -0.1293072300628332,
           0.09236405309496007,
           -0.11233975635638328,
           -0.03995030627038828,
           -0.03391861940784749,
           -0.05769067974555064,
           1,
           -0.03944983631501727,
           -0.06813200137925733,
           -0.030746108876508374,
           -0.09230582715901631,
           -0.033155482857031716,
           -0.018755396462096445,
           0.05794836587701381,
           -0.1055323300187653,
           0.00458443814070622,
           -0.010908849260991189,
           -0.036794891575332694,
           -0.03483158264068266,
           0.013067341719870574,
           0.008152583799225755,
           -0.05950582883875583,
           0.01502513378863932,
           0.02868077755678399,
           0.04651698203895249,
           -0.009325285552539078,
           -0.017703971825464227,
           0.04376665831471709,
           -0.06318041037734613,
           -0.014223576376342938,
           0.08828908632030687,
           0.0646764923161932,
           -0.0021441787730162786,
           -0.013008803823792216,
           0.011809177406386902,
           0.0017151481596459242
          ],
          [
           -0.0013510916944697142,
           -0.00161382162734567,
           -0.0011784742004586318,
           -0.007647199419733169,
           0.006341610064788344,
           -0.011250067837735163,
           0.001472843683029173,
           -0.005140474780546402,
           0.0006028443802405434,
           0.007421417983618194,
           0.009523658777902547,
           -0.004668203660612996,
           -0.10178659634876099,
           -0.03619738755221419,
           -0.03073231538282178,
           -0.052271236139389075,
           -0.03944983631501727,
           1,
           -0.0617317034302925,
           -0.027857829454250405,
           -0.08363464791455574,
           -0.03004086763025235,
           -0.016993520646351873,
           0.011967309628255537,
           -0.005944127560897048,
           0.006765396171875296,
           -0.031379809413306196,
           0.004279845741088804,
           -0.06637354585551189,
           0.01514077614519382,
           -0.005123875319538343,
           0.10067335985340727,
           -0.020361382532284252,
           -0.0004233667699373546,
           -0.0005633709223965581,
           -0.009615411389503307,
           0.008122334168379569,
           0.007161822578931142,
           -0.016104827512194202,
           0.025108343779732673,
           -0.0038081535456434205,
           0.00037472601478061025,
           0.005338114713135858,
           0.012620814854678582,
           -0.008055082841378507,
           -0.013269026469077828
          ],
          [
           -0.06574393646912961,
           -0.0027871572511020707,
           -0.004813082888826318,
           -0.00021751907108578938,
           0.0024429347101815745,
           -0.011864099605268913,
           0.01946115725798714,
           0.03335390988670485,
           -0.05552933948855832,
           0.014711989286453304,
           0.0206497595104386,
           -0.032262452033936455,
           -0.17579095810300546,
           -0.06251484642267548,
           -0.05307637114968446,
           -0.09027525245747553,
           -0.06813200137925733,
           -0.0617317034302925,
           1,
           -0.04811197845395315,
           -0.14444156121629076,
           -0.05188220347670458,
           -0.029348729431228272,
           -0.018177922888341993,
           0.004010013576341381,
           -0.003191392102133758,
           0.001895653211088235,
           -0.04520858234868924,
           0.34440372435560324,
           -0.006828357052708133,
           -0.0708419438330496,
           -0.18021403352882087,
           -0.006840175293303792,
           -0.07284575124195536,
           -0.019274629144196944,
           0.021558278949812576,
           0.007277007395471237,
           -0.01986213557157342,
           0.059259432063689804,
           -0.020342675208198283,
           -0.022701756944336286,
           -0.018256259051494944,
           0.002831810052569657,
           -5.663584851973128e-05,
           0.002688177371078675,
           -0.004682465889963905
          ],
          [
           -0.19978598157523966,
           -0.001257767841301437,
           0.004252198877361386,
           0.004331667833233947,
           -0.024673272183157704,
           0.10465848764833603,
           -0.139756187622561,
           -0.06214045188976655,
           0.010039760044774866,
           -0.14757406497866188,
           -0.16538785554624869,
           0.09396188269293622,
           -0.07932965167505276,
           -0.028211240468490537,
           -0.02395191471118337,
           -0.04073875249108545,
           -0.030746108876508374,
           -0.027857829454250405,
           -0.04811197845395315,
           1,
           -0.06518252623650364,
           -0.023413019499726333,
           -0.01324427893225596,
           -0.16832138080326203,
           0.2166801379566028,
           -0.002676994885653103,
           -0.026215363311816155,
           -0.014016446072519076,
           0.06187628462006266,
           -0.0030814507887648264,
           -0.03453808957270317,
           -0.0326617410732874,
           0.10931816440238572,
           -0.007188234876074838,
           0.04095310727128342,
           -0.02102444107602313,
           -0.006029958526552724,
           0.0432783729423156,
           -0.021614496749738213,
           -0.018629997380889326,
           0.048617002503545184,
           0.05316517860238676,
           -0.0016143391460393423,
           0.005739614663164985,
           7.229090060755626e-05,
           -0.0024740808659757096
          ],
          [
           -0.06431927911755869,
           0.011605371191518388,
           0.01085912975689404,
           -0.006141941125932583,
           0.0015890433759232852,
           -0.017100139623929797,
           0.054062375934650936,
           -0.010997382360591631,
           0.05505574252074665,
           0.050609861557344635,
           0.05254754578402672,
           -0.006069375967782863,
           -0.23816311668944617,
           -0.08469565684181805,
           -0.07190832857380546,
           -0.12230569602221118,
           -0.09230582715901631,
           -0.08363464791455574,
           -0.14444156121629076,
           -0.06518252623650364,
           1,
           -0.07029045983973695,
           -0.039761913511620624,
           -0.05501406940369995,
           0.057315516935810294,
           -0.0016294256983938682,
           -0.08246149553090316,
           -0.11227758590034419,
           -0.10664898027314473,
           -0.009251117435678627,
           0.48443241028470047,
           -0.026157816712082452,
           -0.02327597478746249,
           0.14251761111821235,
           -0.005726251646833492,
           -0.020825424196596738,
           -0.025907649031732625,
           0.007253632899269656,
           -0.05846212729512349,
           -0.009650298962270844,
           -0.0006757725081645131,
           -0.0007236760876362227,
           -0.0013133351932833749,
           0.01315903303954498,
           0.0009284186763474926,
           -0.008117878106849651
          ],
          [
           -0.004423102779046659,
           0.017002736928370666,
           0.008092726252910841,
           -0.002124145071554668,
           -0.00021662518751615359,
           0.008410170483098084,
           -0.019588740725196438,
           -0.0032773303984870777,
           0.017005056297717553,
           -0.014173533874325309,
           -0.02172478194978567,
           0.01474931649432179,
           -0.08554620413044048,
           -0.030421973183192116,
           -0.025828871574915906,
           -0.043931185414719756,
           -0.033155482857031716,
           -0.03004086763025235,
           -0.05188220347670458,
           -0.023413019499726333,
           -0.07029045983973695,
           1,
           -0.014282147534697354,
           0.0065064237181727816,
           -0.011776741572428053,
           0.010782114831360339,
           -0.015325470150456212,
           0.016442488257035526,
           0.009204622735521783,
           -0.003322924185692307,
           0.006093751088070366,
           -0.012897558052211227,
           -0.018435701913446706,
           -0.013644343922968826,
           0.013034932265105182,
           -0.004770363531439052,
           0.018240993761027804,
           0.006238935305989922,
           -0.024920889199065037,
           0.027754203040089548,
           0.012390922750198867,
           0.022750571553619234,
           -0.005269042888330779,
           0.006846210906743166,
           0.0007392951551827003,
           -0.005237694171131305
          ],
          [
           0.04778464217466488,
           -0.0007672494303468507,
           -0.00047891021582577206,
           0.005258334781149923,
           0.0026153058412767853,
           -0.0033537620873573316,
           0.015790126155674364,
           0.022240322037834083,
           0.033115225061881366,
           0.016984714243334375,
           0.007336159266271903,
           -0.00015393926838681894,
           -0.048391784285341154,
           -0.017209104469097392,
           -0.014610878346878853,
           -0.024850996833791553,
           -0.018755396462096445,
           -0.016993520646351873,
           -0.029348729431228272,
           -0.01324427893225596,
           -0.039761913511620624,
           -0.014282147534697354,
           1,
           0.019098410769384788,
           -0.01132037736569117,
           0.05170281285459894,
           0.004324124886035304,
           -0.013427264726168441,
           -0.025353763639499177,
           -0.0018797120459649673,
           -0.024515212096115308,
           -0.03133546778015702,
           0.1590285267941497,
           0.008012104887636772,
           0.0022229078297178995,
           -0.003918315197500689,
           0.015739419775143308,
           -0.005657332519773943,
           0.005580794048473409,
           -0.02352257646918186,
           0.004692883033103524,
           0.00800023013734765,
           0.006579194583361783,
           0.0012936270803034224,
           0.00630498548141018,
           0.0032913001655909178
          ],
          [
           0.2713442478922078,
           0.006893902319506241,
           -0.010589208748079518,
           -0.0011750046621369385,
           0.0023293653284748622,
           -0.04343191384136137,
           0.08019005657243729,
           0.04646233941109962,
           0.062033049662643315,
           0.08890568836160967,
           0.08246856130208939,
           -0.043475794738130485,
           0.12924772751427543,
           0.0510552938479021,
           0.042496287605481936,
           0.06176699702980089,
           0.05794836587701381,
           0.011967309628255537,
           -0.018177922888341993,
           -0.16832138080326203,
           -0.05501406940369995,
           0.0065064237181727816,
           0.019098410769384788,
           1,
           -0.7737655979161693,
           -0.054630410366940434,
           0.08223926046669792,
           0.06982493778398917,
           -0.0707246559608334,
           0.00975902428855447,
           -0.0024467283317036966,
           -0.10574859204755477,
           0.001473539502359926,
           0.03786135829401076,
           0.0028820283855858315,
           -0.05148008649306052,
           0.019463974649711453,
           -0.04189657454633827,
           0.01893424410333579,
           0.005235490982714615,
           -0.013275704051681022,
           -0.005945632173966209,
           0.005063758583718526,
           -0.00877928263909889,
           0.0012632676079110045,
           -0.004111933151052727
          ],
          [
           -0.41180562306630086,
           -0.005334264450228421,
           0.014167087619358046,
           0.0050145721384268396,
           -0.007587330835948745,
           0.04850575960522057,
           -0.09935894106087333,
           -0.06300285742188054,
           -0.056202027673964185,
           -0.10943999958910958,
           -0.10233342650772909,
           0.054208508484670986,
           -0.10016206627201746,
           -0.06024812718933983,
           -0.06097530610409635,
           -0.06736622432967375,
           -0.1055323300187653,
           -0.005944127560897048,
           0.004010013576341381,
           0.2166801379566028,
           0.057315516935810294,
           -0.011776741572428053,
           -0.01132037736569117,
           -0.7737655979161693,
           1,
           -0.027571817060627786,
           -0.07223673757081624,
           -0.058281646366919626,
           0.06123777231405905,
           -0.010483414493006478,
           -0.008045789209318945,
           0.11712452692536898,
           -0.0013087494104651299,
           -0.02262423635304308,
           -0.0017216913092238748,
           0.03928051771969584,
           -0.017325876740026395,
           0.0451923687750169,
           -0.015162629781933506,
           -0.021920022643870576,
           0.0192665952356575,
           0.013375577614030515,
           -0.010213614452146861,
           0.015368519952391257,
           -0.008284101252332476,
           0.005920657340234603
          ],
          [
           0.0010635884228431894,
           -0.0003766167127442325,
           -0.007630437991830959,
           -0.00021384587131628244,
           0.009868398968692155,
           0.009091166927265722,
           -0.00851520565096384,
           -0.007963130541622931,
           -0.0030235472459001797,
           -0.007841577249796061,
           -0.005887513571880725,
           0.005210188848426367,
           -0.005255479664567338,
           0.0005111352328388206,
           0.0032754317600715054,
           -0.005756746082405688,
           0.00458443814070622,
           0.006765396171875296,
           -0.003191392102133758,
           -0.002676994885653103,
           -0.0016294256983938682,
           0.010782114831360339,
           0.05170281285459894,
           -0.054630410366940434,
           -0.027571817060627786,
           1,
           0.003726566803526918,
           -0.005835440740746996,
           -0.005863047000892635,
           -0.0009226868651268065,
           -0.006918574304060888,
           0.008905373636568983,
           0.015501116569930397,
           -0.0030879689590518488,
           -0.002939820152989346,
           -0.007168047509460968,
           0.0027426331952578645,
           0.009349740132274489,
           0.007309345670440113,
           -0.0017788962318544266,
           0.006775417912192124,
           -0.00522742174165963,
           0.0033533135287380457,
           0.009837402997215788,
           -0.006539075120566138,
           -0.0024980523408184665
          ],
          [
           0.009917932155576464,
           -0.0020719337472633703,
           -0.008102324711938986,
           -0.005207488186621665,
           -0.0009565621776073195,
           -0.021485611527906436,
           0.02300038075587236,
           0.03111202620603323,
           -0.03289042339396461,
           0.02115688412672831,
           0.025788171702191456,
           -0.02349327965343718,
           0.2310309391663984,
           -0.005742739068641535,
           0.012057087414536273,
           -0.03204679249651207,
           -0.010908849260991189,
           -0.031379809413306196,
           0.001895653211088235,
           -0.026215363311816155,
           -0.08246149553090316,
           -0.015325470150456212,
           0.004324124886035304,
           0.08223926046669792,
           -0.07223673757081624,
           0.003726566803526918,
           1,
           -0.10068722914644168,
           -0.13303763789893971,
           -0.005076105200119409,
           -0.0926877349292494,
           -0.1571704383026498,
           -0.050832686103521665,
           -0.06012454502359832,
           -0.01617324027253203,
           0.011210251110444908,
           0.012987578505081103,
           -0.01794949978930423,
           0.0606404271007476,
           -0.023749747362815935,
           -0.01449319497801928,
           -0.01424965655397346,
           -0.013238799018639754,
           0.001432764086151076,
           0.0032274523341922438,
           0.012355502942479939
          ],
          [
           -0.03831816143947728,
           -0.0035408478680368782,
           -0.002172693159798512,
           -0.006553146792021986,
           -0.005321431040564639,
           -0.026461629063863637,
           0.02041702330711555,
           0.03416859646398067,
           -0.07384908462740734,
           0.018336824463740325,
           0.030194441210875694,
           -0.045152493272416876,
           0.3723015952124749,
           -0.0013946601536930284,
           -0.02669881699612932,
           -0.0703371389585216,
           -0.036794891575332694,
           0.004279845741088804,
           -0.04520858234868924,
           -0.014016446072519076,
           -0.11227758590034419,
           0.016442488257035526,
           -0.013427264726168441,
           0.06982493778398917,
           -0.058281646366919626,
           -0.005835440740746996,
           -0.10068722914644168,
           1,
           -0.22735574298421438,
           -0.008674850872772198,
           -0.1583994512618401,
           -0.26859768663810596,
           -0.08687092840395046,
           -0.10275812692798539,
           -0.01108836454637817,
           0.02036320884285834,
           0.01130911051442022,
           -0.022890867325415055,
           0.08914809062363695,
           -0.017627064859456826,
           -0.028990760032366676,
           -0.03446401934589628,
           -0.0009551547861024549,
           -0.004925246174375399,
           -0.013144619849191118,
           0.01255703479023005
          ],
          [
           -0.10660649333037198,
           0.002072341772455416,
           -0.006124175344477957,
           -5.4638649228898175e-05,
           0.00019409538364965925,
           0.014353678255912852,
           -0.01712412365160245,
           0.008683042189506752,
           -0.05180965054156342,
           -0.020606356089855102,
           -0.015524547775332794,
           -0.0074076983968132375,
           -0.17387509831027398,
           -0.031931556954930426,
           -0.025785111997013718,
           -0.08468182733658489,
           -0.03483158264068266,
           -0.06637354585551189,
           0.34440372435560324,
           0.06187628462006266,
           -0.10664898027314473,
           0.009204622735521783,
           -0.025353763639499177,
           -0.0707246559608334,
           0.06123777231405905,
           -0.005863047000892635,
           -0.13303763789893971,
           -0.22735574298421438,
           1,
           -0.011462046170330652,
           -0.20929256886903003,
           -0.35489706170662355,
           -0.11478221433763608,
           -0.07354005469050494,
           -0.001775041461789816,
           0.030831617719814724,
           0.004037208007834857,
           -0.018200374499515417,
           0.04088134427101002,
           -0.01022495863926978,
           0.0006021848962448329,
           -0.012168744858305271,
           0.009911489379880022,
           -0.01980585491356386,
           0.0007348751344868192,
           0.0026018519025927055
          ],
          [
           0.017010595684496584,
           -0.0001785103873464667,
           0.0013266401505586222,
           0.0008701445682576276,
           -0.002189953011552748,
           -0.002615454663617419,
           -0.0028656529216984274,
           -0.009335262356010832,
           0.002498342419343353,
           -0.001262873044598126,
           0.0013728182395801591,
           0.007246440209644789,
           0.011008849031300545,
           0.00857738017056706,
           0.003936756319498132,
           -0.005781902071586445,
           0.013067341719870574,
           0.01514077614519382,
           -0.006828357052708133,
           -0.0030814507887648264,
           -0.009251117435678627,
           -0.003322924185692307,
           -0.0018797120459649673,
           0.00975902428855447,
           -0.010483414493006478,
           -0.0009226868651268065,
           -0.005076105200119409,
           -0.008674850872772198,
           -0.011462046170330652,
           1,
           -0.007985643115442625,
           -0.013541241778545028,
           -0.004379562086956802,
           0.007484347742217493,
           -0.0013934284286408693,
           0.005717408425221335,
           -0.008053603719714595,
           -0.002424275828480187,
           -0.007433008337554696,
           0.004685967192868658,
           -0.002783948049604809,
           -0.0024777155350531087,
           -0.007806551430695018,
           0.006376336382580139,
           0.004285180168168178,
           -0.004539816541007673
          ],
          [
           0.002204876085286347,
           0.01381609958112485,
           0.013264225367032688,
           -0.00042893520774572424,
           0.0026124487510943493,
           -0.007595710792520682,
           0.021972092796844315,
           -0.00393520219335853,
           0.031270216546776246,
           0.01947248179250976,
           0.016320303180745746,
           0.0010711296042828196,
           -0.12649494508247333,
           -0.01984253571309223,
           -0.03492287508427433,
           -0.08032377381989017,
           0.008152583799225755,
           -0.005123875319538343,
           -0.0708419438330496,
           -0.03453808957270317,
           0.48443241028470047,
           0.006093751088070366,
           -0.024515212096115308,
           -0.0024467283317036966,
           -0.008045789209318945,
           -0.006918574304060888,
           -0.0926877349292494,
           -0.1583994512618401,
           -0.20929256886903003,
           -0.007985643115442625,
           1,
           -0.24725788357442519,
           -0.07996912471642599,
           0.07307532448824033,
           -0.0012754816726671103,
           -0.021584661310950104,
           -0.009726315719286624,
           0.009248365440933888,
           -0.034133353286027686,
           5.834938336629895e-05,
           0.005435003728284304,
           0.011515265669270015,
           -0.005619117325888562,
           0.010440982992543906,
           0.009353145805147015,
           -0.009173854543396335
          ],
          [
           -0.07130008020055895,
           -0.005527181710134799,
           0.013920852358784961,
           0.012500313116025754,
           -0.0009739186645539024,
           0.025431444455216567,
           -0.045073011903581685,
           -0.09173930196427328,
           0.07361616816313904,
           -0.033998679439844484,
           -0.033937971371487456,
           0.05026731669010861,
           -0.33662102639802727,
           0.05184479195070162,
           -0.058533318353362646,
           0.24853957565137114,
           -0.05950582883875583,
           0.10067335985340727,
           -0.18021403352882087,
           -0.0326617410732874,
           -0.026157816712082452,
           -0.012897558052211227,
           -0.03133546778015702,
           -0.10574859204755477,
           0.11712452692536898,
           0.008905373636568983,
           -0.1571704383026498,
           -0.26859768663810596,
           -0.35489706170662355,
           -0.013541241778545028,
           -0.24725788357442519,
           1,
           -0.1356035120715152,
           0.15080062308396083,
           0.013027477697921055,
           -0.04686270801681933,
           -0.03031932358542314,
           0.034764695433915895,
           -0.12061981627086302,
           0.06627562605608746,
           0.016761631682415925,
           0.027159992730662382,
           0.00741771903524848,
           0.014539803356105167,
           -0.011218955064262986,
           -0.00560257364846128
          ],
          [
           0.06957069530206667,
           -0.0017876230157695687,
           -0.007586693465440311,
           -0.006919759571600922,
           0.0022096989107689706,
           0.022668600816357694,
           -0.003145971433046589,
           0.029937123092930375,
           0.028359026629425098,
           -0.006158238757289896,
           -0.02181154620438694,
           0.02147600700357244,
           0.018920078825013814,
           -0.0027354868913204025,
           -0.001938195120832707,
           7.014205122347261e-05,
           0.01502513378863932,
           -0.020361382532284252,
           -0.006840175293303792,
           0.10931816440238572,
           -0.02327597478746249,
           -0.018435701913446706,
           0.1590285267941497,
           0.001473539502359926,
           -0.0013087494104651299,
           0.015501116569930397,
           -0.050832686103521665,
           -0.08687092840395046,
           -0.11478221433763608,
           -0.004379562086956802,
           -0.07996912471642599,
           -0.1356035120715152,
           1,
           -0.021861426355000213,
           0.011593751862182672,
           0.02291961318787108,
           0.011393699209733522,
           0.01064621377907037,
           -0.012167182500275434,
           -0.021936400465229097,
           0.0008101499165210717,
           0.02802720414368975,
           -0.0034764593952124737,
           0.0014630710953908023,
           0.0025196284921608116,
           -0.016645753843454212
          ],
          [
           0.0652386199908823,
           0.01235177777804851,
           0.02676899547088478,
           -0.001732655671961735,
           0.015044941207100046,
           -0.04885633490260321,
           0.17783397319314087,
           -0.19209554526471062,
           0.4453057424105674,
           0.16447860782756044,
           0.1930524264584527,
           -0.008777898404596956,
           -0.13131762502013242,
           -0.053173571743239285,
           0.021049029757301746,
           -0.021601289958550794,
           0.02868077755678399,
           -0.0004233667699373546,
           -0.07284575124195536,
           -0.007188234876074838,
           0.14251761111821235,
           -0.013644343922968826,
           0.008012104887636772,
           0.03786135829401076,
           -0.02262423635304308,
           -0.0030879689590518488,
           -0.06012454502359832,
           -0.10275812692798539,
           -0.07354005469050494,
           0.007484347742217493,
           0.07307532448824033,
           0.15080062308396083,
           -0.021861426355000213,
           1,
           -0.0279895017223313,
           -0.19287003130727962,
           -0.1617710321898577,
           -0.048695915112652206,
           -0.29770949240825084,
           -0.1396899343048613,
           -0.05592057484093267,
           -0.04976934718022028,
           -0.009358282420028959,
           0.009092708862640648,
           0.014070181983870418,
           0.003925569643113726
          ],
          [
           0.046574506834836285,
           -0.0005687611410475274,
           0.0063445577620130445,
           0.006514055655816366,
           -0.009826171333735183,
           0.059551640034095125,
           -0.12419935347819905,
           -0.09903800132356722,
           0.09782069907933653,
           -0.1058760000963085,
           -0.12462820013261637,
           0.07931055688225107,
           -0.02534742819132929,
           -0.010774818916305261,
           0.01228624354122627,
           -0.0013173814332284421,
           0.04651698203895249,
           -0.0005633709223965581,
           -0.019274629144196944,
           0.04095310727128342,
           -0.005726251646833492,
           0.013034932265105182,
           0.0022229078297178995,
           0.0028820283855858315,
           -0.0017216913092238748,
           -0.002939820152989346,
           -0.01617324027253203,
           -0.01108836454637817,
           -0.001775041461789816,
           -0.0013934284286408693,
           -0.0012754816726671103,
           0.013027477697921055,
           0.011593751862182672,
           -0.0279895017223313,
           1,
           -0.030592901970715965,
           -0.025660001690989274,
           -0.0077241101031514095,
           -0.04722245988795925,
           -0.02215751424686535,
           -0.008870080295311132,
           -0.007894377105197983,
           0.013901323894401288,
           0.006216827694165108,
           -0.009898256667768304,
           -0.0008760221287101791
          ],
          [
           -0.04349325375974795,
           -0.003919218718805551,
           0.0008147555122912622,
           0.016099143956722427,
           0.09848243856077926,
           -0.11675749463546875,
           0.31491709907201887,
           0.25334518818876023,
           -0.1853649052422349,
           0.281859382506606,
           0.29902754172408536,
           -0.032344460561544976,
           0.027311432593125434,
           0.00676251331872414,
           0.02201890366158895,
           -0.027450483323483762,
           -0.009325285552539078,
           -0.009615411389503307,
           0.021558278949812576,
           -0.02102444107602313,
           -0.020825424196596738,
           -0.004770363531439052,
           -0.003918315197500689,
           -0.05148008649306052,
           0.03928051771969584,
           -0.007168047509460968,
           0.011210251110444908,
           0.02036320884285834,
           0.030831617719814724,
           0.005717408425221335,
           -0.021584661310950104,
           -0.04686270801681933,
           0.02291961318787108,
           -0.19287003130727962,
           -0.030592901970715965,
           1,
           -0.17681791475184896,
           -0.05322529040333301,
           -0.3254004807713593,
           -0.15268297767068817,
           -0.06112194069141979,
           -0.05439856609580906,
           0.005220250037554044,
           0.026378404364059832,
           0.01760132011569155,
           0.006566194206954207
          ],
          [
           -0.009524522110329624,
           -0.003287270983582048,
           -0.057702532721528484,
           -0.009677967925860053,
           0.07010839546909868,
           -0.06994706754102097,
           0.14867676595544077,
           0.44555118102906677,
           -0.08958730485462187,
           0.14113073862471903,
           0.16234777761448266,
           -0.009193464577842687,
           0.032954820430959826,
           0.011352480997815245,
           -0.00041248648991897073,
           -0.0072298886414356965,
           -0.017703971825464227,
           0.008122334168379569,
           0.007277007395471237,
           -0.006029958526552724,
           -0.025907649031732625,
           0.018240993761027804,
           0.015739419775143308,
           0.019463974649711453,
           -0.017325876740026395,
           0.0027426331952578645,
           0.012987578505081103,
           0.01130911051442022,
           0.004037208007834857,
           -0.008053603719714595,
           -0.009726315719286624,
           -0.03031932358542314,
           0.011393699209733522,
           -0.1617710321898577,
           -0.025660001690989274,
           -0.17681791475184896,
           1,
           -0.044643069266859146,
           -0.27293183545758753,
           -0.12806387144852446,
           -0.05126643765274941,
           -0.04562716212218114,
           0.0271187860124388,
           -0.02599655977789096,
           -0.01354965062113238,
           -0.012282497877810524
          ],
          [
           0.008394445769145076,
           -0.000989526163008755,
           0.013163783943683472,
           -0.004053417004133142,
           -0.015256134096617354,
           0.0727227252839722,
           -0.1388788003243109,
           -0.09580820381299986,
           -0.05379832914208275,
           -0.16432299799149525,
           -0.17913088762091428,
           0.1440273804163184,
           -0.036977955584282955,
           -0.019895525042987704,
           -0.010799887516247449,
           0.0026677816133067436,
           0.04376665831471709,
           0.007161822578931142,
           -0.01986213557157342,
           0.0432783729423156,
           0.007253632899269656,
           0.006238935305989922,
           -0.005657332519773943,
           -0.04189657454633827,
           0.0451923687750169,
           0.009349740132274489,
           -0.01794949978930423,
           -0.022890867325415055,
           -0.018200374499515417,
           -0.002424275828480187,
           0.009248365440933888,
           0.034764695433915895,
           0.01064621377907037,
           -0.048695915112652206,
           -0.0077241101031514095,
           -0.05322529040333301,
           -0.044643069266859146,
           1,
           -0.0821572645675214,
           -0.03854946913941943,
           -0.015432095983268657,
           -0.013734575241662043,
           0.01579672851769315,
           -0.00797262928316731,
           0.01751850796385821,
           -0.02018820358795034
          ],
          [
           -0.06749602175684265,
           -0.0060496107534382835,
           -0.023105753363374493,
           0.0002885404571440151,
           -0.03277982937005742,
           -0.012571976736164442,
           -0.11137739442004328,
           -0.05733277811880121,
           -0.011685488938466463,
           -0.13386309902984048,
           -0.17178435661525276,
           -0.1082776828162819,
           0.1361987697716881,
           -0.0007823228918229214,
           -0.018985557778056134,
           -0.013754592583211687,
           -0.06318041037734613,
           -0.016104827512194202,
           0.059259432063689804,
           -0.021614496749738213,
           -0.05846212729512349,
           -0.024920889199065037,
           0.005580794048473409,
           0.01893424410333579,
           -0.015162629781933506,
           0.007309345670440113,
           0.0606404271007476,
           0.08914809062363695,
           0.04088134427101002,
           -0.007433008337554696,
           -0.034133353286027686,
           -0.12061981627086302,
           -0.012167182500275434,
           -0.29770949240825084,
           -0.04722245988795925,
           -0.3254004807713593,
           -0.27293183545758753,
           -0.0821572645675214,
           1,
           -0.235677733205229,
           -0.09434634201546609,
           -0.0839683044086754,
           -0.025926520390420114,
           -0.04370712510313888,
           0.013669433704797684,
           0.026303885632625132
          ],
          [
           0.03007063870655167,
           0.006663950838834569,
           0.033798808719226574,
           -0.003646418563469228,
           -0.0790587793474972,
           0.08105627028125431,
           -0.10594876873161958,
           -0.2153104090794902,
           -0.05286520604768558,
           0.01950375489492944,
           0.0275734104643643,
           -0.011778824608861675,
           -0.06205442047025015,
           0.054465364548693385,
           -0.009498736875166832,
           0.08521423662210996,
           -0.014223576376342938,
           0.025108343779732673,
           -0.020342675208198283,
           -0.018629997380889326,
           -0.009650298962270844,
           0.027754203040089548,
           -0.02352257646918186,
           0.005235490982714615,
           -0.021920022643870576,
           -0.0017788962318544266,
           -0.023749747362815935,
           -0.017627064859456826,
           -0.01022495863926978,
           0.004685967192868658,
           5.834938336629895e-05,
           0.06627562605608746,
           -0.021936400465229097,
           -0.1396899343048613,
           -0.02215751424686535,
           -0.15268297767068817,
           -0.12806387144852446,
           -0.03854946913941943,
           -0.235677733205229,
           1,
           -0.04426877427197191,
           -0.039399237261986526,
           -0.016335840941864868,
           0.008948733557510828,
           0.0016040007155267164,
           0.010812467464558443
          ],
          [
           0.05250645001534731,
           -0.0011363349826691096,
           0.0027446647170617966,
           -0.009727538858196117,
           -0.04907045397048101,
           0.12789515468775467,
           -0.21348594988522115,
           -0.09189621753150987,
           0.1700415438984231,
           -0.18578453800403463,
           -0.27307781153393057,
           0.13753837746474565,
           -0.048984868096033196,
           -0.010408187327349362,
           0.0006356135104121641,
           6.0883019206561295e-05,
           0.08828908632030687,
           -0.0038081535456434205,
           -0.022701756944336286,
           0.048617002503545184,
           -0.0006757725081645131,
           0.012390922750198867,
           0.004692883033103524,
           -0.013275704051681022,
           0.0192665952356575,
           0.006775417912192124,
           -0.01449319497801928,
           -0.028990760032366676,
           0.0006021848962448329,
           -0.002783948049604809,
           0.005435003728284304,
           0.016761631682415925,
           0.0008101499165210717,
           -0.05592057484093267,
           -0.008870080295311132,
           -0.06112194069141979,
           -0.05126643765274941,
           -0.015432095983268657,
           -0.09434634201546609,
           -0.04426877427197191,
           1,
           -0.015772274551838588,
           -0.008812079467516042,
           0.005903196365076965,
           0.0033641494709197328,
           -0.0030953932886255
          ],
          [
           0.04089991903417736,
           -0.0010113388574126709,
           0.006406148883861756,
           -0.0026020328204803787,
           -0.033966057706689104,
           0.15764225991478384,
           -0.17040244798314813,
           -0.046923669838371346,
           0.16921914325219065,
           -0.19035021907620614,
           -0.29219817660324565,
           0.12607860850016314,
           -0.05432517437646813,
           -0.009178531396091956,
           -0.003509099679100321,
           0.00446964186111024,
           0.0646764923161932,
           0.00037472601478061025,
           -0.018256259051494944,
           0.05316517860238676,
           -0.0007236760876362227,
           0.022750571553619234,
           0.00800023013734765,
           -0.005945632173966209,
           0.013375577614030515,
           -0.00522742174165963,
           -0.01424965655397346,
           -0.03446401934589628,
           -0.012168744858305271,
           -0.0024777155350531087,
           0.011515265669270015,
           0.027159992730662382,
           0.02802720414368975,
           -0.04976934718022028,
           -0.007894377105197983,
           -0.05439856609580906,
           -0.04562716212218114,
           -0.013734575241662043,
           -0.0839683044086754,
           -0.039399237261986526,
           -0.015772274551838588,
           1,
           -0.014285702237724775,
           0.001380025189937338,
           0.003173614954994616,
           0.006474109503785047
          ],
          [
           0.019034743872729475,
           -0.004357480930940903,
           0.012463460380575279,
           0.006920265812922021,
           0.014400730607916442,
           -0.002022274258522354,
           -0.01825723631656106,
           0.0012030375732857896,
           -0.0413955831477603,
           -0.023378642030256903,
           -0.017532257819667777,
           -0.021241004172676055,
           -0.009741888866254041,
           0.006823083912919492,
           0.00336059221038786,
           0.008299308509850532,
           -0.0021441787730162786,
           0.005338114713135858,
           0.002831810052569657,
           -0.0016143391460393423,
           -0.0013133351932833749,
           -0.005269042888330779,
           0.006579194583361783,
           0.005063758583718526,
           -0.010213614452146861,
           0.0033533135287380457,
           -0.013238799018639754,
           -0.0009551547861024549,
           0.009911489379880022,
           -0.007806551430695018,
           -0.005619117325888562,
           0.00741771903524848,
           -0.0034764593952124737,
           -0.009358282420028959,
           0.013901323894401288,
           0.005220250037554044,
           0.0271187860124388,
           0.01579672851769315,
           -0.025926520390420114,
           -0.016335840941864868,
           -0.008812079467516042,
           -0.014285702237724775,
           1,
           -0.26263675840772405,
           -0.2523478500198125,
           -0.2532795025911794
          ],
          [
           -0.02134680454444722,
           -0.004391660473143686,
           0.01282144019917733,
           -0.0011124943312323648,
           0.005215394772311553,
           0.0015644254644824605,
           -0.007764202483161662,
           -0.017234431852579182,
           -0.02791740750710194,
           -0.013856611849573477,
           -0.0027478827489494716,
           0.013797126607715954,
           -0.007097323038857101,
           0.005580448561085817,
           -0.008992288472310185,
           -0.005806966509355723,
           -0.013008803823792216,
           0.012620814854678582,
           -5.663584851973128e-05,
           0.005739614663164985,
           0.01315903303954498,
           0.006846210906743166,
           0.0012936270803034224,
           -0.00877928263909889,
           0.015368519952391257,
           0.009837402997215788,
           0.001432764086151076,
           -0.004925246174375399,
           -0.01980585491356386,
           0.006376336382580139,
           0.010440982992543906,
           0.014539803356105167,
           0.0014630710953908023,
           0.009092708862640648,
           0.006216827694165108,
           0.026378404364059832,
           -0.02599655977789096,
           -0.00797262928316731,
           -0.04370712510313888,
           0.008948733557510828,
           0.005903196365076965,
           0.001380025189937338,
           -0.26263675840772405,
           1,
           -0.25432723538631563,
           -0.25526619572537823
          ],
          [
           0.019070011362161295,
           0.017267755325035355,
           -0.011266217259513173,
           -0.009706122774121643,
           -0.02506628034377073,
           0.00012519377722110297,
           0.014741321265487137,
           0.0013966748568395868,
           0.04995247494093278,
           0.02285232599781445,
           0.010042065902337827,
           0.008122607804253572,
           -0.006747969992573364,
           -0.007257180079319836,
           0.011519370822521963,
           0.0016173510056982398,
           0.011809177406386902,
           -0.008055082841378507,
           0.002688177371078675,
           7.229090060755626e-05,
           0.0009284186763474926,
           0.0007392951551827003,
           0.00630498548141018,
           0.0012632676079110045,
           -0.008284101252332476,
           -0.006539075120566138,
           0.0032274523341922438,
           -0.013144619849191118,
           0.0007348751344868192,
           0.004285180168168178,
           0.009353145805147015,
           -0.011218955064262986,
           0.0025196284921608116,
           0.014070181983870418,
           -0.009898256667768304,
           0.01760132011569155,
           -0.01354965062113238,
           0.01751850796385821,
           0.013669433704797684,
           0.0016040007155267164,
           0.0033641494709197328,
           0.003173614954994616,
           -0.2523478500198125,
           -0.25432723538631563,
           1,
           -0.24526603231233698
          ],
          [
           -0.02366376376332965,
           -0.004235193835511691,
           0.0015652781174248951,
           -0.0022517571540627466,
           -0.021140763381002292,
           -0.003979496766905717,
           0.026791325408163553,
           0.012433528538534007,
           0.023744975664434204,
           0.030206021619917502,
           0.023283615843210998,
           0.006289518807382537,
           0.02062625944595091,
           -0.0035080078943050892,
           0.0017737659432900043,
           0.0017541965323790076,
           0.0017151481596459242,
           -0.013269026469077828,
           -0.004682465889963905,
           -0.0024740808659757096,
           -0.008117878106849651,
           -0.005237694171131305,
           0.0032913001655909178,
           -0.004111933151052727,
           0.005920657340234603,
           -0.0024980523408184665,
           0.012355502942479939,
           0.01255703479023005,
           0.0026018519025927055,
           -0.004539816541007673,
           -0.009173854543396335,
           -0.00560257364846128,
           -0.016645753843454212,
           0.003925569643113726,
           -0.0008760221287101791,
           0.006566194206954207,
           -0.012282497877810524,
           -0.02018820358795034,
           0.026303885632625132,
           0.010812467464558443,
           -0.0030953932886255,
           0.006474109503785047,
           -0.2532795025911794,
           -0.25526619572537823,
           -0.24526603231233698,
           1
          ]
         ]
        }
       ],
       "layout": {
        "coloraxis": {
         "colorscale": [
          [
           0,
           "#440154"
          ],
          [
           0.1111111111111111,
           "#482878"
          ],
          [
           0.2222222222222222,
           "#3e4989"
          ],
          [
           0.3333333333333333,
           "#31688e"
          ],
          [
           0.4444444444444444,
           "#26828e"
          ],
          [
           0.5555555555555556,
           "#1f9e89"
          ],
          [
           0.6666666666666666,
           "#35b779"
          ],
          [
           0.7777777777777778,
           "#6ece58"
          ],
          [
           0.8888888888888888,
           "#b5de2b"
          ],
          [
           1,
           "#fde725"
          ]
         ]
        },
        "height": 1200,
        "margin": {
         "t": 60
        },
        "template": {
         "data": {
          "bar": [
           {
            "error_x": {
             "color": "#2a3f5f"
            },
            "error_y": {
             "color": "#2a3f5f"
            },
            "marker": {
             "line": {
              "color": "#E5ECF6",
              "width": 0.5
             },
             "pattern": {
              "fillmode": "overlay",
              "size": 10,
              "solidity": 0.2
             }
            },
            "type": "bar"
           }
          ],
          "barpolar": [
           {
            "marker": {
             "line": {
              "color": "#E5ECF6",
              "width": 0.5
             },
             "pattern": {
              "fillmode": "overlay",
              "size": 10,
              "solidity": 0.2
             }
            },
            "type": "barpolar"
           }
          ],
          "carpet": [
           {
            "aaxis": {
             "endlinecolor": "#2a3f5f",
             "gridcolor": "white",
             "linecolor": "white",
             "minorgridcolor": "white",
             "startlinecolor": "#2a3f5f"
            },
            "baxis": {
             "endlinecolor": "#2a3f5f",
             "gridcolor": "white",
             "linecolor": "white",
             "minorgridcolor": "white",
             "startlinecolor": "#2a3f5f"
            },
            "type": "carpet"
           }
          ],
          "choropleth": [
           {
            "colorbar": {
             "outlinewidth": 0,
             "ticks": ""
            },
            "type": "choropleth"
           }
          ],
          "contour": [
           {
            "colorbar": {
             "outlinewidth": 0,
             "ticks": ""
            },
            "colorscale": [
             [
              0,
              "#0d0887"
             ],
             [
              0.1111111111111111,
              "#46039f"
             ],
             [
              0.2222222222222222,
              "#7201a8"
             ],
             [
              0.3333333333333333,
              "#9c179e"
             ],
             [
              0.4444444444444444,
              "#bd3786"
             ],
             [
              0.5555555555555556,
              "#d8576b"
             ],
             [
              0.6666666666666666,
              "#ed7953"
             ],
             [
              0.7777777777777778,
              "#fb9f3a"
             ],
             [
              0.8888888888888888,
              "#fdca26"
             ],
             [
              1,
              "#f0f921"
             ]
            ],
            "type": "contour"
           }
          ],
          "contourcarpet": [
           {
            "colorbar": {
             "outlinewidth": 0,
             "ticks": ""
            },
            "type": "contourcarpet"
           }
          ],
          "heatmap": [
           {
            "colorbar": {
             "outlinewidth": 0,
             "ticks": ""
            },
            "colorscale": [
             [
              0,
              "#0d0887"
             ],
             [
              0.1111111111111111,
              "#46039f"
             ],
             [
              0.2222222222222222,
              "#7201a8"
             ],
             [
              0.3333333333333333,
              "#9c179e"
             ],
             [
              0.4444444444444444,
              "#bd3786"
             ],
             [
              0.5555555555555556,
              "#d8576b"
             ],
             [
              0.6666666666666666,
              "#ed7953"
             ],
             [
              0.7777777777777778,
              "#fb9f3a"
             ],
             [
              0.8888888888888888,
              "#fdca26"
             ],
             [
              1,
              "#f0f921"
             ]
            ],
            "type": "heatmap"
           }
          ],
          "heatmapgl": [
           {
            "colorbar": {
             "outlinewidth": 0,
             "ticks": ""
            },
            "colorscale": [
             [
              0,
              "#0d0887"
             ],
             [
              0.1111111111111111,
              "#46039f"
             ],
             [
              0.2222222222222222,
              "#7201a8"
             ],
             [
              0.3333333333333333,
              "#9c179e"
             ],
             [
              0.4444444444444444,
              "#bd3786"
             ],
             [
              0.5555555555555556,
              "#d8576b"
             ],
             [
              0.6666666666666666,
              "#ed7953"
             ],
             [
              0.7777777777777778,
              "#fb9f3a"
             ],
             [
              0.8888888888888888,
              "#fdca26"
             ],
             [
              1,
              "#f0f921"
             ]
            ],
            "type": "heatmapgl"
           }
          ],
          "histogram": [
           {
            "marker": {
             "pattern": {
              "fillmode": "overlay",
              "size": 10,
              "solidity": 0.2
             }
            },
            "type": "histogram"
           }
          ],
          "histogram2d": [
           {
            "colorbar": {
             "outlinewidth": 0,
             "ticks": ""
            },
            "colorscale": [
             [
              0,
              "#0d0887"
             ],
             [
              0.1111111111111111,
              "#46039f"
             ],
             [
              0.2222222222222222,
              "#7201a8"
             ],
             [
              0.3333333333333333,
              "#9c179e"
             ],
             [
              0.4444444444444444,
              "#bd3786"
             ],
             [
              0.5555555555555556,
              "#d8576b"
             ],
             [
              0.6666666666666666,
              "#ed7953"
             ],
             [
              0.7777777777777778,
              "#fb9f3a"
             ],
             [
              0.8888888888888888,
              "#fdca26"
             ],
             [
              1,
              "#f0f921"
             ]
            ],
            "type": "histogram2d"
           }
          ],
          "histogram2dcontour": [
           {
            "colorbar": {
             "outlinewidth": 0,
             "ticks": ""
            },
            "colorscale": [
             [
              0,
              "#0d0887"
             ],
             [
              0.1111111111111111,
              "#46039f"
             ],
             [
              0.2222222222222222,
              "#7201a8"
             ],
             [
              0.3333333333333333,
              "#9c179e"
             ],
             [
              0.4444444444444444,
              "#bd3786"
             ],
             [
              0.5555555555555556,
              "#d8576b"
             ],
             [
              0.6666666666666666,
              "#ed7953"
             ],
             [
              0.7777777777777778,
              "#fb9f3a"
             ],
             [
              0.8888888888888888,
              "#fdca26"
             ],
             [
              1,
              "#f0f921"
             ]
            ],
            "type": "histogram2dcontour"
           }
          ],
          "mesh3d": [
           {
            "colorbar": {
             "outlinewidth": 0,
             "ticks": ""
            },
            "type": "mesh3d"
           }
          ],
          "parcoords": [
           {
            "line": {
             "colorbar": {
              "outlinewidth": 0,
              "ticks": ""
             }
            },
            "type": "parcoords"
           }
          ],
          "pie": [
           {
            "automargin": true,
            "type": "pie"
           }
          ],
          "scatter": [
           {
            "fillpattern": {
             "fillmode": "overlay",
             "size": 10,
             "solidity": 0.2
            },
            "type": "scatter"
           }
          ],
          "scatter3d": [
           {
            "line": {
             "colorbar": {
              "outlinewidth": 0,
              "ticks": ""
             }
            },
            "marker": {
             "colorbar": {
              "outlinewidth": 0,
              "ticks": ""
             }
            },
            "type": "scatter3d"
           }
          ],
          "scattercarpet": [
           {
            "marker": {
             "colorbar": {
              "outlinewidth": 0,
              "ticks": ""
             }
            },
            "type": "scattercarpet"
           }
          ],
          "scattergeo": [
           {
            "marker": {
             "colorbar": {
              "outlinewidth": 0,
              "ticks": ""
             }
            },
            "type": "scattergeo"
           }
          ],
          "scattergl": [
           {
            "marker": {
             "colorbar": {
              "outlinewidth": 0,
              "ticks": ""
             }
            },
            "type": "scattergl"
           }
          ],
          "scattermapbox": [
           {
            "marker": {
             "colorbar": {
              "outlinewidth": 0,
              "ticks": ""
             }
            },
            "type": "scattermapbox"
           }
          ],
          "scatterpolar": [
           {
            "marker": {
             "colorbar": {
              "outlinewidth": 0,
              "ticks": ""
             }
            },
            "type": "scatterpolar"
           }
          ],
          "scatterpolargl": [
           {
            "marker": {
             "colorbar": {
              "outlinewidth": 0,
              "ticks": ""
             }
            },
            "type": "scatterpolargl"
           }
          ],
          "scatterternary": [
           {
            "marker": {
             "colorbar": {
              "outlinewidth": 0,
              "ticks": ""
             }
            },
            "type": "scatterternary"
           }
          ],
          "surface": [
           {
            "colorbar": {
             "outlinewidth": 0,
             "ticks": ""
            },
            "colorscale": [
             [
              0,
              "#0d0887"
             ],
             [
              0.1111111111111111,
              "#46039f"
             ],
             [
              0.2222222222222222,
              "#7201a8"
             ],
             [
              0.3333333333333333,
              "#9c179e"
             ],
             [
              0.4444444444444444,
              "#bd3786"
             ],
             [
              0.5555555555555556,
              "#d8576b"
             ],
             [
              0.6666666666666666,
              "#ed7953"
             ],
             [
              0.7777777777777778,
              "#fb9f3a"
             ],
             [
              0.8888888888888888,
              "#fdca26"
             ],
             [
              1,
              "#f0f921"
             ]
            ],
            "type": "surface"
           }
          ],
          "table": [
           {
            "cells": {
             "fill": {
              "color": "#EBF0F8"
             },
             "line": {
              "color": "white"
             }
            },
            "header": {
             "fill": {
              "color": "#C8D4E3"
             },
             "line": {
              "color": "white"
             }
            },
            "type": "table"
           }
          ]
         },
         "layout": {
          "annotationdefaults": {
           "arrowcolor": "#2a3f5f",
           "arrowhead": 0,
           "arrowwidth": 1
          },
          "autotypenumbers": "strict",
          "coloraxis": {
           "colorbar": {
            "outlinewidth": 0,
            "ticks": ""
           }
          },
          "colorscale": {
           "diverging": [
            [
             0,
             "#8e0152"
            ],
            [
             0.1,
             "#c51b7d"
            ],
            [
             0.2,
             "#de77ae"
            ],
            [
             0.3,
             "#f1b6da"
            ],
            [
             0.4,
             "#fde0ef"
            ],
            [
             0.5,
             "#f7f7f7"
            ],
            [
             0.6,
             "#e6f5d0"
            ],
            [
             0.7,
             "#b8e186"
            ],
            [
             0.8,
             "#7fbc41"
            ],
            [
             0.9,
             "#4d9221"
            ],
            [
             1,
             "#276419"
            ]
           ],
           "sequential": [
            [
             0,
             "#0d0887"
            ],
            [
             0.1111111111111111,
             "#46039f"
            ],
            [
             0.2222222222222222,
             "#7201a8"
            ],
            [
             0.3333333333333333,
             "#9c179e"
            ],
            [
             0.4444444444444444,
             "#bd3786"
            ],
            [
             0.5555555555555556,
             "#d8576b"
            ],
            [
             0.6666666666666666,
             "#ed7953"
            ],
            [
             0.7777777777777778,
             "#fb9f3a"
            ],
            [
             0.8888888888888888,
             "#fdca26"
            ],
            [
             1,
             "#f0f921"
            ]
           ],
           "sequentialminus": [
            [
             0,
             "#0d0887"
            ],
            [
             0.1111111111111111,
             "#46039f"
            ],
            [
             0.2222222222222222,
             "#7201a8"
            ],
            [
             0.3333333333333333,
             "#9c179e"
            ],
            [
             0.4444444444444444,
             "#bd3786"
            ],
            [
             0.5555555555555556,
             "#d8576b"
            ],
            [
             0.6666666666666666,
             "#ed7953"
            ],
            [
             0.7777777777777778,
             "#fb9f3a"
            ],
            [
             0.8888888888888888,
             "#fdca26"
            ],
            [
             1,
             "#f0f921"
            ]
           ]
          },
          "colorway": [
           "#636efa",
           "#EF553B",
           "#00cc96",
           "#ab63fa",
           "#FFA15A",
           "#19d3f3",
           "#FF6692",
           "#B6E880",
           "#FF97FF",
           "#FECB52"
          ],
          "font": {
           "color": "#2a3f5f"
          },
          "geo": {
           "bgcolor": "white",
           "lakecolor": "white",
           "landcolor": "#E5ECF6",
           "showlakes": true,
           "showland": true,
           "subunitcolor": "white"
          },
          "hoverlabel": {
           "align": "left"
          },
          "hovermode": "closest",
          "mapbox": {
           "style": "light"
          },
          "paper_bgcolor": "white",
          "plot_bgcolor": "#E5ECF6",
          "polar": {
           "angularaxis": {
            "gridcolor": "white",
            "linecolor": "white",
            "ticks": ""
           },
           "bgcolor": "#E5ECF6",
           "radialaxis": {
            "gridcolor": "white",
            "linecolor": "white",
            "ticks": ""
           }
          },
          "scene": {
           "xaxis": {
            "backgroundcolor": "#E5ECF6",
            "gridcolor": "white",
            "gridwidth": 2,
            "linecolor": "white",
            "showbackground": true,
            "ticks": "",
            "zerolinecolor": "white"
           },
           "yaxis": {
            "backgroundcolor": "#E5ECF6",
            "gridcolor": "white",
            "gridwidth": 2,
            "linecolor": "white",
            "showbackground": true,
            "ticks": "",
            "zerolinecolor": "white"
           },
           "zaxis": {
            "backgroundcolor": "#E5ECF6",
            "gridcolor": "white",
            "gridwidth": 2,
            "linecolor": "white",
            "showbackground": true,
            "ticks": "",
            "zerolinecolor": "white"
           }
          },
          "shapedefaults": {
           "line": {
            "color": "#2a3f5f"
           }
          },
          "ternary": {
           "aaxis": {
            "gridcolor": "white",
            "linecolor": "white",
            "ticks": ""
           },
           "baxis": {
            "gridcolor": "white",
            "linecolor": "white",
            "ticks": ""
           },
           "bgcolor": "#E5ECF6",
           "caxis": {
            "gridcolor": "white",
            "linecolor": "white",
            "ticks": ""
           }
          },
          "title": {
           "x": 0.05
          },
          "xaxis": {
           "automargin": true,
           "gridcolor": "white",
           "linecolor": "white",
           "ticks": "",
           "title": {
            "standoff": 15
           },
           "zerolinecolor": "white",
           "zerolinewidth": 2
          },
          "yaxis": {
           "automargin": true,
           "gridcolor": "white",
           "linecolor": "white",
           "ticks": "",
           "title": {
            "standoff": 15
           },
           "zerolinecolor": "white",
           "zerolinewidth": 2
          }
         }
        },
        "title": {
         "text": "Correlation Heatmap"
        },
        "width": 1200,
        "xaxis": {
         "anchor": "y",
         "autorange": true,
         "constrain": "domain",
         "domain": [
          0,
          1
         ],
         "range": [
          -0.5,
          45.5
         ],
         "scaleanchor": "y",
         "title": {
          "text": "Features"
         },
         "type": "category"
        },
        "yaxis": {
         "anchor": "x",
         "autorange": true,
         "constrain": "domain",
         "domain": [
          0.043979057591623016,
          0.956020942408377
         ],
         "range": [
          45.5,
          -0.5
         ],
         "title": {
          "text": "Features"
         },
         "type": "category"
        }
       }
      },
      "image/png": "[encoded data removed]",
      "text/html": [
       "<div>                            <div id=\"e90e7ed3-6ebd-434a-bf46-5129cacd27a3\" class=\"plotly-graph-div\" style=\"height:1200px; width:1200px;\"></div>            <script type=\"text/javascript\">                require([\"plotly\"], function(Plotly) {                    window.PLOTLYENV=window.PLOTLYENV || {};                                    if (document.getElementById(\"e90e7ed3-6ebd-434a-bf46-5129cacd27a3\")) {                    Plotly.newPlot(                        \"e90e7ed3-6ebd-434a-bf46-5129cacd27a3\",                        [{\"coloraxis\":\"coloraxis\",\"name\":\"0\",\"x\":[\"age\",\"default\",\"housing\",\"loan\",\"campaign\",\"previous\",\"emp.var.rate\",\"cons.price.idx\",\"cons.conf.idx\",\"euribor3m\",\"nr.employed\",\"y\",\"job_blue-collar\",\"job_entrepreneur\",\"job_housemaid\",\"job_management\",\"job_retired\",\"job_self-employed\",\"job_services\",\"job_student\",\"job_technician\",\"job_unemployed\",\"job_unknown\",\"marital_married\",\"marital_single\",\"marital_unknown\",\"education_basic.6y\",\"education_basic.9y\",\"education_high.school\",\"education_illiterate\",\"education_professional.course\",\"education_university.degree\",\"education_unknown\",\"month_aug\",\"month_dec\",\"month_jul\",\"month_jun\",\"month_mar\",\"month_may\",\"month_nov\",\"month_oct\",\"month_sep\",\"day_of_week_mon\",\"day_of_week_thu\",\"day_of_week_tue\",\"day_of_week_wed\"],\"y\":[\"age\",\"default\",\"housing\",\"loan\",\"campaign\",\"previous\",\"emp.var.rate\",\"cons.price.idx\",\"cons.conf.idx\",\"euribor3m\",\"nr.employed\",\"y\",\"job_blue-collar\",\"job_entrepreneur\",\"job_housemaid\",\"job_management\",\"job_retired\",\"job_self-employed\",\"job_services\",\"job_student\",\"job_technician\",\"job_unemployed\",\"job_unknown\",\"marital_married\",\"marital_single\",\"marital_unknown\",\"education_basic.6y\",\"education_basic.9y\",\"education_high.school\",\"education_illiterate\",\"education_professional.course\",\"education_university.degree\",\"education_unknown\",\"month_aug\",\"month_dec\",\"month_jul\",\"month_jun\",\"month_mar\",\"month_may\",\"month_nov\",\"month_oct\",\"month_sep\",\"day_of_week_mon\",\"day_of_week_thu\",\"day_of_week_tue\",\"day_of_week_wed\"],\"z\":[[1.0,0.0018918546827464862,-0.0012897985599652263,-0.007189246398069915,0.004621554404820576,0.024378784076960428,-0.00024210386575589706,0.001009414451220224,0.12907464761650173,0.010851508752396507,-0.017607472690829396,0.03038053621987714,-0.024178337962121765,0.03122370838896193,0.08542453434408323,0.06206002898478742,0.4407998345300566,-0.0013510916944697142,-0.06574393646912961,-0.19978598157523966,-0.06431927911755869,-0.004423102779046659,0.04778464217466488,0.2713442478922078,-0.41180562306630086,0.0010635884228431894,0.009917932155576464,-0.03831816143947728,-0.10660649333037198,0.017010595684496584,0.002204876085286347,-0.07130008020055895,0.06957069530206667,0.0652386199908823,0.046574506834836285,-0.04349325375974795,-0.009524522110329624,0.008394445769145076,-0.06749602175684265,0.03007063870655167,0.05250645001534731,0.04089991903417736,0.019034743872729475,-0.02134680454444722,0.019070011362161295,-0.02366376376332965],[0.0018918546827464862,1.0,-0.003256609317569549,-0.00361025619990625,-0.0038039714599626753,0.0027648603804852983,0.00444540042484454,-0.003141882728674135,0.004493572756062136,0.005274447822279151,0.005942487999383908,-0.003041586100561618,-0.004595616746568427,-0.0016342949502605006,-0.0013875495232220853,-0.002360021621539695,-0.0017811414756171446,-0.00161382162734567,-0.0027871572511020707,-0.001257767841301437,0.011605371191518388,0.017002736928370666,-0.0007672494303468507,0.006893902319506241,-0.005334264450228421,-0.0003766167127442325,-0.0020719337472633703,-0.0035408478680368782,0.002072341772455416,-0.0001785103873464667,0.01381609958112485,-0.005527181710134799,-0.0017876230157695687,0.01235177777804851,-0.0005687611410475274,-0.003919218718805551,-0.003287270983582048,-0.000989526163008755,-0.0060496107534382835,0.006663950838834569,-0.0011363349826691096,-0.0010113388574126709,-0.004357480930940903,-0.004391660473143686,0.017267755325035355,-0.004235193835511691],[-0.0012897985599652263,-0.003256609317569549,1.0,0.05663422300195658,-0.01086062899722895,0.02042797737203329,-0.05991287860073774,-0.08199183164232604,-0.034319478588799794,-0.05891868154306358,-0.045076412393482944,0.011804287462425496,-0.016007116293467218,0.0042760781871861945,-0.004699610600014998,-0.007914771761504402,-0.0019489371683651688,-0.0011784742004586318,-0.004813082888826318,0.004252198877361386,0.01085912975689404,0.008092726252910841,-0.00047891021582577206,-0.010589208748079518,0.014167087619358046,-0.007630437991830959,-0.008102324711938986,-0.002172693159798512,-0.006124175344477957,0.0013266401505586222,0.013264225367032688,0.013920852358784961,-0.007586693465440311,0.02676899547088478,0.0063445577620130445,0.0008147555122912622,-0.057702532721528484,0.013163783943683472,-0.023105753363374493,0.033798808719226574,0.0027446647170617966,0.006406148883861756,0.012463460380575279,0.01282144019917733,-0.011266217259513173,0.0015652781174248951],[-0.007189246398069915,-0.00361025619990625,0.05663422300195658,1.0,0.005250904352369682,-0.002186560876583129,0.0011830863533604094,-0.0059851096975584925,-0.013651916011762051,-0.0004875704433656825,0.0042118550260072385,-0.0044781671109639315,-0.006169247757270232,-0.005472853035213549,-0.0029250607222305125,-0.0012346165168867812,-0.007003471867931313,-0.007647199419733169,-0.00021751907108578938,0.004331667833233947,-0.006141941125932583,-0.002124145071554668,0.005258334781149923,-0.0011750046621369385,0.0050145721384268396,-0.00021384587131628244,-0.005207488186621665,-0.006553146792021986,-5.4638649228898175e-05,0.0008701445682576276,-0.00042893520774572424,0.012500313116025754,-0.006919759571600922,-0.001732655671961735,0.006514055655816366,0.016099143956722427,-0.009677967925860053,-0.004053417004133142,0.0002885404571440151,-0.003646418563469228,-0.009727538858196117,-0.0026020328204803787,0.006920265812922021,-0.0011124943312323648,-0.009706122774121643,-0.0022517571540627466],[0.004621554404820576,-0.0038039714599626753,-0.01086062899722895,0.005250904352369682,1.0,-0.07918189798423754,0.15078603405165494,0.1278262040259672,-0.013656720254691295,0.13516895707856788,0.14412852485233407,-0.06636068437609752,-0.0017976010505691851,-0.0022229825343692815,0.0042096988934485135,-0.009163692398164,-0.006734959162637652,0.006341610064788344,0.0024429347101815745,-0.024673272183157704,0.0015890433759232852,-0.00021662518751615359,0.0026153058412767853,0.0023293653284748622,-0.007587330835948745,0.009868398968692155,-0.0009565621776073195,-0.005321431040564639,0.00019409538364965925,-0.002189953011552748,0.0026124487510943493,-0.0009739186645539024,0.0022096989107689706,0.015044941207100046,-0.009826171333735183,0.09848243856077926,0.07010839546909868,-0.015256134096617354,-0.03277982937005742,-0.0790587793474972,-0.04907045397048101,-0.033966057706689104,0.014400730607916442,0.005215394772311553,-0.02506628034377073,-0.021140763381002292],[0.024378784076960428,0.0027648603804852983,0.02042797737203329,-0.002186560876583129,-0.07918189798423754,1.0,-0.4205865244131137,-0.20319708087254512,-0.050928530469246135,-0.4545712251321002,-0.5014110013165184,0.23020157021544804,-0.05488524414373661,-0.013259037509368597,-0.011585744520782294,0.006707050399012548,0.06521487689325021,-0.011250067837735163,-0.011864099605268913,0.10465848764833603,-0.017100139623929797,0.008410170483098084,-0.0033537620873573316,-0.04343191384136137,0.04850575960522057,0.009091166927265722,-0.021485611527906436,-0.026461629063863637,0.014353678255912852,-0.002615454663617419,-0.007595710792520682,0.025431444455216567,0.022668600816357694,-0.04885633490260321,0.059551640034095125,-0.11675749463546875,-0.06994706754102097,0.0727227252839722,-0.012571976736164442,0.08105627028125431,0.12789515468775467,0.15764225991478384,-0.002022274258522354,0.0015644254644824605,0.00012519377722110297,-0.003979496766905717],[-0.00024210386575589706,0.00444540042484454,-0.05991287860073774,0.0011830863533604094,0.15078603405165494,-0.4205865244131137,1.0,0.7752934229611756,0.1962571091404675,0.972243830979756,0.9069494985179554,-0.2982885042462049,0.05722943557407591,0.009360619562313204,0.0363705403915847,-0.016651692628077405,-0.10359427097529075,0.001472843683029173,0.01946115725798714,-0.139756187622561,0.054062375934650936,-0.019588740725196438,0.015790126155674364,0.08019005657243729,-0.09935894106087333,-0.00851520565096384,0.02300038075587236,0.02041702330711555,-0.01712412365160245,-0.0028656529216984274,0.021972092796844315,-0.045073011903581685,-0.003145971433046589,0.17783397319314087,-0.12419935347819905,0.31491709907201887,0.14867676595544077,-0.1388788003243109,-0.11137739442004328,-0.10594876873161958,-0.21348594988522115,-0.17040244798314813,-0.01825723631656106,-0.007764202483161662,0.014741321265487137,0.026791325408163553],[0.001009414451220224,-0.003141882728674135,-0.08199183164232604,-0.0059851096975584925,0.1278262040259672,-0.20319708087254512,0.7752934229611756,1.0,0.05917013789331304,0.6881797725641069,0.5219450348972965,-0.13613397100799618,0.07524597075857045,0.009807828889289147,0.02832341672025848,-0.02529841294991624,-0.05213944469151955,-0.005140474780546402,0.03335390988670485,-0.06214045188976655,-0.010997382360591631,-0.0032773303984870777,0.022240322037834083,0.04646233941109962,-0.06300285742188054,-0.007963130541622931,0.03111202620603323,0.03416859646398067,0.008683042189506752,-0.009335262356010832,-0.00393520219335853,-0.09173930196427328,0.029937123092930375,-0.19209554526471062,-0.09903800132356722,0.25334518818876023,0.44555118102906677,-0.09580820381299986,-0.05733277811880121,-0.2153104090794902,-0.09189621753150987,-0.046923669838371346,0.0012030375732857896,-0.017234431852579182,0.0013966748568395868,0.012433528538534007],[0.12907464761650173,0.004493572756062136,-0.034319478588799794,-0.013651916011762051,-0.013656720254691295,-0.050928530469246135,0.1962571091404675,0.05917013789331304,1.0,0.2778641726268087,0.10067882831837463,0.054801816509505434,-0.10161845358746809,-0.03230246526522762,0.03539149051829445,0.0008003664155502908,0.08681358917559222,0.0006028443802405434,-0.05552933948855832,0.010039760044774866,0.05505574252074665,0.017005056297717553,0.033115225061881366,0.062033049662643315,-0.056202027673964185,-0.0030235472459001797,-0.03289042339396461,-0.07384908462740734,-0.05180965054156342,0.002498342419343353,0.031270216546776246,0.07361616816313904,0.028359026629425098,0.4453057424105674,0.09782069907933653,-0.1853649052422349,-0.08958730485462187,-0.05379832914208275,-0.011685488938466463,-0.05286520604768558,0.1700415438984231,0.16921914325219065,-0.0413955831477603,-0.02791740750710194,0.04995247494093278,0.023744975664434204],[0.010851508752396507,0.005274447822279151,-0.05891868154306358,-0.0004875704433656825,0.13516895707856788,-0.4545712251321002,0.972243830979756,0.6881797725641069,0.2778641726268087,1.0,0.9451459468620566,-0.30774039558468835,0.04674316488856094,0.018746799704418275,0.036397053456583076,-0.0015904231416704268,-0.10242031668216144,0.007421417983618194,0.014711989286453304,-0.14757406497866188,0.050609861557344635,-0.014173533874325309,0.016984714243334375,0.08890568836160967,-0.10943999958910958,-0.007841577249796061,0.02115688412672831,0.018336824463740325,-0.020606356089855102,-0.001262873044598126,0.01947248179250976,-0.033998679439844484,-0.006158238757289896,0.16447860782756044,-0.1058760000963085,0.281859382506606,0.14113073862471903,-0.16432299799149525,-0.13386309902984048,0.01950375489492944,-0.18578453800403463,-0.19035021907620614,-0.023378642030256903,-0.013856611849573477,0.02285232599781445,0.030206021619917502],[-0.017607472690829396,0.005942487999383908,-0.045076412393482944,0.0042118550260072385,0.14412852485233407,-0.5014110013165184,0.9069494985179554,0.5219450348972965,0.10067882831837463,0.9451459468620566,1.0,-0.3546690153826915,0.063924298289249,0.024587850878289564,0.028111305420222964,-0.0014708061538838892,-0.1293072300628332,0.009523658777902547,0.0206497595104386,-0.16538785554624869,0.05254754578402672,-0.02172478194978567,0.007336159266271903,0.08246856130208939,-0.10233342650772909,-0.005887513571880725,0.025788171702191456,0.030194441210875694,-0.015524547775332794,0.0013728182395801591,0.016320303180745746,-0.033937971371487456,-0.02181154620438694,0.1930524264584527,-0.12462820013261637,0.29902754172408536,0.16234777761448266,-0.17913088762091428,-0.17178435661525276,0.0275734104643643,-0.27307781153393057,-0.29219817660324565,-0.017532257819667777,-0.0027478827489494716,0.010042065902337827,0.023283615843210998],[0.03038053621987714,-0.003041586100561618,0.011804287462425496,-0.0044781671109639315,-0.06636068437609752,0.23020157021544804,-0.2982885042462049,-0.13613397100799618,0.054801816509505434,-0.30774039558468835,-0.3546690153826915,1.0,-0.07443148515321889,-0.016651019209331427,-0.006510082905095313,-0.00042638596310907035,0.09236405309496007,-0.004668203660612996,-0.032262452033936455,0.09396188269293622,-0.006069375967782863,0.01474931649432179,-0.00015393926838681894,-0.043475794738130485,0.054208508484670986,0.005210188848426367,-0.02349327965343718,-0.045152493272416876,-0.0074076983968132375,0.007246440209644789,0.0010711296042828196,0.05026731669010861,0.02147600700357244,-0.008777898404596956,0.07931055688225107,-0.032344460561544976,-0.009193464577842687,0.1440273804163184,-0.1082776828162819,-0.011778824608861675,0.13753837746474565,0.12607860850016314,-0.021241004172676055,0.013797126607715954,0.008122607804253572,0.006289518807382537],[-0.024178337962121765,-0.004595616746568427,-0.016007116293467218,-0.006169247757270232,-0.0017976010505691851,-0.05488524414373661,0.05722943557407591,0.07524597075857045,-0.10161845358746809,0.04674316488856094,0.063924298289249,-0.07443148515321889,1.0,-0.10307788518771166,-0.08751521285931153,-0.1488507553099947,-0.11233975635638328,-0.10178659634876099,-0.17579095810300546,-0.07932965167505276,-0.23816311668944617,-0.08554620413044048,-0.048391784285341154,0.12924772751427543,-0.10016206627201746,-0.005255479664567338,0.2310309391663984,0.3723015952124749,-0.17387509831027398,0.011008849031300545,-0.12649494508247333,-0.33662102639802727,0.018920078825013814,-0.13131762502013242,-0.02534742819132929,0.027311432593125434,0.032954820430959826,-0.036977955584282955,0.1361987697716881,-0.06205442047025015,-0.048984868096033196,-0.05432517437646813,-0.009741888866254041,-0.007097323038857101,-0.006747969992573364,0.02062625944595091],[0.03122370838896193,-0.0016342949502605006,0.0042760781871861945,-0.005472853035213549,-0.0022229825343692815,-0.013259037509368597,0.009360619562313204,0.009807828889289147,-0.03230246526522762,0.018746799704418275,0.024587850878289564,-0.016651019209331427,-0.10307788518771166,1.0,-0.031122192805513458,-0.052934361405840055,-0.03995030627038828,-0.03619738755221419,-0.06251484642267548,-0.028211240468490537,-0.08469565684181805,-0.030421973183192116,-0.017209104469097392,0.0510552938479021,-0.06024812718933983,0.0005111352328388206,-0.005742739068641535,-0.0013946601536930284,-0.031931556954930426,0.00857738017056706,-0.01984253571309223,0.05184479195070162,-0.0027354868913204025,-0.053173571743239285,-0.010774818916305261,0.00676251331872414,0.011352480997815245,-0.019895525042987704,-0.0007823228918229214,0.054465364548693385,-0.010408187327349362,-0.009178531396091956,0.006823083912919492,0.005580448561085817,-0.007257180079319836,-0.0035080078943050892],[0.08542453434408323,-0.0013875495232220853,-0.004699610600014998,-0.0029250607222305125,0.0042096988934485135,-0.011585744520782294,0.0363705403915847,0.02832341672025848,0.03539149051829445,0.036397053456583076,0.028111305420222964,-0.006510082905095313,-0.08751521285931153,-0.031122192805513458,1.0,-0.04494234527190497,-0.03391861940784749,-0.03073231538282178,-0.05307637114968446,-0.02395191471118337,-0.07190832857380546,-0.025828871574915906,-0.014610878346878853,0.042496287605481936,-0.06097530610409635,0.0032754317600715054,0.012057087414536273,-0.02669881699612932,-0.025785111997013718,0.003936756319498132,-0.03492287508427433,-0.058533318353362646,-0.001938195120832707,0.021049029757301746,0.01228624354122627,0.02201890366158895,-0.00041248648991897073,-0.010799887516247449,-0.018985557778056134,-0.009498736875166832,0.0006356135104121641,-0.003509099679100321,0.00336059221038786,-0.008992288472310185,0.011519370822521963,0.0017737659432900043],[0.06206002898478742,-0.002360021621539695,-0.007914771761504402,-0.0012346165168867812,-0.009163692398164,0.006707050399012548,-0.016651692628077405,-0.02529841294991624,0.0008003664155502908,-0.0015904231416704268,-0.0014708061538838892,-0.00042638596310907035,-0.1488507553099947,-0.052934361405840055,-0.04494234527190497,1.0,-0.05769067974555064,-0.052271236139389075,-0.09027525245747553,-0.04073875249108545,-0.12230569602221118,-0.043931185414719756,-0.024850996833791553,0.06176699702980089,-0.06736622432967375,-0.005756746082405688,-0.03204679249651207,-0.0703371389585216,-0.08468182733658489,-0.005781902071586445,-0.08032377381989017,0.24853957565137114,7.014205122347261e-05,-0.021601289958550794,-0.0013173814332284421,-0.027450483323483762,-0.0072298886414356965,0.0026677816133067436,-0.013754592583211687,0.08521423662210996,6.0883019206561295e-05,0.00446964186111024,0.008299308509850532,-0.005806966509355723,0.0016173510056982398,0.0017541965323790076],[0.4407998345300566,-0.0017811414756171446,-0.0019489371683651688,-0.007003471867931313,-0.006734959162637652,0.06521487689325021,-0.10359427097529075,-0.05213944469151955,0.08681358917559222,-0.10242031668216144,-0.1293072300628332,0.09236405309496007,-0.11233975635638328,-0.03995030627038828,-0.03391861940784749,-0.05769067974555064,1.0,-0.03944983631501727,-0.06813200137925733,-0.030746108876508374,-0.09230582715901631,-0.033155482857031716,-0.018755396462096445,0.05794836587701381,-0.1055323300187653,0.00458443814070622,-0.010908849260991189,-0.036794891575332694,-0.03483158264068266,0.013067341719870574,0.008152583799225755,-0.05950582883875583,0.01502513378863932,0.02868077755678399,0.04651698203895249,-0.009325285552539078,-0.017703971825464227,0.04376665831471709,-0.06318041037734613,-0.014223576376342938,0.08828908632030687,0.0646764923161932,-0.0021441787730162786,-0.013008803823792216,0.011809177406386902,0.0017151481596459242],[-0.0013510916944697142,-0.00161382162734567,-0.0011784742004586318,-0.007647199419733169,0.006341610064788344,-0.011250067837735163,0.001472843683029173,-0.005140474780546402,0.0006028443802405434,0.007421417983618194,0.009523658777902547,-0.004668203660612996,-0.10178659634876099,-0.03619738755221419,-0.03073231538282178,-0.052271236139389075,-0.03944983631501727,1.0,-0.0617317034302925,-0.027857829454250405,-0.08363464791455574,-0.03004086763025235,-0.016993520646351873,0.011967309628255537,-0.005944127560897048,0.006765396171875296,-0.031379809413306196,0.004279845741088804,-0.06637354585551189,0.01514077614519382,-0.005123875319538343,0.10067335985340727,-0.020361382532284252,-0.0004233667699373546,-0.0005633709223965581,-0.009615411389503307,0.008122334168379569,0.007161822578931142,-0.016104827512194202,0.025108343779732673,-0.0038081535456434205,0.00037472601478061025,0.005338114713135858,0.012620814854678582,-0.008055082841378507,-0.013269026469077828],[-0.06574393646912961,-0.0027871572511020707,-0.004813082888826318,-0.00021751907108578938,0.0024429347101815745,-0.011864099605268913,0.01946115725798714,0.03335390988670485,-0.05552933948855832,0.014711989286453304,0.0206497595104386,-0.032262452033936455,-0.17579095810300546,-0.06251484642267548,-0.05307637114968446,-0.09027525245747553,-0.06813200137925733,-0.0617317034302925,1.0,-0.04811197845395315,-0.14444156121629076,-0.05188220347670458,-0.029348729431228272,-0.018177922888341993,0.004010013576341381,-0.003191392102133758,0.001895653211088235,-0.04520858234868924,0.34440372435560324,-0.006828357052708133,-0.0708419438330496,-0.18021403352882087,-0.006840175293303792,-0.07284575124195536,-0.019274629144196944,0.021558278949812576,0.007277007395471237,-0.01986213557157342,0.059259432063689804,-0.020342675208198283,-0.022701756944336286,-0.018256259051494944,0.002831810052569657,-5.663584851973128e-05,0.002688177371078675,-0.004682465889963905],[-0.19978598157523966,-0.001257767841301437,0.004252198877361386,0.004331667833233947,-0.024673272183157704,0.10465848764833603,-0.139756187622561,-0.06214045188976655,0.010039760044774866,-0.14757406497866188,-0.16538785554624869,0.09396188269293622,-0.07932965167505276,-0.028211240468490537,-0.02395191471118337,-0.04073875249108545,-0.030746108876508374,-0.027857829454250405,-0.04811197845395315,1.0,-0.06518252623650364,-0.023413019499726333,-0.01324427893225596,-0.16832138080326203,0.2166801379566028,-0.002676994885653103,-0.026215363311816155,-0.014016446072519076,0.06187628462006266,-0.0030814507887648264,-0.03453808957270317,-0.0326617410732874,0.10931816440238572,-0.007188234876074838,0.04095310727128342,-0.02102444107602313,-0.006029958526552724,0.0432783729423156,-0.021614496749738213,-0.018629997380889326,0.048617002503545184,0.05316517860238676,-0.0016143391460393423,0.005739614663164985,7.229090060755626e-05,-0.0024740808659757096],[-0.06431927911755869,0.011605371191518388,0.01085912975689404,-0.006141941125932583,0.0015890433759232852,-0.017100139623929797,0.054062375934650936,-0.010997382360591631,0.05505574252074665,0.050609861557344635,0.05254754578402672,-0.006069375967782863,-0.23816311668944617,-0.08469565684181805,-0.07190832857380546,-0.12230569602221118,-0.09230582715901631,-0.08363464791455574,-0.14444156121629076,-0.06518252623650364,1.0,-0.07029045983973695,-0.039761913511620624,-0.05501406940369995,0.057315516935810294,-0.0016294256983938682,-0.08246149553090316,-0.11227758590034419,-0.10664898027314473,-0.009251117435678627,0.48443241028470047,-0.026157816712082452,-0.02327597478746249,0.14251761111821235,-0.005726251646833492,-0.020825424196596738,-0.025907649031732625,0.007253632899269656,-0.05846212729512349,-0.009650298962270844,-0.0006757725081645131,-0.0007236760876362227,-0.0013133351932833749,0.01315903303954498,0.0009284186763474926,-0.008117878106849651],[-0.004423102779046659,0.017002736928370666,0.008092726252910841,-0.002124145071554668,-0.00021662518751615359,0.008410170483098084,-0.019588740725196438,-0.0032773303984870777,0.017005056297717553,-0.014173533874325309,-0.02172478194978567,0.01474931649432179,-0.08554620413044048,-0.030421973183192116,-0.025828871574915906,-0.043931185414719756,-0.033155482857031716,-0.03004086763025235,-0.05188220347670458,-0.023413019499726333,-0.07029045983973695,1.0,-0.014282147534697354,0.0065064237181727816,-0.011776741572428053,0.010782114831360339,-0.015325470150456212,0.016442488257035526,0.009204622735521783,-0.003322924185692307,0.006093751088070366,-0.012897558052211227,-0.018435701913446706,-0.013644343922968826,0.013034932265105182,-0.004770363531439052,0.018240993761027804,0.006238935305989922,-0.024920889199065037,0.027754203040089548,0.012390922750198867,0.022750571553619234,-0.005269042888330779,0.006846210906743166,0.0007392951551827003,-0.005237694171131305],[0.04778464217466488,-0.0007672494303468507,-0.00047891021582577206,0.005258334781149923,0.0026153058412767853,-0.0033537620873573316,0.015790126155674364,0.022240322037834083,0.033115225061881366,0.016984714243334375,0.007336159266271903,-0.00015393926838681894,-0.048391784285341154,-0.017209104469097392,-0.014610878346878853,-0.024850996833791553,-0.018755396462096445,-0.016993520646351873,-0.029348729431228272,-0.01324427893225596,-0.039761913511620624,-0.014282147534697354,1.0,0.019098410769384788,-0.01132037736569117,0.05170281285459894,0.004324124886035304,-0.013427264726168441,-0.025353763639499177,-0.0018797120459649673,-0.024515212096115308,-0.03133546778015702,0.1590285267941497,0.008012104887636772,0.0022229078297178995,-0.003918315197500689,0.015739419775143308,-0.005657332519773943,0.005580794048473409,-0.02352257646918186,0.004692883033103524,0.00800023013734765,0.006579194583361783,0.0012936270803034224,0.00630498548141018,0.0032913001655909178],[0.2713442478922078,0.006893902319506241,-0.010589208748079518,-0.0011750046621369385,0.0023293653284748622,-0.04343191384136137,0.08019005657243729,0.04646233941109962,0.062033049662643315,0.08890568836160967,0.08246856130208939,-0.043475794738130485,0.12924772751427543,0.0510552938479021,0.042496287605481936,0.06176699702980089,0.05794836587701381,0.011967309628255537,-0.018177922888341993,-0.16832138080326203,-0.05501406940369995,0.0065064237181727816,0.019098410769384788,1.0,-0.7737655979161693,-0.054630410366940434,0.08223926046669792,0.06982493778398917,-0.0707246559608334,0.00975902428855447,-0.0024467283317036966,-0.10574859204755477,0.001473539502359926,0.03786135829401076,0.0028820283855858315,-0.05148008649306052,0.019463974649711453,-0.04189657454633827,0.01893424410333579,0.005235490982714615,-0.013275704051681022,-0.005945632173966209,0.005063758583718526,-0.00877928263909889,0.0012632676079110045,-0.004111933151052727],[-0.41180562306630086,-0.005334264450228421,0.014167087619358046,0.0050145721384268396,-0.007587330835948745,0.04850575960522057,-0.09935894106087333,-0.06300285742188054,-0.056202027673964185,-0.10943999958910958,-0.10233342650772909,0.054208508484670986,-0.10016206627201746,-0.06024812718933983,-0.06097530610409635,-0.06736622432967375,-0.1055323300187653,-0.005944127560897048,0.004010013576341381,0.2166801379566028,0.057315516935810294,-0.011776741572428053,-0.01132037736569117,-0.7737655979161693,1.0,-0.027571817060627786,-0.07223673757081624,-0.058281646366919626,0.06123777231405905,-0.010483414493006478,-0.008045789209318945,0.11712452692536898,-0.0013087494104651299,-0.02262423635304308,-0.0017216913092238748,0.03928051771969584,-0.017325876740026395,0.0451923687750169,-0.015162629781933506,-0.021920022643870576,0.0192665952356575,0.013375577614030515,-0.010213614452146861,0.015368519952391257,-0.008284101252332476,0.005920657340234603],[0.0010635884228431894,-0.0003766167127442325,-0.007630437991830959,-0.00021384587131628244,0.009868398968692155,0.009091166927265722,-0.00851520565096384,-0.007963130541622931,-0.0030235472459001797,-0.007841577249796061,-0.005887513571880725,0.005210188848426367,-0.005255479664567338,0.0005111352328388206,0.0032754317600715054,-0.005756746082405688,0.00458443814070622,0.006765396171875296,-0.003191392102133758,-0.002676994885653103,-0.0016294256983938682,0.010782114831360339,0.05170281285459894,-0.054630410366940434,-0.027571817060627786,1.0,0.003726566803526918,-0.005835440740746996,-0.005863047000892635,-0.0009226868651268065,-0.006918574304060888,0.008905373636568983,0.015501116569930397,-0.0030879689590518488,-0.002939820152989346,-0.007168047509460968,0.0027426331952578645,0.009349740132274489,0.007309345670440113,-0.0017788962318544266,0.006775417912192124,-0.00522742174165963,0.0033533135287380457,0.009837402997215788,-0.006539075120566138,-0.0024980523408184665],[0.009917932155576464,-0.0020719337472633703,-0.008102324711938986,-0.005207488186621665,-0.0009565621776073195,-0.021485611527906436,0.02300038075587236,0.03111202620603323,-0.03289042339396461,0.02115688412672831,0.025788171702191456,-0.02349327965343718,0.2310309391663984,-0.005742739068641535,0.012057087414536273,-0.03204679249651207,-0.010908849260991189,-0.031379809413306196,0.001895653211088235,-0.026215363311816155,-0.08246149553090316,-0.015325470150456212,0.004324124886035304,0.08223926046669792,-0.07223673757081624,0.003726566803526918,1.0,-0.10068722914644168,-0.13303763789893971,-0.005076105200119409,-0.0926877349292494,-0.1571704383026498,-0.050832686103521665,-0.06012454502359832,-0.01617324027253203,0.011210251110444908,0.012987578505081103,-0.01794949978930423,0.0606404271007476,-0.023749747362815935,-0.01449319497801928,-0.01424965655397346,-0.013238799018639754,0.001432764086151076,0.0032274523341922438,0.012355502942479939],[-0.03831816143947728,-0.0035408478680368782,-0.002172693159798512,-0.006553146792021986,-0.005321431040564639,-0.026461629063863637,0.02041702330711555,0.03416859646398067,-0.07384908462740734,0.018336824463740325,0.030194441210875694,-0.045152493272416876,0.3723015952124749,-0.0013946601536930284,-0.02669881699612932,-0.0703371389585216,-0.036794891575332694,0.004279845741088804,-0.04520858234868924,-0.014016446072519076,-0.11227758590034419,0.016442488257035526,-0.013427264726168441,0.06982493778398917,-0.058281646366919626,-0.005835440740746996,-0.10068722914644168,1.0,-0.22735574298421438,-0.008674850872772198,-0.1583994512618401,-0.26859768663810596,-0.08687092840395046,-0.10275812692798539,-0.01108836454637817,0.02036320884285834,0.01130911051442022,-0.022890867325415055,0.08914809062363695,-0.017627064859456826,-0.028990760032366676,-0.03446401934589628,-0.0009551547861024549,-0.004925246174375399,-0.013144619849191118,0.01255703479023005],[-0.10660649333037198,0.002072341772455416,-0.006124175344477957,-5.4638649228898175e-05,0.00019409538364965925,0.014353678255912852,-0.01712412365160245,0.008683042189506752,-0.05180965054156342,-0.020606356089855102,-0.015524547775332794,-0.0074076983968132375,-0.17387509831027398,-0.031931556954930426,-0.025785111997013718,-0.08468182733658489,-0.03483158264068266,-0.06637354585551189,0.34440372435560324,0.06187628462006266,-0.10664898027314473,0.009204622735521783,-0.025353763639499177,-0.0707246559608334,0.06123777231405905,-0.005863047000892635,-0.13303763789893971,-0.22735574298421438,1.0,-0.011462046170330652,-0.20929256886903003,-0.35489706170662355,-0.11478221433763608,-0.07354005469050494,-0.001775041461789816,0.030831617719814724,0.004037208007834857,-0.018200374499515417,0.04088134427101002,-0.01022495863926978,0.0006021848962448329,-0.012168744858305271,0.009911489379880022,-0.01980585491356386,0.0007348751344868192,0.0026018519025927055],[0.017010595684496584,-0.0001785103873464667,0.0013266401505586222,0.0008701445682576276,-0.002189953011552748,-0.002615454663617419,-0.0028656529216984274,-0.009335262356010832,0.002498342419343353,-0.001262873044598126,0.0013728182395801591,0.007246440209644789,0.011008849031300545,0.00857738017056706,0.003936756319498132,-0.005781902071586445,0.013067341719870574,0.01514077614519382,-0.006828357052708133,-0.0030814507887648264,-0.009251117435678627,-0.003322924185692307,-0.0018797120459649673,0.00975902428855447,-0.010483414493006478,-0.0009226868651268065,-0.005076105200119409,-0.008674850872772198,-0.011462046170330652,1.0,-0.007985643115442625,-0.013541241778545028,-0.004379562086956802,0.007484347742217493,-0.0013934284286408693,0.005717408425221335,-0.008053603719714595,-0.002424275828480187,-0.007433008337554696,0.004685967192868658,-0.002783948049604809,-0.0024777155350531087,-0.007806551430695018,0.006376336382580139,0.004285180168168178,-0.004539816541007673],[0.002204876085286347,0.01381609958112485,0.013264225367032688,-0.00042893520774572424,0.0026124487510943493,-0.007595710792520682,0.021972092796844315,-0.00393520219335853,0.031270216546776246,0.01947248179250976,0.016320303180745746,0.0010711296042828196,-0.12649494508247333,-0.01984253571309223,-0.03492287508427433,-0.08032377381989017,0.008152583799225755,-0.005123875319538343,-0.0708419438330496,-0.03453808957270317,0.48443241028470047,0.006093751088070366,-0.024515212096115308,-0.0024467283317036966,-0.008045789209318945,-0.006918574304060888,-0.0926877349292494,-0.1583994512618401,-0.20929256886903003,-0.007985643115442625,1.0,-0.24725788357442519,-0.07996912471642599,0.07307532448824033,-0.0012754816726671103,-0.021584661310950104,-0.009726315719286624,0.009248365440933888,-0.034133353286027686,5.834938336629895e-05,0.005435003728284304,0.011515265669270015,-0.005619117325888562,0.010440982992543906,0.009353145805147015,-0.009173854543396335],[-0.07130008020055895,-0.005527181710134799,0.013920852358784961,0.012500313116025754,-0.0009739186645539024,0.025431444455216567,-0.045073011903581685,-0.09173930196427328,0.07361616816313904,-0.033998679439844484,-0.033937971371487456,0.05026731669010861,-0.33662102639802727,0.05184479195070162,-0.058533318353362646,0.24853957565137114,-0.05950582883875583,0.10067335985340727,-0.18021403352882087,-0.0326617410732874,-0.026157816712082452,-0.012897558052211227,-0.03133546778015702,-0.10574859204755477,0.11712452692536898,0.008905373636568983,-0.1571704383026498,-0.26859768663810596,-0.35489706170662355,-0.013541241778545028,-0.24725788357442519,1.0,-0.1356035120715152,0.15080062308396083,0.013027477697921055,-0.04686270801681933,-0.03031932358542314,0.034764695433915895,-0.12061981627086302,0.06627562605608746,0.016761631682415925,0.027159992730662382,0.00741771903524848,0.014539803356105167,-0.011218955064262986,-0.00560257364846128],[0.06957069530206667,-0.0017876230157695687,-0.007586693465440311,-0.006919759571600922,0.0022096989107689706,0.022668600816357694,-0.003145971433046589,0.029937123092930375,0.028359026629425098,-0.006158238757289896,-0.02181154620438694,0.02147600700357244,0.018920078825013814,-0.0027354868913204025,-0.001938195120832707,7.014205122347261e-05,0.01502513378863932,-0.020361382532284252,-0.006840175293303792,0.10931816440238572,-0.02327597478746249,-0.018435701913446706,0.1590285267941497,0.001473539502359926,-0.0013087494104651299,0.015501116569930397,-0.050832686103521665,-0.08687092840395046,-0.11478221433763608,-0.004379562086956802,-0.07996912471642599,-0.1356035120715152,1.0,-0.021861426355000213,0.011593751862182672,0.02291961318787108,0.011393699209733522,0.01064621377907037,-0.012167182500275434,-0.021936400465229097,0.0008101499165210717,0.02802720414368975,-0.0034764593952124737,0.0014630710953908023,0.0025196284921608116,-0.016645753843454212],[0.0652386199908823,0.01235177777804851,0.02676899547088478,-0.001732655671961735,0.015044941207100046,-0.04885633490260321,0.17783397319314087,-0.19209554526471062,0.4453057424105674,0.16447860782756044,0.1930524264584527,-0.008777898404596956,-0.13131762502013242,-0.053173571743239285,0.021049029757301746,-0.021601289958550794,0.02868077755678399,-0.0004233667699373546,-0.07284575124195536,-0.007188234876074838,0.14251761111821235,-0.013644343922968826,0.008012104887636772,0.03786135829401076,-0.02262423635304308,-0.0030879689590518488,-0.06012454502359832,-0.10275812692798539,-0.07354005469050494,0.007484347742217493,0.07307532448824033,0.15080062308396083,-0.021861426355000213,1.0,-0.0279895017223313,-0.19287003130727962,-0.1617710321898577,-0.048695915112652206,-0.29770949240825084,-0.1396899343048613,-0.05592057484093267,-0.04976934718022028,-0.009358282420028959,0.009092708862640648,0.014070181983870418,0.003925569643113726],[0.046574506834836285,-0.0005687611410475274,0.0063445577620130445,0.006514055655816366,-0.009826171333735183,0.059551640034095125,-0.12419935347819905,-0.09903800132356722,0.09782069907933653,-0.1058760000963085,-0.12462820013261637,0.07931055688225107,-0.02534742819132929,-0.010774818916305261,0.01228624354122627,-0.0013173814332284421,0.04651698203895249,-0.0005633709223965581,-0.019274629144196944,0.04095310727128342,-0.005726251646833492,0.013034932265105182,0.0022229078297178995,0.0028820283855858315,-0.0017216913092238748,-0.002939820152989346,-0.01617324027253203,-0.01108836454637817,-0.001775041461789816,-0.0013934284286408693,-0.0012754816726671103,0.013027477697921055,0.011593751862182672,-0.0279895017223313,1.0,-0.030592901970715965,-0.025660001690989274,-0.0077241101031514095,-0.04722245988795925,-0.02215751424686535,-0.008870080295311132,-0.007894377105197983,0.013901323894401288,0.006216827694165108,-0.009898256667768304,-0.0008760221287101791],[-0.04349325375974795,-0.003919218718805551,0.0008147555122912622,0.016099143956722427,0.09848243856077926,-0.11675749463546875,0.31491709907201887,0.25334518818876023,-0.1853649052422349,0.281859382506606,0.29902754172408536,-0.032344460561544976,0.027311432593125434,0.00676251331872414,0.02201890366158895,-0.027450483323483762,-0.009325285552539078,-0.009615411389503307,0.021558278949812576,-0.02102444107602313,-0.020825424196596738,-0.004770363531439052,-0.003918315197500689,-0.05148008649306052,0.03928051771969584,-0.007168047509460968,0.011210251110444908,0.02036320884285834,0.030831617719814724,0.005717408425221335,-0.021584661310950104,-0.04686270801681933,0.02291961318787108,-0.19287003130727962,-0.030592901970715965,1.0,-0.17681791475184896,-0.05322529040333301,-0.3254004807713593,-0.15268297767068817,-0.06112194069141979,-0.05439856609580906,0.005220250037554044,0.026378404364059832,0.01760132011569155,0.006566194206954207],[-0.009524522110329624,-0.003287270983582048,-0.057702532721528484,-0.009677967925860053,0.07010839546909868,-0.06994706754102097,0.14867676595544077,0.44555118102906677,-0.08958730485462187,0.14113073862471903,0.16234777761448266,-0.009193464577842687,0.032954820430959826,0.011352480997815245,-0.00041248648991897073,-0.0072298886414356965,-0.017703971825464227,0.008122334168379569,0.007277007395471237,-0.006029958526552724,-0.025907649031732625,0.018240993761027804,0.015739419775143308,0.019463974649711453,-0.017325876740026395,0.0027426331952578645,0.012987578505081103,0.01130911051442022,0.004037208007834857,-0.008053603719714595,-0.009726315719286624,-0.03031932358542314,0.011393699209733522,-0.1617710321898577,-0.025660001690989274,-0.17681791475184896,1.0,-0.044643069266859146,-0.27293183545758753,-0.12806387144852446,-0.05126643765274941,-0.04562716212218114,0.0271187860124388,-0.02599655977789096,-0.01354965062113238,-0.012282497877810524],[0.008394445769145076,-0.000989526163008755,0.013163783943683472,-0.004053417004133142,-0.015256134096617354,0.0727227252839722,-0.1388788003243109,-0.09580820381299986,-0.05379832914208275,-0.16432299799149525,-0.17913088762091428,0.1440273804163184,-0.036977955584282955,-0.019895525042987704,-0.010799887516247449,0.0026677816133067436,0.04376665831471709,0.007161822578931142,-0.01986213557157342,0.0432783729423156,0.007253632899269656,0.006238935305989922,-0.005657332519773943,-0.04189657454633827,0.0451923687750169,0.009349740132274489,-0.01794949978930423,-0.022890867325415055,-0.018200374499515417,-0.002424275828480187,0.009248365440933888,0.034764695433915895,0.01064621377907037,-0.048695915112652206,-0.0077241101031514095,-0.05322529040333301,-0.044643069266859146,1.0,-0.0821572645675214,-0.03854946913941943,-0.015432095983268657,-0.013734575241662043,0.01579672851769315,-0.00797262928316731,0.01751850796385821,-0.02018820358795034],[-0.06749602175684265,-0.0060496107534382835,-0.023105753363374493,0.0002885404571440151,-0.03277982937005742,-0.012571976736164442,-0.11137739442004328,-0.05733277811880121,-0.011685488938466463,-0.13386309902984048,-0.17178435661525276,-0.1082776828162819,0.1361987697716881,-0.0007823228918229214,-0.018985557778056134,-0.013754592583211687,-0.06318041037734613,-0.016104827512194202,0.059259432063689804,-0.021614496749738213,-0.05846212729512349,-0.024920889199065037,0.005580794048473409,0.01893424410333579,-0.015162629781933506,0.007309345670440113,0.0606404271007476,0.08914809062363695,0.04088134427101002,-0.007433008337554696,-0.034133353286027686,-0.12061981627086302,-0.012167182500275434,-0.29770949240825084,-0.04722245988795925,-0.3254004807713593,-0.27293183545758753,-0.0821572645675214,1.0,-0.235677733205229,-0.09434634201546609,-0.0839683044086754,-0.025926520390420114,-0.04370712510313888,0.013669433704797684,0.026303885632625132],[0.03007063870655167,0.006663950838834569,0.033798808719226574,-0.003646418563469228,-0.0790587793474972,0.08105627028125431,-0.10594876873161958,-0.2153104090794902,-0.05286520604768558,0.01950375489492944,0.0275734104643643,-0.011778824608861675,-0.06205442047025015,0.054465364548693385,-0.009498736875166832,0.08521423662210996,-0.014223576376342938,0.025108343779732673,-0.020342675208198283,-0.018629997380889326,-0.009650298962270844,0.027754203040089548,-0.02352257646918186,0.005235490982714615,-0.021920022643870576,-0.0017788962318544266,-0.023749747362815935,-0.017627064859456826,-0.01022495863926978,0.004685967192868658,5.834938336629895e-05,0.06627562605608746,-0.021936400465229097,-0.1396899343048613,-0.02215751424686535,-0.15268297767068817,-0.12806387144852446,-0.03854946913941943,-0.235677733205229,1.0,-0.04426877427197191,-0.039399237261986526,-0.016335840941864868,0.008948733557510828,0.0016040007155267164,0.010812467464558443],[0.05250645001534731,-0.0011363349826691096,0.0027446647170617966,-0.009727538858196117,-0.04907045397048101,0.12789515468775467,-0.21348594988522115,-0.09189621753150987,0.1700415438984231,-0.18578453800403463,-0.27307781153393057,0.13753837746474565,-0.048984868096033196,-0.010408187327349362,0.0006356135104121641,6.0883019206561295e-05,0.08828908632030687,-0.0038081535456434205,-0.022701756944336286,0.048617002503545184,-0.0006757725081645131,0.012390922750198867,0.004692883033103524,-0.013275704051681022,0.0192665952356575,0.006775417912192124,-0.01449319497801928,-0.028990760032366676,0.0006021848962448329,-0.002783948049604809,0.005435003728284304,0.016761631682415925,0.0008101499165210717,-0.05592057484093267,-0.008870080295311132,-0.06112194069141979,-0.05126643765274941,-0.015432095983268657,-0.09434634201546609,-0.04426877427197191,1.0,-0.015772274551838588,-0.008812079467516042,0.005903196365076965,0.0033641494709197328,-0.0030953932886255],[0.04089991903417736,-0.0010113388574126709,0.006406148883861756,-0.0026020328204803787,-0.033966057706689104,0.15764225991478384,-0.17040244798314813,-0.046923669838371346,0.16921914325219065,-0.19035021907620614,-0.29219817660324565,0.12607860850016314,-0.05432517437646813,-0.009178531396091956,-0.003509099679100321,0.00446964186111024,0.0646764923161932,0.00037472601478061025,-0.018256259051494944,0.05316517860238676,-0.0007236760876362227,0.022750571553619234,0.00800023013734765,-0.005945632173966209,0.013375577614030515,-0.00522742174165963,-0.01424965655397346,-0.03446401934589628,-0.012168744858305271,-0.0024777155350531087,0.011515265669270015,0.027159992730662382,0.02802720414368975,-0.04976934718022028,-0.007894377105197983,-0.05439856609580906,-0.04562716212218114,-0.013734575241662043,-0.0839683044086754,-0.039399237261986526,-0.015772274551838588,1.0,-0.014285702237724775,0.001380025189937338,0.003173614954994616,0.006474109503785047],[0.019034743872729475,-0.004357480930940903,0.012463460380575279,0.006920265812922021,0.014400730607916442,-0.002022274258522354,-0.01825723631656106,0.0012030375732857896,-0.0413955831477603,-0.023378642030256903,-0.017532257819667777,-0.021241004172676055,-0.009741888866254041,0.006823083912919492,0.00336059221038786,0.008299308509850532,-0.0021441787730162786,0.005338114713135858,0.002831810052569657,-0.0016143391460393423,-0.0013133351932833749,-0.005269042888330779,0.006579194583361783,0.005063758583718526,-0.010213614452146861,0.0033533135287380457,-0.013238799018639754,-0.0009551547861024549,0.009911489379880022,-0.007806551430695018,-0.005619117325888562,0.00741771903524848,-0.0034764593952124737,-0.009358282420028959,0.013901323894401288,0.005220250037554044,0.0271187860124388,0.01579672851769315,-0.025926520390420114,-0.016335840941864868,-0.008812079467516042,-0.014285702237724775,1.0,-0.26263675840772405,-0.2523478500198125,-0.2532795025911794],[-0.02134680454444722,-0.004391660473143686,0.01282144019917733,-0.0011124943312323648,0.005215394772311553,0.0015644254644824605,-0.007764202483161662,-0.017234431852579182,-0.02791740750710194,-0.013856611849573477,-0.0027478827489494716,0.013797126607715954,-0.007097323038857101,0.005580448561085817,-0.008992288472310185,-0.005806966509355723,-0.013008803823792216,0.012620814854678582,-5.663584851973128e-05,0.005739614663164985,0.01315903303954498,0.006846210906743166,0.0012936270803034224,-0.00877928263909889,0.015368519952391257,0.009837402997215788,0.001432764086151076,-0.004925246174375399,-0.01980585491356386,0.006376336382580139,0.010440982992543906,0.014539803356105167,0.0014630710953908023,0.009092708862640648,0.006216827694165108,0.026378404364059832,-0.02599655977789096,-0.00797262928316731,-0.04370712510313888,0.008948733557510828,0.005903196365076965,0.001380025189937338,-0.26263675840772405,1.0,-0.25432723538631563,-0.25526619572537823],[0.019070011362161295,0.017267755325035355,-0.011266217259513173,-0.009706122774121643,-0.02506628034377073,0.00012519377722110297,0.014741321265487137,0.0013966748568395868,0.04995247494093278,0.02285232599781445,0.010042065902337827,0.008122607804253572,-0.006747969992573364,-0.007257180079319836,0.011519370822521963,0.0016173510056982398,0.011809177406386902,-0.008055082841378507,0.002688177371078675,7.229090060755626e-05,0.0009284186763474926,0.0007392951551827003,0.00630498548141018,0.0012632676079110045,-0.008284101252332476,-0.006539075120566138,0.0032274523341922438,-0.013144619849191118,0.0007348751344868192,0.004285180168168178,0.009353145805147015,-0.011218955064262986,0.0025196284921608116,0.014070181983870418,-0.009898256667768304,0.01760132011569155,-0.01354965062113238,0.01751850796385821,0.013669433704797684,0.0016040007155267164,0.0033641494709197328,0.003173614954994616,-0.2523478500198125,-0.25432723538631563,1.0,-0.24526603231233698],[-0.02366376376332965,-0.004235193835511691,0.0015652781174248951,-0.0022517571540627466,-0.021140763381002292,-0.003979496766905717,0.026791325408163553,0.012433528538534007,0.023744975664434204,0.030206021619917502,0.023283615843210998,0.006289518807382537,0.02062625944595091,-0.0035080078943050892,0.0017737659432900043,0.0017541965323790076,0.0017151481596459242,-0.013269026469077828,-0.004682465889963905,-0.0024740808659757096,-0.008117878106849651,-0.005237694171131305,0.0032913001655909178,-0.004111933151052727,0.005920657340234603,-0.0024980523408184665,0.012355502942479939,0.01255703479023005,0.0026018519025927055,-0.004539816541007673,-0.009173854543396335,-0.00560257364846128,-0.016645753843454212,0.003925569643113726,-0.0008760221287101791,0.006566194206954207,-0.012282497877810524,-0.02018820358795034,0.026303885632625132,0.010812467464558443,-0.0030953932886255,0.006474109503785047,-0.2532795025911794,-0.25526619572537823,-0.24526603231233698,1.0]],\"type\":\"heatmap\",\"xaxis\":\"x\",\"yaxis\":\"y\",\"hovertemplate\":\"x: %{x}<br>y: %{y}<br>color: %{z}<extra></extra>\"}],                        {\"template\":{\"data\":{\"histogram2dcontour\":[{\"type\":\"histogram2dcontour\",\"colorbar\":{\"outlinewidth\":0,\"ticks\":\"\"},\"colorscale\":[[0.0,\"#0d0887\"],[0.1111111111111111,\"#46039f\"],[0.2222222222222222,\"#7201a8\"],[0.3333333333333333,\"#9c179e\"],[0.4444444444444444,\"#bd3786\"],[0.5555555555555556,\"#d8576b\"],[0.6666666666666666,\"#ed7953\"],[0.7777777777777778,\"#fb9f3a\"],[0.8888888888888888,\"#fdca26\"],[1.0,\"#f0f921\"]]}],\"choropleth\":[{\"type\":\"choropleth\",\"colorbar\":{\"outlinewidth\":0,\"ticks\":\"\"}}],\"histogram2d\":[{\"type\":\"histogram2d\",\"colorbar\":{\"outlinewidth\":0,\"ticks\":\"\"},\"colorscale\":[[0.0,\"#0d0887\"],[0.1111111111111111,\"#46039f\"],[0.2222222222222222,\"#7201a8\"],[0.3333333333333333,\"#9c179e\"],[0.4444444444444444,\"#bd3786\"],[0.5555555555555556,\"#d8576b\"],[0.6666666666666666,\"#ed7953\"],[0.7777777777777778,\"#fb9f3a\"],[0.8888888888888888,\"#fdca26\"],[1.0,\"#f0f921\"]]}],\"heatmap\":[{\"type\":\"heatmap\",\"colorbar\":{\"outlinewidth\":0,\"ticks\":\"\"},\"colorscale\":[[0.0,\"#0d0887\"],[0.1111111111111111,\"#46039f\"],[0.2222222222222222,\"#7201a8\"],[0.3333333333333333,\"#9c179e\"],[0.4444444444444444,\"#bd3786\"],[0.5555555555555556,\"#d8576b\"],[0.6666666666666666,\"#ed7953\"],[0.7777777777777778,\"#fb9f3a\"],[0.8888888888888888,\"#fdca26\"],[1.0,\"#f0f921\"]]}],\"heatmapgl\":[{\"type\":\"heatmapgl\",\"colorbar\":{\"outlinewidth\":0,\"ticks\":\"\"},\"colorscale\":[[0.0,\"#0d0887\"],[0.1111111111111111,\"#46039f\"],[0.2222222222222222,\"#7201a8\"],[0.3333333333333333,\"#9c179e\"],[0.4444444444444444,\"#bd3786\"],[0.5555555555555556,\"#d8576b\"],[0.6666666666666666,\"#ed7953\"],[0.7777777777777778,\"#fb9f3a\"],[0.8888888888888888,\"#fdca26\"],[1.0,\"#f0f921\"]]}],\"contourcarpet\":[{\"type\":\"contourcarpet\",\"colorbar\":{\"outlinewidth\":0,\"ticks\":\"\"}}],\"contour\":[{\"type\":\"contour\",\"colorbar\":{\"outlinewidth\":0,\"ticks\":\"\"},\"colorscale\":[[0.0,\"#0d0887\"],[0.1111111111111111,\"#46039f\"],[0.2222222222222222,\"#7201a8\"],[0.3333333333333333,\"#9c179e\"],[0.4444444444444444,\"#bd3786\"],[0.5555555555555556,\"#d8576b\"],[0.6666666666666666,\"#ed7953\"],[0.7777777777777778,\"#fb9f3a\"],[0.8888888888888888,\"#fdca26\"],[1.0,\"#f0f921\"]]}],\"surface\":[{\"type\":\"surface\",\"colorbar\":{\"outlinewidth\":0,\"ticks\":\"\"},\"colorscale\":[[0.0,\"#0d0887\"],[0.1111111111111111,\"#46039f\"],[0.2222222222222222,\"#7201a8\"],[0.3333333333333333,\"#9c179e\"],[0.4444444444444444,\"#bd3786\"],[0.5555555555555556,\"#d8576b\"],[0.6666666666666666,\"#ed7953\"],[0.7777777777777778,\"#fb9f3a\"],[0.8888888888888888,\"#fdca26\"],[1.0,\"#f0f921\"]]}],\"mesh3d\":[{\"type\":\"mesh3d\",\"colorbar\":{\"outlinewidth\":0,\"ticks\":\"\"}}],\"scatter\":[{\"fillpattern\":{\"fillmode\":\"overlay\",\"size\":10,\"solidity\":0.2},\"type\":\"scatter\"}],\"parcoords\":[{\"type\":\"parcoords\",\"line\":{\"colorbar\":{\"outlinewidth\":0,\"ticks\":\"\"}}}],\"scatterpolargl\":[{\"type\":\"scatterpolargl\",\"marker\":{\"colorbar\":{\"outlinewidth\":0,\"ticks\":\"\"}}}],\"bar\":[{\"error_x\":{\"color\":\"#2a3f5f\"},\"error_y\":{\"color\":\"#2a3f5f\"},\"marker\":{\"line\":{\"color\":\"#E5ECF6\",\"width\":0.5},\"pattern\":{\"fillmode\":\"overlay\",\"size\":10,\"solidity\":0.2}},\"type\":\"bar\"}],\"scattergeo\":[{\"type\":\"scattergeo\",\"marker\":{\"colorbar\":{\"outlinewidth\":0,\"ticks\":\"\"}}}],\"scatterpolar\":[{\"type\":\"scatterpolar\",\"marker\":{\"colorbar\":{\"outlinewidth\":0,\"ticks\":\"\"}}}],\"histogram\":[{\"marker\":{\"pattern\":{\"fillmode\":\"overlay\",\"size\":10,\"solidity\":0.2}},\"type\":\"histogram\"}],\"scattergl\":[{\"type\":\"scattergl\",\"marker\":{\"colorbar\":{\"outlinewidth\":0,\"ticks\":\"\"}}}],\"scatter3d\":[{\"type\":\"scatter3d\",\"line\":{\"colorbar\":{\"outlinewidth\":0,\"ticks\":\"\"}},\"marker\":{\"colorbar\":{\"outlinewidth\":0,\"ticks\":\"\"}}}],\"scattermapbox\":[{\"type\":\"scattermapbox\",\"marker\":{\"colorbar\":{\"outlinewidth\":0,\"ticks\":\"\"}}}],\"scatterternary\":[{\"type\":\"scatterternary\",\"marker\":{\"colorbar\":{\"outlinewidth\":0,\"ticks\":\"\"}}}],\"scattercarpet\":[{\"type\":\"scattercarpet\",\"marker\":{\"colorbar\":{\"outlinewidth\":0,\"ticks\":\"\"}}}],\"carpet\":[{\"aaxis\":{\"endlinecolor\":\"#2a3f5f\",\"gridcolor\":\"white\",\"linecolor\":\"white\",\"minorgridcolor\":\"white\",\"startlinecolor\":\"#2a3f5f\"},\"baxis\":{\"endlinecolor\":\"#2a3f5f\",\"gridcolor\":\"white\",\"linecolor\":\"white\",\"minorgridcolor\":\"white\",\"startlinecolor\":\"#2a3f5f\"},\"type\":\"carpet\"}],\"table\":[{\"cells\":{\"fill\":{\"color\":\"#EBF0F8\"},\"line\":{\"color\":\"white\"}},\"header\":{\"fill\":{\"color\":\"#C8D4E3\"},\"line\":{\"color\":\"white\"}},\"type\":\"table\"}],\"barpolar\":[{\"marker\":{\"line\":{\"color\":\"#E5ECF6\",\"width\":0.5},\"pattern\":{\"fillmode\":\"overlay\",\"size\":10,\"solidity\":0.2}},\"type\":\"barpolar\"}],\"pie\":[{\"automargin\":true,\"type\":\"pie\"}]},\"layout\":{\"autotypenumbers\":\"strict\",\"colorway\":[\"#636efa\",\"#EF553B\",\"#00cc96\",\"#ab63fa\",\"#FFA15A\",\"#19d3f3\",\"#FF6692\",\"#B6E880\",\"#FF97FF\",\"#FECB52\"],\"font\":{\"color\":\"#2a3f5f\"},\"hovermode\":\"closest\",\"hoverlabel\":{\"align\":\"left\"},\"paper_bgcolor\":\"white\",\"plot_bgcolor\":\"#E5ECF6\",\"polar\":{\"bgcolor\":\"#E5ECF6\",\"angularaxis\":{\"gridcolor\":\"white\",\"linecolor\":\"white\",\"ticks\":\"\"},\"radialaxis\":{\"gridcolor\":\"white\",\"linecolor\":\"white\",\"ticks\":\"\"}},\"ternary\":{\"bgcolor\":\"#E5ECF6\",\"aaxis\":{\"gridcolor\":\"white\",\"linecolor\":\"white\",\"ticks\":\"\"},\"baxis\":{\"gridcolor\":\"white\",\"linecolor\":\"white\",\"ticks\":\"\"},\"caxis\":{\"gridcolor\":\"white\",\"linecolor\":\"white\",\"ticks\":\"\"}},\"coloraxis\":{\"colorbar\":{\"outlinewidth\":0,\"ticks\":\"\"}},\"colorscale\":{\"sequential\":[[0.0,\"#0d0887\"],[0.1111111111111111,\"#46039f\"],[0.2222222222222222,\"#7201a8\"],[0.3333333333333333,\"#9c179e\"],[0.4444444444444444,\"#bd3786\"],[0.5555555555555556,\"#d8576b\"],[0.6666666666666666,\"#ed7953\"],[0.7777777777777778,\"#fb9f3a\"],[0.8888888888888888,\"#fdca26\"],[1.0,\"#f0f921\"]],\"sequentialminus\":[[0.0,\"#0d0887\"],[0.1111111111111111,\"#46039f\"],[0.2222222222222222,\"#7201a8\"],[0.3333333333333333,\"#9c179e\"],[0.4444444444444444,\"#bd3786\"],[0.5555555555555556,\"#d8576b\"],[0.6666666666666666,\"#ed7953\"],[0.7777777777777778,\"#fb9f3a\"],[0.8888888888888888,\"#fdca26\"],[1.0,\"#f0f921\"]],\"diverging\":[[0,\"#8e0152\"],[0.1,\"#c51b7d\"],[0.2,\"#de77ae\"],[0.3,\"#f1b6da\"],[0.4,\"#fde0ef\"],[0.5,\"#f7f7f7\"],[0.6,\"#e6f5d0\"],[0.7,\"#b8e186\"],[0.8,\"#7fbc41\"],[0.9,\"#4d9221\"],[1,\"#276419\"]]},\"xaxis\":{\"gridcolor\":\"white\",\"linecolor\":\"white\",\"ticks\":\"\",\"title\":{\"standoff\":15},\"zerolinecolor\":\"white\",\"automargin\":true,\"zerolinewidth\":2},\"yaxis\":{\"gridcolor\":\"white\",\"linecolor\":\"white\",\"ticks\":\"\",\"title\":{\"standoff\":15},\"zerolinecolor\":\"white\",\"automargin\":true,\"zerolinewidth\":2},\"scene\":{\"xaxis\":{\"backgroundcolor\":\"#E5ECF6\",\"gridcolor\":\"white\",\"linecolor\":\"white\",\"showbackground\":true,\"ticks\":\"\",\"zerolinecolor\":\"white\",\"gridwidth\":2},\"yaxis\":{\"backgroundcolor\":\"#E5ECF6\",\"gridcolor\":\"white\",\"linecolor\":\"white\",\"showbackground\":true,\"ticks\":\"\",\"zerolinecolor\":\"white\",\"gridwidth\":2},\"zaxis\":{\"backgroundcolor\":\"#E5ECF6\",\"gridcolor\":\"white\",\"linecolor\":\"white\",\"showbackground\":true,\"ticks\":\"\",\"zerolinecolor\":\"white\",\"gridwidth\":2}},\"shapedefaults\":{\"line\":{\"color\":\"#2a3f5f\"}},\"annotationdefaults\":{\"arrowcolor\":\"#2a3f5f\",\"arrowhead\":0,\"arrowwidth\":1},\"geo\":{\"bgcolor\":\"white\",\"landcolor\":\"#E5ECF6\",\"subunitcolor\":\"white\",\"showland\":true,\"showlakes\":true,\"lakecolor\":\"white\"},\"title\":{\"x\":0.05},\"mapbox\":{\"style\":\"light\"}}},\"xaxis\":{\"anchor\":\"y\",\"domain\":[0.0,1.0],\"scaleanchor\":\"y\",\"constrain\":\"domain\",\"title\":{\"text\":\"Features\"}},\"yaxis\":{\"anchor\":\"x\",\"domain\":[0.0,1.0],\"autorange\":\"reversed\",\"constrain\":\"domain\",\"title\":{\"text\":\"Features\"}},\"coloraxis\":{\"colorscale\":[[0.0,\"#440154\"],[0.1111111111111111,\"#482878\"],[0.2222222222222222,\"#3e4989\"],[0.3333333333333333,\"#31688e\"],[0.4444444444444444,\"#26828e\"],[0.5555555555555556,\"#1f9e89\"],[0.6666666666666666,\"#35b779\"],[0.7777777777777778,\"#6ece58\"],[0.8888888888888888,\"#b5de2b\"],[1.0,\"#fde725\"]]},\"margin\":{\"t\":60},\"title\":{\"text\":\"Correlation Heatmap\"},\"height\":1200,\"width\":1200},                        {\"responsive\": true}                    ).then(function(){\n",
       "                            \n",
       "var gd = document.getElementById('e90e7ed3-6ebd-434a-bf46-5129cacd27a3');\n",
       "var x = new MutationObserver(function (mutations, observer) {{\n",
       "        var display = window.getComputedStyle(gd).display;\n",
       "        if (!display || display === 'none') {{\n",
       "            console.log([gd, 'removed!']);\n",
       "            Plotly.purge(gd);\n",
       "            observer.disconnect();\n",
       "        }}\n",
       "}});\n",
       "\n",
       "// Listen for the removal of the full notebook cells\n",
       "var notebookContainer = gd.closest('#notebook-container');\n",
       "if (notebookContainer) {{\n",
       "    x.observe(notebookContainer, {childList: true});\n",
       "}}\n",
       "\n",
       "// Listen for the clearing of the current output cell\n",
       "var outputEl = gd.closest('.output');\n",
       "if (outputEl) {{\n",
       "    x.observe(outputEl, {childList: true});\n",
       "}}\n",
       "\n",
       "                        })                };                });            </script>        </div>"
      ]
     },
     "metadata": {},
     "output_type": "display_data"
    }
   ],
   "source": [
    "import plotly.express as px\n",
    "\n",
    "\n",
    "# Create a heatmap figure using Plotly\n",
    "fig = px.imshow(correlation_matrix, color_continuous_scale='viridis')\n",
    "\n",
    "# Set axis labels and title\n",
    "fig.update_xaxes(title_text='Features')\n",
    "fig.update_yaxes(title_text='Features')\n",
    "fig.update_layout(\n",
    "    title='Correlation Heatmap',\n",
    "    height=1200,  # Set the height of the figure\n",
    "    width=1200    # Set the width of the figure\n",
    ")\n",
    "\n",
    "# Save the plot as an HTML file\n",
    "fig.write_html('correlation_heatmap.html')\n",
    "\n",
    "# Display the plot (optional)\n",
    "fig.show()\n",
    "fig.write_image('images/heatmap.png')"
   ]
  },
  {
   "cell_type": "markdown",
   "metadata": {},
   "source": [
    "__Lets look at the features that are highly correlated with `y`__"
   ]
  },
  {
   "cell_type": "code",
   "execution_count": 31,
   "metadata": {
    "tags": []
   },
   "outputs": [
    {
     "data": {
      "text/plain": [
       "y                                1.000000\n",
       "nr.employed                      0.354669\n",
       "euribor3m                        0.307740\n",
       "emp.var.rate                     0.298289\n",
       "previous                         0.230202\n",
       "month_mar                        0.144027\n",
       "month_oct                        0.137538\n",
       "cons.price.idx                   0.136134\n",
       "month_sep                        0.126079\n",
       "month_may                        0.108278\n",
       "job_student                      0.093962\n",
       "job_retired                      0.092364\n",
       "month_dec                        0.079311\n",
       "job_blue-collar                  0.074431\n",
       "campaign                         0.066361\n",
       "cons.conf.idx                    0.054802\n",
       "marital_single                   0.054209\n",
       "education_university.degree      0.050267\n",
       "education_basic.9y               0.045152\n",
       "marital_married                  0.043476\n",
       "month_jul                        0.032344\n",
       "job_services                     0.032262\n",
       "age                              0.030381\n",
       "education_basic.6y               0.023493\n",
       "education_unknown                0.021476\n",
       "day_of_week_mon                  0.021241\n",
       "job_entrepreneur                 0.016651\n",
       "job_unemployed                   0.014749\n",
       "day_of_week_thu                  0.013797\n",
       "housing                          0.011804\n",
       "month_nov                        0.011779\n",
       "month_jun                        0.009193\n",
       "month_aug                        0.008778\n",
       "day_of_week_tue                  0.008123\n",
       "education_high.school            0.007408\n",
       "education_illiterate             0.007246\n",
       "job_housemaid                    0.006510\n",
       "day_of_week_wed                  0.006290\n",
       "job_technician                   0.006069\n",
       "marital_unknown                  0.005210\n",
       "job_self-employed                0.004668\n",
       "loan                             0.004478\n",
       "default                          0.003042\n",
       "education_professional.course    0.001071\n",
       "job_management                   0.000426\n",
       "job_unknown                      0.000154\n",
       "Name: y, dtype: float64"
      ]
     },
     "execution_count": 31,
     "metadata": {},
     "output_type": "execute_result"
    }
   ],
   "source": [
    "sorted_corr_matrix_protocolName = correlation_matrix['y'].abs().sort_values(ascending=False)\n",
    "sorted_corr_matrix_protocolName"
   ]
  },
  {
   "cell_type": "markdown",
   "metadata": {
    "tags": []
   },
   "source": [
    "##### __Create a Feature extractor which also uses LogisticRegression__\n",
    "\n",
    "`extractor = SelectFromModel(LogisticRegression(penalty='l1', solver = 'liblinear' ,random_state = 42))`\n",
    "\n",
    "__NOTE__: For now the above extractor is not being used as it significantly increases the time of execution for the various classifiers while doing GridSearch"
   ]
  },
  {
   "cell_type": "code",
   "execution_count": 32,
   "metadata": {
    "tags": []
   },
   "outputs": [],
   "source": [
    "grid_models = []\n",
    "grid_trainTimes = []\n",
    "grid_trainAcc = []\n",
    "grid_testAcc = []"
   ]
  },
  {
   "cell_type": "code",
   "execution_count": 33,
   "metadata": {
    "tags": []
   },
   "outputs": [],
   "source": [
    "## Display Confusion Matrix\n",
    "def displayConfusionMatrix(title, preds, y_test):\n",
    "    confusion_mat = confusion_matrix(y_test, preds, labels=[True, False])\n",
    "    disp = ConfusionMatrixDisplay(confusion_matrix=confusion_mat)\n",
    "    disp.plot()\n",
    "    acc = accuracy_score(y_test, preds)\n",
    "    \n",
    "    class_report = classification_report(y_test, preds)\n",
    "    print(f\"\\nClassification Report: {title}\")\n",
    "    print(class_report)\n",
    "    plt.show()\n",
    "    \n",
    "def displayStuff(title, model, X_test, y_test):\n",
    "    preds = model.predict(X_test)\n",
    "    displayConfusionMatrix(title, preds, y_test)"
   ]
  },
  {
   "cell_type": "code",
   "execution_count": 34,
   "metadata": {
    "tags": []
   },
   "outputs": [],
   "source": [
    "## Create a pipeline with the passed in model tuple and fit it. \n",
    "## Measure the time taken to fit and test/train accuracies.\n",
    "## Display confusion matrix\n",
    "def gridSearchFitModel(modelString, modelParams, modelTuple, X_train, y_train, X_test, y_test):\n",
    "    pipe = Pipeline([('scaler', StandardScaler()),\n",
    "                     #('selector', extractor),\n",
    "                     modelTuple])\n",
    "\n",
    "    grid = GridSearchCV(pipe, param_grid=modelParams, scoring='roc_auc')\n",
    "    start = time.time()\n",
    "    grid.fit(X_train, y_train)\n",
    "    end = time.time()\n",
    "    timeDiff = end - start\n",
    "    grid_models.append(modelString)\n",
    "    grid_trainTimes.append(timeDiff)\n",
    "    grid_trainAcc.append(grid.score(X_train, y_train))\n",
    "    grid_testAcc.append(grid.score(X_test, y_test))\n",
    "    displayStuff(modelString, grid, X_test, y_test)\n",
    "    return grid"
   ]
  },
  {
   "cell_type": "code",
   "execution_count": 35,
   "metadata": {},
   "outputs": [
    {
     "name": "stdout",
     "output_type": "stream",
     "text": [
      "\n",
      "Classification Report: KNN\n",
      "              precision    recall  f1-score   support\n",
      "\n",
      "           0       0.90      0.99      0.94      9134\n",
      "           1       0.59      0.10      0.17      1160\n",
      "\n",
      "    accuracy                           0.89     10294\n",
      "   macro avg       0.74      0.55      0.56     10294\n",
      "weighted avg       0.86      0.89      0.86     10294\n",
      "\n"
     ]
    },
    {
     "data": {
      "image/png": "[encoded data removed]",
      "text/plain": [
       "<Figure size 640x480 with 2 Axes>"
      ]
     },
     "metadata": {},
     "output_type": "display_data"
    }
   ],
   "source": [
    "param_grid_knn = {\n",
    "    'knn__n_neighbors': [5, 10, 20, 50],\n",
    "    'knn__weights': ['uniform', 'distance'],\n",
    "    'knn__p': [1, 2]\n",
    "}\n",
    "knn_grid = gridSearchFitModel('KNN', param_grid_knn, ('knn', KNeighborsClassifier()), X_train, y_train, X_test, y_test)"
   ]
  },
  {
   "cell_type": "code",
   "execution_count": 36,
   "metadata": {
    "tags": []
   },
   "outputs": [
    {
     "name": "stdout",
     "output_type": "stream",
     "text": [
      "\n",
      "Classification Report: DecisionTree\n",
      "              precision    recall  f1-score   support\n",
      "\n",
      "           0       0.91      0.98      0.94      9134\n",
      "           1       0.56      0.24      0.34      1160\n",
      "\n",
      "    accuracy                           0.89     10294\n",
      "   macro avg       0.74      0.61      0.64     10294\n",
      "weighted avg       0.87      0.89      0.87     10294\n",
      "\n"
     ]
    },
    {
     "data": {
      "image/png": "[encoded data removed]",
      "text/plain": [
       "<Figure size 640x480 with 2 Axes>"
      ]
     },
     "metadata": {},
     "output_type": "display_data"
    }
   ],
   "source": [
    "param_grid_dt = {\n",
    "    'dt__criterion': ['gini', 'entropy', 'log_loss'],\n",
    "    'dt__max_depth': [2, 5, 10, 20, 30, None],\n",
    "    'dt__min_samples_split': [2, 5, 10],\n",
    "    'dt__min_samples_leaf': [1, 2, 4],\n",
    "    'dt__min_impurity_decrease': [0.0, 0.01, 0.02, 0.03, 0.05]\n",
    "}\n",
    "dt_grid = gridSearchFitModel('DecisionTree', param_grid_dt, ('dt', DecisionTreeClassifier()), X_train, y_train, X_test, y_test)"
   ]
  },
  {
   "cell_type": "code",
   "execution_count": 37,
   "metadata": {
    "tags": []
   },
   "outputs": [
    {
     "name": "stderr",
     "output_type": "stream",
     "text": [
      "/Users/venkit/anaconda3/lib/python3.11/site-packages/sklearn/model_selection/_validation.py:425: FitFailedWarning:\n",
      "\n",
      "\n",
      "45 fits failed out of a total of 180.\n",
      "The score on these train-test partitions for these parameters will be set to nan.\n",
      "If these failures are not expected, you can try to debug them by setting error_score='raise'.\n",
      "\n",
      "Below are more details about the failures:\n",
      "--------------------------------------------------------------------------------\n",
      "45 fits failed with the following error:\n",
      "Traceback (most recent call last):\n",
      "  File \"/Users/venkit/anaconda3/lib/python3.11/site-packages/sklearn/model_selection/_validation.py\", line 732, in _fit_and_score\n",
      "    estimator.fit(X_train, y_train, **fit_params)\n",
      "  File \"/Users/venkit/anaconda3/lib/python3.11/site-packages/sklearn/base.py\", line 1151, in wrapper\n",
      "    return fit_method(estimator, *args, **kwargs)\n",
      "           ^^^^^^^^^^^^^^^^^^^^^^^^^^^^^^^^^^^^^^\n",
      "  File \"/Users/venkit/anaconda3/lib/python3.11/site-packages/sklearn/pipeline.py\", line 420, in fit\n",
      "    self._final_estimator.fit(Xt, y, **fit_params_last_step)\n",
      "  File \"/Users/venkit/anaconda3/lib/python3.11/site-packages/sklearn/base.py\", line 1151, in wrapper\n",
      "    return fit_method(estimator, *args, **kwargs)\n",
      "           ^^^^^^^^^^^^^^^^^^^^^^^^^^^^^^^^^^^^^^\n",
      "  File \"/Users/venkit/anaconda3/lib/python3.11/site-packages/sklearn/linear_model/_logistic.py\", line 1168, in fit\n",
      "    solver = _check_solver(self.solver, self.penalty, self.dual)\n",
      "             ^^^^^^^^^^^^^^^^^^^^^^^^^^^^^^^^^^^^^^^^^^^^^^^^^^^\n",
      "  File \"/Users/venkit/anaconda3/lib/python3.11/site-packages/sklearn/linear_model/_logistic.py\", line 56, in _check_solver\n",
      "    raise ValueError(\n",
      "ValueError: Solver lbfgs supports only 'l2' or 'none' penalties, got l1 penalty.\n",
      "\n",
      "\n",
      "/Users/venkit/anaconda3/lib/python3.11/site-packages/sklearn/model_selection/_search.py:976: UserWarning:\n",
      "\n",
      "One or more of the test scores are non-finite: [       nan 0.77773193 0.7772907  0.77727072        nan 0.77772894\n",
      " 0.7772907  0.77727072        nan 0.77773073 0.7772907  0.77727072\n",
      "        nan 0.77664527 0.77661893 0.77661437        nan 0.77664395\n",
      " 0.77661893 0.77661437        nan 0.77663981 0.77661893 0.77661437\n",
      "        nan 0.77646734 0.77645307 0.77645307        nan 0.77647006\n",
      " 0.77645307 0.77645307        nan 0.77647016 0.77645307 0.77645307]\n",
      "\n"
     ]
    },
    {
     "name": "stdout",
     "output_type": "stream",
     "text": [
      "\n",
      "Classification Report: Logistic Regression\n",
      "              precision    recall  f1-score   support\n",
      "\n",
      "           0       0.90      0.98      0.94      9134\n",
      "           1       0.53      0.14      0.22      1160\n",
      "\n",
      "    accuracy                           0.89     10294\n",
      "   macro avg       0.72      0.56      0.58     10294\n",
      "weighted avg       0.86      0.89      0.86     10294\n",
      "\n"
     ]
    },
    {
     "data": {
      "image/png": "[encoded data removed]",
      "text/plain": [
       "<Figure size 640x480 with 2 Axes>"
      ]
     },
     "metadata": {},
     "output_type": "display_data"
    }
   ],
   "source": [
    "param_grid_logistic = {\n",
    "    'lgt__C': [0.1, 1, 10],       \n",
    "    'lgt__penalty': ['l1', 'l2'],  \n",
    "    'lgt__solver': ['lbfgs', 'liblinear'],\n",
    "    'lgt__max_iter': [100, 1000, 2000],\n",
    "}\n",
    "lg_grid = gridSearchFitModel('Logistic Regression', param_grid_logistic, ('lgt', LogisticRegression()), X_train, y_train, X_test, y_test)"
   ]
  },
  {
   "cell_type": "code",
   "execution_count": 38,
   "metadata": {
    "tags": []
   },
   "outputs": [
    {
     "name": "stdout",
     "output_type": "stream",
     "text": [
      "\n",
      "Classification Report: SVM\n",
      "              precision    recall  f1-score   support\n",
      "\n",
      "           0       0.90      0.98      0.94      9134\n",
      "           1       0.57      0.18      0.28      1160\n",
      "\n",
      "    accuracy                           0.89     10294\n",
      "   macro avg       0.74      0.58      0.61     10294\n",
      "weighted avg       0.87      0.89      0.87     10294\n",
      "\n"
     ]
    },
    {
     "data": {
      "image/png": "[encoded data removed]",
      "text/plain": [
       "<Figure size 640x480 with 2 Axes>"
      ]
     },
     "metadata": {},
     "output_type": "display_data"
    }
   ],
   "source": [
    "params_grid_svc = {'svc__kernel': ['rbf', 'sigmoid'],\n",
    "                   'svc__gamma': ['scale', 'auto']}\n",
    "svm_grid = gridSearchFitModel('SVM', params_grid_svc, ('svc', SVC()), X_train, y_train, X_test, y_test)"
   ]
  },
  {
   "cell_type": "markdown",
   "metadata": {},
   "source": [
    "#### __ROC Curves__"
   ]
  },
  {
   "cell_type": "code",
   "execution_count": 39,
   "metadata": {
    "tags": []
   },
   "outputs": [
    {
     "data": {
      "image/png": "[encoded data removed]",
      "text/plain": [
       "<Figure size 640x480 with 1 Axes>"
      ]
     },
     "metadata": {},
     "output_type": "display_data"
    }
   ],
   "source": [
    "from sklearn.metrics import RocCurveDisplay\n",
    "fig, ax = plt.subplots()\n",
    "RocCurveDisplay.from_estimator(knn_grid, X_test, y_test, ax = ax, label = 'KNN')\n",
    "RocCurveDisplay.from_estimator(dt_grid, X_test, y_test, ax = ax, label = 'Decision Tree')\n",
    "RocCurveDisplay.from_estimator(lg_grid, X_test, y_test, ax = ax, label = 'Logistic Regression')\n",
    "RocCurveDisplay.from_estimator(svm_grid, X_test, y_test, ax = ax, label = 'SVM')\n",
    "\n",
    "plt.grid()\n",
    "plt.plot(np.arange(0, 1.1, .1), np.arange(0, 1.1, .1), label = 'baseline');\n",
    "plt.title('RocCurveDisplay')\n",
    "plt.legend();"
   ]
  },
  {
   "cell_type": "code",
   "execution_count": 40,
   "metadata": {
    "tags": []
   },
   "outputs": [
    {
     "data": {
      "text/html": [
       "<div>\n",
       "<style scoped>\n",
       "    .dataframe tbody tr th:only-of-type {\n",
       "        vertical-align: middle;\n",
       "    }\n",
       "\n",
       "    .dataframe tbody tr th {\n",
       "        vertical-align: top;\n",
       "    }\n",
       "\n",
       "    .dataframe thead th {\n",
       "        text-align: right;\n",
       "    }\n",
       "</style>\n",
       "<table border=\"1\" class=\"dataframe\">\n",
       "  <thead>\n",
       "    <tr style=\"text-align: right;\">\n",
       "      <th></th>\n",
       "      <th>GridSearch+Train Time</th>\n",
       "      <th>Train Accuracy</th>\n",
       "      <th>Test Accuracy</th>\n",
       "    </tr>\n",
       "    <tr>\n",
       "      <th>Model</th>\n",
       "      <th></th>\n",
       "      <th></th>\n",
       "      <th></th>\n",
       "    </tr>\n",
       "  </thead>\n",
       "  <tbody>\n",
       "    <tr>\n",
       "      <th>KNN</th>\n",
       "      <td>30.435293</td>\n",
       "      <td>0.822454</td>\n",
       "      <td>0.781147</td>\n",
       "    </tr>\n",
       "    <tr>\n",
       "      <th>DecisionTree</th>\n",
       "      <td>147.479297</td>\n",
       "      <td>0.783091</td>\n",
       "      <td>0.796397</td>\n",
       "    </tr>\n",
       "    <tr>\n",
       "      <th>Logistic Regression</th>\n",
       "      <td>124.186723</td>\n",
       "      <td>0.780910</td>\n",
       "      <td>0.793920</td>\n",
       "    </tr>\n",
       "    <tr>\n",
       "      <th>SVM</th>\n",
       "      <td>309.041585</td>\n",
       "      <td>0.871272</td>\n",
       "      <td>0.710263</td>\n",
       "    </tr>\n",
       "  </tbody>\n",
       "</table>\n",
       "</div>"
      ],
      "text/plain": [
       "                     GridSearch+Train Time  Train Accuracy  Test Accuracy\n",
       "Model                                                                    \n",
       "KNN                              30.435293        0.822454       0.781147\n",
       "DecisionTree                    147.479297        0.783091       0.796397\n",
       "Logistic Regression             124.186723        0.780910       0.793920\n",
       "SVM                             309.041585        0.871272       0.710263"
      ]
     },
     "execution_count": 40,
     "metadata": {},
     "output_type": "execute_result"
    }
   ],
   "source": [
    "grid_dict = {'Model': grid_models,\n",
    "             'GridSearch+Train Time': grid_trainTimes,\n",
    "             'Train Accuracy': grid_trainAcc,\n",
    "             'Test Accuracy': grid_testAcc}\n",
    "grid_df = pd.DataFrame(grid_dict).set_index('Model')\n",
    "grid_df"
   ]
  },
  {
   "cell_type": "markdown",
   "metadata": {},
   "source": [
    "#### __Model Comparison__\n",
    "\n",
    "Looking at the precision/recall tradeoff (using the area under the ROC curve)\n",
    "\n",
    "- Both `Decision Tree` and `Logistic Regression` perform quite well.\n",
    "- The time taken to GridSearch and train for `Logistic Regression` was lower\n",
    "- `KNN` did really great in terms of GridSearch+Train time and is not too bad in terms of `area under the curve`\n",
    "- `SVM` did poorly in all respects"
   ]
  },
  {
   "cell_type": "code",
   "execution_count": null,
   "metadata": {},
   "outputs": [],
   "source": []
  },
  {
   "cell_type": "code",
   "execution_count": null,
   "metadata": {},
   "outputs": [],
   "source": []
  },
  {
   "cell_type": "code",
   "execution_count": null,
   "metadata": {},
   "outputs": [],
   "source": []
  },
  {
   "cell_type": "markdown",
   "metadata": {},
   "source": [
    "##### Questions"
   ]
  }
 ],
 "metadata": {
  "kernelspec": {
   "display_name": "Python 3 (ipykernel)",
   "language": "python",
   "name": "python3"
  },
  "language_info": {
   "codemirror_mode": {
    "name": "ipython",
    "version": 3
   },
   "file_extension": ".py",
   "mimetype": "text/x-python",
   "name": "python",
   "nbconvert_exporter": "python",
   "pygments_lexer": "ipython3",
   "version": "3.11.5"
  },
  "widgets": {
   "application/vnd.jupyter.widget-state+json": {
    "state": {},
    "version_major": 2,
    "version_minor": 0
   }
  }
 },
 "nbformat": 4,
 "nbformat_minor": 4
}
